{
 "cells": [
  {
   "cell_type": "markdown",
   "id": "23a02f79-8625-476a-9da4-3459b0f4a29d",
   "metadata": {
    "tags": []
   },
   "source": [
    "# Milestone 3"
   ]
  },
  {
   "cell_type": "code",
   "execution_count": 1,
   "id": "bd87f8f4-a1ff-4fa0-967e-666e6a6c3edc",
   "metadata": {
    "tags": []
   },
   "outputs": [],
   "source": [
    "import pandas as pd\n",
    "import seaborn as sns\n",
    "import numpy as np\n",
    "from collections import Counter\n",
    "import matplotlib.pyplot as plt\n",
    "%matplotlib inline\n",
    "import ast \n",
    "\n",
    "from sklearn.model_selection import train_test_split\n",
    "from sklearn.ensemble import RandomForestClassifier\n",
    "from sklearn.metrics import classification_report\n",
    "from sklearn.preprocessing import LabelEncoder\n",
    "import statsmodels.api as sm"
   ]
  },
  {
   "cell_type": "markdown",
   "id": "2da6980b-dbd6-4680-9a0f-35e4a054ce83",
   "metadata": {
    "tags": []
   },
   "source": [
    "## 1. Exploration of the dataset"
   ]
  },
  {
   "cell_type": "markdown",
   "id": "277ce88c-11c0-4741-a517-c0b29632a85a",
   "metadata": {},
   "source": [
    "### Movies metadata"
   ]
  },
  {
   "cell_type": "code",
   "execution_count": 2,
   "id": "deb37dae-d189-45ba-bdd5-f5e5c203e92b",
   "metadata": {
    "tags": []
   },
   "outputs": [],
   "source": [
    "movies = pd.read_table('~/ADA2023/Project/Data/MovieSummaries/movie.metadata.tsv', header=None)\n",
    "movies.columns = ['Wikipedia movie ID','Freebase movie ID','Movie name','Movie release date','Movie box office revenue','Movie runtime','Movie languages','Movie countries','Movie genres']"
   ]
  },
  {
   "cell_type": "code",
   "execution_count": 3,
   "id": "b0e3b450-7e4c-4d39-a769-874174c2234b",
   "metadata": {
    "tags": []
   },
   "outputs": [],
   "source": [
    "# Remove leading and trailing spaces, then parse the dictionaries\n",
    "movies['Movie languages'] = movies['Movie languages'].apply(lambda x: ast.literal_eval(x.strip()) if x.strip() else {})\n",
    "movies['Movie countries'] = movies['Movie countries'].apply(lambda x: ast.literal_eval(x.strip()) if x.strip() else {})\n",
    "movies['Movie genres'] = movies['Movie genres'].apply(lambda x: ast.literal_eval(x.strip()) if x.strip() else {})"
   ]
  },
  {
   "cell_type": "markdown",
   "id": "138db897-7d8f-4307-95d1-dc3e4b40c3d7",
   "metadata": {},
   "source": [
    "### Characters metadata"
   ]
  },
  {
   "cell_type": "code",
   "execution_count": 4,
   "id": "d56a40ab-0cd9-440b-b2ee-78bf4368ad7f",
   "metadata": {
    "tags": []
   },
   "outputs": [],
   "source": [
    "characters = pd.read_table('~/ADA2023/Project/Data/MovieSummaries/character.metadata.tsv', header=None)\n",
    "characters.columns = ['Wikipedia movie ID', 'Freebase movie ID', 'Movie release date','Character name','Actor date of birth','Actor gender','Actor height','Actor ethnicity','Actor name','Actor age at movie release','Freebase character/actor map ID','Freebase character ID','Freebase actor ID']"
   ]
  },
  {
   "cell_type": "markdown",
   "id": "ba701d02-5aa5-49c6-8be0-b109a2c5e822",
   "metadata": {},
   "source": [
    "## 2. Complementary datasets\n",
    "\n",
    "The success can be characterized based on several factors, \n",
    "- Longevity: for how long has the actor been in the film industry? \n",
    "- In how many films the actor has participated?\n",
    "- IMDB ratings:\n",
    "- The Oscars\n",
    "- Google search results\n",
    "- Film revenue\n",
    "- Number of film spectators\n",
    "\n",
    "Some of these indicators require additional datasets. We thus complement our analysis with data on awards, on ratings, and on popularity."
   ]
  },
  {
   "cell_type": "markdown",
   "id": "d7616644-a619-4ced-8b6f-72f41736d32b",
   "metadata": {},
   "source": [
    "## 2.1 [Oscars' winners and nominees](https://datahub.io/rufuspollock/oscars-nominees-and-winners)"
   ]
  },
  {
   "cell_type": "markdown",
   "id": "330865e0-0dca-4cb4-aeb4-0319924c8148",
   "metadata": {},
   "source": [
    "### The dataset"
   ]
  },
  {
   "cell_type": "code",
   "execution_count": 5,
   "id": "4f580fb2-4231-4878-9b50-fffbd5e0d39a",
   "metadata": {
    "tags": []
   },
   "outputs": [],
   "source": [
    "oscars = pd.read_csv('~/ADA2023/Project/Data/oscar_awards.csv')"
   ]
  },
  {
   "cell_type": "code",
   "execution_count": 6,
   "id": "4c9ef681-3278-46db-b463-703c55aa8cba",
   "metadata": {
    "tags": []
   },
   "outputs": [
    {
     "data": {
      "text/plain": [
       "Index(['year', 'category', 'winner', 'entity'], dtype='object')"
      ]
     },
     "execution_count": 6,
     "metadata": {},
     "output_type": "execute_result"
    }
   ],
   "source": [
    "oscars.columns"
   ]
  },
  {
   "cell_type": "markdown",
   "id": "d6e43fb5-f664-4b64-90fb-91f33d64bd5d",
   "metadata": {},
   "source": [
    "**Oscar nominations and awards by gender**"
   ]
  },
  {
   "cell_type": "code",
   "execution_count": 7,
   "id": "8f6d4da3-e808-438c-add4-e6a633d97b34",
   "metadata": {
    "tags": []
   },
   "outputs": [],
   "source": [
    "oscars_actors = oscars[(oscars['category'].str.contains(\"ACTOR\")) | (oscars['category'].str.contains(\"ACTRESS\"))]"
   ]
  },
  {
   "cell_type": "code",
   "execution_count": 8,
   "id": "2d928d5b-1aea-478e-9c3c-1bd9a486b49d",
   "metadata": {
    "tags": []
   },
   "outputs": [
    {
     "name": "stderr",
     "output_type": "stream",
     "text": [
      "/var/folders/2d/tjq3n5693zgf146ztjtxnzr80000gp/T/ipykernel_77876/2439912357.py:4: SettingWithCopyWarning: \n",
      "A value is trying to be set on a copy of a slice from a DataFrame.\n",
      "Try using .loc[row_indexer,col_indexer] = value instead\n",
      "\n",
      "See the caveats in the documentation: https://pandas.pydata.org/pandas-docs/stable/user_guide/indexing.html#returning-a-view-versus-a-copy\n",
      "  oscars_actors.loc[:, 'gender'] = 'Female'\n"
     ]
    }
   ],
   "source": [
    "# Group by gender and year and calculate the number of total observations and winners\n",
    "mask = oscars_actors['category'].str.contains(\"ACTOR\")\n",
    "\n",
    "oscars_actors.loc[:, 'gender'] = 'Female'\n",
    "oscars_actors.loc[mask, 'gender'] = 'Male'\n",
    "\n",
    "oscars_per_year_gender = oscars_actors.groupby(['year', 'gender'])['winner'].agg(['count', 'sum']).reset_index()\n",
    "oscars_per_year_gender = oscars_per_year_gender.rename(columns={'count': 'Nominees', 'sum': 'Winners'})"
   ]
  },
  {
   "cell_type": "code",
   "execution_count": 9,
   "id": "13599248-98a7-4b72-b536-d8c8f8a9b87f",
   "metadata": {
    "tags": []
   },
   "outputs": [
    {
     "data": {
      "text/html": [
       "<div>\n",
       "<style scoped>\n",
       "    .dataframe tbody tr th:only-of-type {\n",
       "        vertical-align: middle;\n",
       "    }\n",
       "\n",
       "    .dataframe tbody tr th {\n",
       "        vertical-align: top;\n",
       "    }\n",
       "\n",
       "    .dataframe thead th {\n",
       "        text-align: right;\n",
       "    }\n",
       "</style>\n",
       "<table border=\"1\" class=\"dataframe\">\n",
       "  <thead>\n",
       "    <tr style=\"text-align: right;\">\n",
       "      <th></th>\n",
       "      <th>year</th>\n",
       "      <th>gender</th>\n",
       "      <th>Nominees</th>\n",
       "      <th>Winners</th>\n",
       "    </tr>\n",
       "  </thead>\n",
       "  <tbody>\n",
       "    <tr>\n",
       "      <th>0</th>\n",
       "      <td>1927</td>\n",
       "      <td>Female</td>\n",
       "      <td>3</td>\n",
       "      <td>1</td>\n",
       "    </tr>\n",
       "    <tr>\n",
       "      <th>1</th>\n",
       "      <td>1927</td>\n",
       "      <td>Male</td>\n",
       "      <td>2</td>\n",
       "      <td>1</td>\n",
       "    </tr>\n",
       "    <tr>\n",
       "      <th>2</th>\n",
       "      <td>1928</td>\n",
       "      <td>Female</td>\n",
       "      <td>6</td>\n",
       "      <td>1</td>\n",
       "    </tr>\n",
       "    <tr>\n",
       "      <th>3</th>\n",
       "      <td>1928</td>\n",
       "      <td>Male</td>\n",
       "      <td>5</td>\n",
       "      <td>1</td>\n",
       "    </tr>\n",
       "    <tr>\n",
       "      <th>4</th>\n",
       "      <td>1929</td>\n",
       "      <td>Female</td>\n",
       "      <td>6</td>\n",
       "      <td>1</td>\n",
       "    </tr>\n",
       "    <tr>\n",
       "      <th>...</th>\n",
       "      <td>...</td>\n",
       "      <td>...</td>\n",
       "      <td>...</td>\n",
       "      <td>...</td>\n",
       "    </tr>\n",
       "    <tr>\n",
       "      <th>175</th>\n",
       "      <td>2015</td>\n",
       "      <td>Male</td>\n",
       "      <td>10</td>\n",
       "      <td>2</td>\n",
       "    </tr>\n",
       "    <tr>\n",
       "      <th>176</th>\n",
       "      <td>2016</td>\n",
       "      <td>Female</td>\n",
       "      <td>10</td>\n",
       "      <td>2</td>\n",
       "    </tr>\n",
       "    <tr>\n",
       "      <th>177</th>\n",
       "      <td>2016</td>\n",
       "      <td>Male</td>\n",
       "      <td>10</td>\n",
       "      <td>2</td>\n",
       "    </tr>\n",
       "    <tr>\n",
       "      <th>178</th>\n",
       "      <td>2017</td>\n",
       "      <td>Female</td>\n",
       "      <td>10</td>\n",
       "      <td>2</td>\n",
       "    </tr>\n",
       "    <tr>\n",
       "      <th>179</th>\n",
       "      <td>2017</td>\n",
       "      <td>Male</td>\n",
       "      <td>10</td>\n",
       "      <td>2</td>\n",
       "    </tr>\n",
       "  </tbody>\n",
       "</table>\n",
       "<p>180 rows × 4 columns</p>\n",
       "</div>"
      ],
      "text/plain": [
       "     year  gender  Nominees  Winners\n",
       "0    1927  Female         3        1\n",
       "1    1927    Male         2        1\n",
       "2    1928  Female         6        1\n",
       "3    1928    Male         5        1\n",
       "4    1929  Female         6        1\n",
       "..    ...     ...       ...      ...\n",
       "175  2015    Male        10        2\n",
       "176  2016  Female        10        2\n",
       "177  2016    Male        10        2\n",
       "178  2017  Female        10        2\n",
       "179  2017    Male        10        2\n",
       "\n",
       "[180 rows x 4 columns]"
      ]
     },
     "execution_count": 9,
     "metadata": {},
     "output_type": "execute_result"
    }
   ],
   "source": [
    "oscars_per_year_gender"
   ]
  },
  {
   "cell_type": "markdown",
   "id": "fba708c6-a72d-440d-a834-94fe53e744fa",
   "metadata": {},
   "source": [
    "Until 1975, there was only one category for actors and one for actresses. Nowadays, there are leading and supporting categories for each gender. We choose to consider both categories as Oscar winner indistinctively."
   ]
  },
  {
   "cell_type": "markdown",
   "id": "df0979cc-ca6b-4c67-9aa5-3b140bed3d69",
   "metadata": {},
   "source": [
    "**Merge with CMU Movie Corpus**"
   ]
  },
  {
   "cell_type": "code",
   "execution_count": 10,
   "id": "5cdddf7d-982e-4d5a-b74f-9d55e23594c3",
   "metadata": {
    "tags": []
   },
   "outputs": [
    {
     "name": "stdout",
     "output_type": "stream",
     "text": [
      "There are 14.31% of Oscar nominees or winners in the movies dataset.\n"
     ]
    }
   ],
   "source": [
    "characters_oscars = characters.merge(oscars_actors, left_on='Actor name', right_on='entity', how='left')\n",
    "\n",
    "print('There are {}% of Oscar nominees or winners in the movies dataset.'.format(round(100 - characters_oscars['entity'].isna().sum()/characters_oscars.shape[0] * 100,2)))"
   ]
  },
  {
   "cell_type": "code",
   "execution_count": 11,
   "id": "72d109e3-712d-4008-8e3c-6acc0ae80d73",
   "metadata": {
    "tags": []
   },
   "outputs": [
    {
     "name": "stdout",
     "output_type": "stream",
     "text": [
      "Only 0.04% of Oscar nominees or winners (28) do not appear in our movies dataset.\n"
     ]
    }
   ],
   "source": [
    "characters_oscars_test = characters.merge(oscars_actors, left_on='Actor name', right_on='entity', how='right')\n",
    "\n",
    "print('Only {}% of Oscar nominees or winners ({}) do not appear in our movies dataset.'.format(round(characters_oscars_test['Actor name'].isna().sum()/characters_oscars_test.shape[0] * 100,2), characters_oscars_test['Actor name'].isna().sum()))"
   ]
  },
  {
   "cell_type": "code",
   "execution_count": 12,
   "id": "53be489d-ec74-41cb-9a8b-f79ae3aad899",
   "metadata": {
    "tags": []
   },
   "outputs": [
    {
     "data": {
      "text/html": [
       "<div>\n",
       "<style scoped>\n",
       "    .dataframe tbody tr th:only-of-type {\n",
       "        vertical-align: middle;\n",
       "    }\n",
       "\n",
       "    .dataframe tbody tr th {\n",
       "        vertical-align: top;\n",
       "    }\n",
       "\n",
       "    .dataframe thead th {\n",
       "        text-align: right;\n",
       "    }\n",
       "</style>\n",
       "<table border=\"1\" class=\"dataframe\">\n",
       "  <thead>\n",
       "    <tr style=\"text-align: right;\">\n",
       "      <th></th>\n",
       "      <th>entity</th>\n",
       "      <th>year</th>\n",
       "      <th>winner</th>\n",
       "    </tr>\n",
       "  </thead>\n",
       "  <tbody>\n",
       "    <tr>\n",
       "      <th>3940</th>\n",
       "      <td>Anne Shirley</td>\n",
       "      <td>1937</td>\n",
       "      <td>False</td>\n",
       "    </tr>\n",
       "    <tr>\n",
       "      <th>3976</th>\n",
       "      <td>Dame May Whitty</td>\n",
       "      <td>1937</td>\n",
       "      <td>False</td>\n",
       "    </tr>\n",
       "    <tr>\n",
       "      <th>5774</th>\n",
       "      <td>Charles Chaplin</td>\n",
       "      <td>1940</td>\n",
       "      <td>False</td>\n",
       "    </tr>\n",
       "    <tr>\n",
       "      <th>6037</th>\n",
       "      <td>Albert Basserman</td>\n",
       "      <td>1940</td>\n",
       "      <td>False</td>\n",
       "    </tr>\n",
       "    <tr>\n",
       "      <th>8259</th>\n",
       "      <td>Dame May Whitty</td>\n",
       "      <td>1942</td>\n",
       "      <td>False</td>\n",
       "    </tr>\n",
       "    <tr>\n",
       "      <th>18920</th>\n",
       "      <td>Sir Laurence Olivier</td>\n",
       "      <td>1956</td>\n",
       "      <td>False</td>\n",
       "    </tr>\n",
       "    <tr>\n",
       "      <th>19830</th>\n",
       "      <td>Vittorio De Sica</td>\n",
       "      <td>1957</td>\n",
       "      <td>False</td>\n",
       "    </tr>\n",
       "    <tr>\n",
       "      <th>24975</th>\n",
       "      <td>Dame Edith Evans</td>\n",
       "      <td>1963</td>\n",
       "      <td>False</td>\n",
       "    </tr>\n",
       "    <tr>\n",
       "      <th>25816</th>\n",
       "      <td>Dame Edith Evans</td>\n",
       "      <td>1964</td>\n",
       "      <td>False</td>\n",
       "    </tr>\n",
       "    <tr>\n",
       "      <th>27123</th>\n",
       "      <td>Anouk Aimee</td>\n",
       "      <td>1966</td>\n",
       "      <td>False</td>\n",
       "    </tr>\n",
       "    <tr>\n",
       "      <th>27345</th>\n",
       "      <td>Jocelyne Lagarde</td>\n",
       "      <td>1966</td>\n",
       "      <td>False</td>\n",
       "    </tr>\n",
       "    <tr>\n",
       "      <th>27997</th>\n",
       "      <td>Dame Edith Evans</td>\n",
       "      <td>1967</td>\n",
       "      <td>False</td>\n",
       "    </tr>\n",
       "    <tr>\n",
       "      <th>29409</th>\n",
       "      <td>Genevieve Bujold</td>\n",
       "      <td>1969</td>\n",
       "      <td>False</td>\n",
       "    </tr>\n",
       "    <tr>\n",
       "      <th>29982</th>\n",
       "      <td>Richard Castellano</td>\n",
       "      <td>1970</td>\n",
       "      <td>False</td>\n",
       "    </tr>\n",
       "    <tr>\n",
       "      <th>29983</th>\n",
       "      <td>Chief Dan George</td>\n",
       "      <td>1970</td>\n",
       "      <td>False</td>\n",
       "    </tr>\n",
       "    <tr>\n",
       "      <th>39598</th>\n",
       "      <td>Howard E. Rollins, Jr.</td>\n",
       "      <td>1981</td>\n",
       "      <td>False</td>\n",
       "    </tr>\n",
       "    <tr>\n",
       "      <th>42223</th>\n",
       "      <td>Noriyuki 'Pat' Morita</td>\n",
       "      <td>1984</td>\n",
       "      <td>False</td>\n",
       "    </tr>\n",
       "    <tr>\n",
       "      <th>46600</th>\n",
       "      <td>Daniel Day Lewis</td>\n",
       "      <td>1989</td>\n",
       "      <td>True</td>\n",
       "    </tr>\n",
       "    <tr>\n",
       "      <th>47452</th>\n",
       "      <td>Gerard Depardieu</td>\n",
       "      <td>1990</td>\n",
       "      <td>False</td>\n",
       "    </tr>\n",
       "    <tr>\n",
       "      <th>47614</th>\n",
       "      <td>Andy Garcia</td>\n",
       "      <td>1990</td>\n",
       "      <td>False</td>\n",
       "    </tr>\n",
       "    <tr>\n",
       "      <th>57030</th>\n",
       "      <td>Benicio Del Toro</td>\n",
       "      <td>2000</td>\n",
       "      <td>True</td>\n",
       "    </tr>\n",
       "    <tr>\n",
       "      <th>59861</th>\n",
       "      <td>Benicio Del Toro</td>\n",
       "      <td>2003</td>\n",
       "      <td>False</td>\n",
       "    </tr>\n",
       "    <tr>\n",
       "      <th>64868</th>\n",
       "      <td>Mo'Nique</td>\n",
       "      <td>2009</td>\n",
       "      <td>True</td>\n",
       "    </tr>\n",
       "    <tr>\n",
       "      <th>67090</th>\n",
       "      <td>Barkhad Abdi</td>\n",
       "      <td>2013</td>\n",
       "      <td>False</td>\n",
       "    </tr>\n",
       "    <tr>\n",
       "      <th>67425</th>\n",
       "      <td>Lupita Nyong'o</td>\n",
       "      <td>2013</td>\n",
       "      <td>True</td>\n",
       "    </tr>\n",
       "    <tr>\n",
       "      <th>67794</th>\n",
       "      <td>J.K. Simmons</td>\n",
       "      <td>2014</td>\n",
       "      <td>True</td>\n",
       "    </tr>\n",
       "    <tr>\n",
       "      <th>68813</th>\n",
       "      <td>Mahershala Ali</td>\n",
       "      <td>2016</td>\n",
       "      <td>True</td>\n",
       "    </tr>\n",
       "    <tr>\n",
       "      <th>69242</th>\n",
       "      <td>Timothée Chalamet</td>\n",
       "      <td>2017</td>\n",
       "      <td>False</td>\n",
       "    </tr>\n",
       "  </tbody>\n",
       "</table>\n",
       "</div>"
      ],
      "text/plain": [
       "                       entity  year  winner\n",
       "3940             Anne Shirley  1937   False\n",
       "3976          Dame May Whitty  1937   False\n",
       "5774          Charles Chaplin  1940   False\n",
       "6037         Albert Basserman  1940   False\n",
       "8259          Dame May Whitty  1942   False\n",
       "18920    Sir Laurence Olivier  1956   False\n",
       "19830        Vittorio De Sica  1957   False\n",
       "24975        Dame Edith Evans  1963   False\n",
       "25816        Dame Edith Evans  1964   False\n",
       "27123             Anouk Aimee  1966   False\n",
       "27345        Jocelyne Lagarde  1966   False\n",
       "27997        Dame Edith Evans  1967   False\n",
       "29409        Genevieve Bujold  1969   False\n",
       "29982      Richard Castellano  1970   False\n",
       "29983        Chief Dan George  1970   False\n",
       "39598  Howard E. Rollins, Jr.  1981   False\n",
       "42223   Noriyuki 'Pat' Morita  1984   False\n",
       "46600        Daniel Day Lewis  1989    True\n",
       "47452        Gerard Depardieu  1990   False\n",
       "47614             Andy Garcia  1990   False\n",
       "57030        Benicio Del Toro  2000    True\n",
       "59861        Benicio Del Toro  2003   False\n",
       "64868                Mo'Nique  2009    True\n",
       "67090            Barkhad Abdi  2013   False\n",
       "67425          Lupita Nyong'o  2013    True\n",
       "67794            J.K. Simmons  2014    True\n",
       "68813          Mahershala Ali  2016    True\n",
       "69242       Timothée Chalamet  2017   False"
      ]
     },
     "execution_count": 12,
     "metadata": {},
     "output_type": "execute_result"
    }
   ],
   "source": [
    "characters_oscars_test[characters_oscars_test['Actor name'].isna()][['entity', 'year', 'winner']]"
   ]
  },
  {
   "cell_type": "markdown",
   "id": "3b983491-de9c-4096-bcc2-d785327e8b95",
   "metadata": {},
   "source": [
    "A few Oscar winners and nominees don't appear in our dataset. Movies were extracted from a dump of Freebase in 2012. If actors began their career after this date, they can't appear in the CMU Movies Corpus. For missing values before that, the source of the missing values is unclear, but the number of actors concerned is small enough to be ignored."
   ]
  },
  {
   "cell_type": "code",
   "execution_count": 13,
   "id": "db85ce6e-9252-4d2a-9ac0-46d2db024e06",
   "metadata": {},
   "outputs": [],
   "source": [
    "characters_movie_oscars = characters_oscars.merge(movies, on= 'Freebase movie ID')"
   ]
  },
  {
   "cell_type": "markdown",
   "id": "63dc87ad-4c77-40dc-95a3-fa4b85380bfb",
   "metadata": {},
   "source": [
    "### Preparing the features and outcome"
   ]
  },
  {
   "cell_type": "markdown",
   "id": "a89e864d-6ce4-48f7-a87c-9ddf774ff186",
   "metadata": {},
   "source": [
    "**Variables of interest**"
   ]
  },
  {
   "cell_type": "code",
   "execution_count": 14,
   "id": "b142d8b5-9822-4fec-ab1b-72d163279c5e",
   "metadata": {
    "tags": []
   },
   "outputs": [
    {
     "data": {
      "text/plain": [
       "Index(['Wikipedia movie ID_x', 'Freebase movie ID', 'Movie release date_x',\n",
       "       'Character name', 'Actor date of birth', 'Actor gender', 'Actor height',\n",
       "       'Actor ethnicity', 'Actor name', 'Actor age at movie release',\n",
       "       'Freebase character/actor map ID', 'Freebase character ID',\n",
       "       'Freebase actor ID', 'year', 'category', 'winner', 'entity', 'gender',\n",
       "       'Wikipedia movie ID_y', 'Movie name', 'Movie release date_y',\n",
       "       'Movie box office revenue', 'Movie runtime', 'Movie languages',\n",
       "       'Movie countries', 'Movie genres'],\n",
       "      dtype='object')"
      ]
     },
     "execution_count": 14,
     "metadata": {},
     "output_type": "execute_result"
    }
   ],
   "source": [
    "characters_movie_oscars.columns"
   ]
  },
  {
   "cell_type": "markdown",
   "id": "2dbce237-27b6-4ef9-b800-5e92bd20f2f6",
   "metadata": {},
   "source": [
    "Actors are nominated for an Oscar for a specific performance in a single film. The period of eligibility is the full previous calendar year from January 1 to December 31 (Source: [Wikipedia](https://en.wikipedia.org/wiki/Academy_Award_for_Best_Actor#:~:text=The%20first%20winner%20was%20Emil,other%20actors%20have%20won%20twice.)). Hence, it is important to associate a nomination for or an award to a specific movie and year, and to use only features that are associated to it to predict the Oscar outcome. For instance, someone's age on the movie release date might matter, but their birthdate does not. Similarly, the longevity of the actor's career, comprising years after the Oscar is not relevant. \n",
    "\n",
    "Hence, we isolate the following variables that might explain the nomination or winning of an Oscar:\n",
    "- Actor's age on movie release date\n",
    "- Actor's gender\n",
    "- Actor's ethnicity\n",
    "- Actor's height\n",
    "- Movie language\n",
    "- Country of the movie\n",
    "- Genre of the movie\n",
    "- Movie runtime\n",
    "- (to add: type of role)\n",
    "\n",
    "Movie release date could matter relatively to a year, for instance movies released in January might have more time to convince the jury. However, given that we do not consistently have the month present in our data, we ignore this variable."
   ]
  },
  {
   "cell_type": "code",
   "execution_count": 15,
   "id": "e02b82d9-1250-47ac-873b-cb7fb6f3628c",
   "metadata": {
    "tags": []
   },
   "outputs": [
    {
     "name": "stdout",
     "output_type": "stream",
     "text": [
      "date_content\n",
      "Full Date    315439\n",
      "Year         162645\n",
      "Missing       10358\n",
      "Name: count, dtype: int64\n"
     ]
    }
   ],
   "source": [
    "characters_movie_oscars['Movie release date'] = pd.to_datetime(characters_movie_oscars['Movie release date_x'], format='mixed', errors='coerce')\n",
    "\n",
    "# How much month data do we have?\n",
    "characters_movie_oscars['date_content'] = 'Unknown'\n",
    "characters_movie_oscars.loc[characters_movie_oscars['Movie release date'].dt.month.notna(), 'date_content'] = 'Full Date'\n",
    "characters_movie_oscars.loc[characters_movie_oscars['Movie release date'].dt.month.isna(), 'date_content'] = 'Year'\n",
    "characters_movie_oscars.loc[(characters_movie_oscars['Movie release date'].dt.month == 1) & (characters_movie_oscars['Movie release date'].dt.day == 1) , 'date_content'] = 'Year' # automatically imputed\n",
    "characters_movie_oscars.loc[characters_movie_oscars['Movie release date'].isnull(), 'date_content'] = 'Missing'\n",
    "\n",
    "count_occurrences = characters_movie_oscars['date_content'].value_counts()\n",
    "\n",
    "print(count_occurrences)"
   ]
  },
  {
   "cell_type": "code",
   "execution_count": 16,
   "id": "aaecaee6-68c0-4293-9ab4-f71ea3e75e31",
   "metadata": {
    "tags": []
   },
   "outputs": [],
   "source": [
    "# Changing the dictionnary in the data into values\n",
    "for variable in list(['languages', 'countries', 'genres']): \n",
    "\n",
    "    full_var = 'Movie ' + variable\n",
    "    characters_movie_oscars[full_var] = characters_movie_oscars[full_var].apply(lambda x: {variable: None} if not x else x)\n",
    "    characters_movie_oscars[variable] = characters_movie_oscars[full_var].apply(lambda x: list(x.values())[0]) # only keeping the first genre or country\n",
    "\n",
    "# Remove ' Language' from values in the 'Language' column\n",
    "characters_movie_oscars['languages'] = characters_movie_oscars['languages'].str.replace(' Language', '')\n",
    "characters_movie_oscars['languages'] = characters_movie_oscars['languages'].str.replace(' language', '')"
   ]
  },
  {
   "cell_type": "code",
   "execution_count": 17,
   "id": "8d01f4e8-b4e7-446b-b578-70dd12994c8a",
   "metadata": {
    "tags": []
   },
   "outputs": [],
   "source": [
    "# Choose the relevant features\n",
    "actors_features = ['Movie release date_x', 'Actor gender', 'Actor age at movie release', 'Actor height', 'Actor ethnicity', 'Movie runtime', 'languages', 'countries', 'genres']\n",
    "\n",
    "X_ = characters_movie_oscars[actors_features].copy()\n",
    "\n",
    "# Prepare the features vector for training by converting the value to floats\n",
    "X_['Actor age at movie release'] = X_['Actor age at movie release'].astype('category')\n",
    "\n",
    "gender_mapping = {'M': 1, 'F': 2}\n",
    "X_['Actor gender'] = X_['Actor gender'].map(gender_mapping)\n",
    "\n",
    "# Fit the encoder to the categorical variables and transform them\n",
    "label_encoder = LabelEncoder()\n",
    "X_['Encoded language'] = label_encoder.fit_transform(X_['languages'])\n",
    "X_['Encoded genre'] = label_encoder.fit_transform(X_['genres'])\n",
    "X_['Encoded country'] = label_encoder.fit_transform(X_['countries'])\n",
    "X_['Encoded ethnicity'] = label_encoder.fit_transform(X_['Actor ethnicity'])"
   ]
  },
  {
   "cell_type": "code",
   "execution_count": 18,
   "id": "517dada5-a9cb-4dab-940e-4998cc11f9bb",
   "metadata": {
    "tags": []
   },
   "outputs": [
    {
     "name": "stdout",
     "output_type": "stream",
     "text": [
      "{'English': 41, 'Norwegian': 104, 'German': 55, None: 162, 'Japanese': 76, 'Turkish': 149, 'Russian': 117, 'Italian': 73, 'Malayalam': 92, 'Mandarin Chinese': 93, 'Hindi': 63, 'Spanish': 132, 'Afrikaans': 2, 'Silent film': 124, 'French': 48, 'Polish': 110, 'Korean': 83, 'Telugu': 143, 'Tamil': 142, 'Punjabi': 112, 'Romani': 115, 'Cantonese': 25, 'Danish': 35, 'Tagalog': 140, 'Greek': 56, 'Amharic': 7, 'Hungarian': 67, 'Serbian': 120, 'Urdu': 152, 'Croatian': 32, 'Arabic': 9, 'Malay': 91, 'Czech': 34, 'Portuguese': 111, 'Sinhala': 125, 'Dutch': 38, 'Kannada': 78, 'Khmer': 79, 'Marathi': 94, 'Chinese': 28, 'Standard Mandarin': 134, 'Swedish': 138, 'Persian': 108, 'Standard Cantonese': 133, 'Irish': 72, 'Thai': 144, 'Xhosa': 157, 'Finnish': 46, 'Māori': 99, 'Tibetans': 146, 'Albanian': 3, 'Bengali': 19, 'Hebrew': 61, 'Indonesian': 70, 'Serbo-Croatian': 121, 'Yiddish': 158, 'Romanian': 116, 'Ukrainian': 151, 'Nepali': 103, 'Oriya': 106, 'Taiwanese': 141, 'Vietnamese': 154, 'Esperanto': 42, 'American English': 5, 'Estonian': 43, 'Armenian': 11, 'Quechua': 113, 'Icelandic': 69, 'Aceh': 1, 'Welsh': 155, 'France': 47, 'Filipino': 45, 'Assamese': 12, 'Swahili': 137, 'Latin': 86, 'Georgian': 54, 'Yolngu Matha': 159, 'Bulgarian': 23, 'Azerbaijani': 16, 'Dari': 36, 'Slovenian': 128, '\\ud801\\udc16\\ud801\\udc32\\ud801\\udc49\\ud801\\udc4b\\ud801\\udc4c\\ud801\\udc32': 161, 'Bambara': 17, 'Shanxi': 123, 'Jamaican Creole English': 74, 'Friulian': 51, 'Bosnian': 21, 'Burmese': 24, 'Pashto': 107, 'Aramaic': 10, 'South African English': 131, 'Min Nan': 97, 'Swiss German': 139, 'Australian Aboriginal Pidgin English': 14, 'Gumatj': 58, 'Zulu': 160, 'Catalan': 26, 'Shanghainese': 122, 'Brazilian Portuguese': 22, 'Scottish Gaelic': 119, 'Galician': 53, 'French Sign': 49, 'Crow': 33, 'Mongolian': 98, 'Sotho': 130, 'Egyptian Arabic': 40, 'Navajo': 102, 'Old English': 105, 'Standard Tibetan': 135, 'Sioux': 126, 'Inuktitut': 71, 'Hokkien': 65, 'Hariyani': 60, 'Japan': 75, 'Chinese, Jinyu': 30, 'Hmong': 64, 'Napoletano-Calabrese': 101, 'American Sign': 6, 'Chechen': 27, 'Slovak': 127, 'Guanzhong Hua': 57, 'Lithuanian': 87, 'Wolof': 156, 'Kurdish': 85, 'Somali': 129, 'Kinyarwanda': 81, 'Klingon': 82, 'Tzotzil': 150, 'Cree': 31, 'Belarusian': 18, 'Maya, Yucatán': 95, 'Australian English': 15, 'Maasai': 89, 'Rajasthani': 114, 'Khmer, Central': 80, 'Aboriginal Malays': 0, 'Tulu': 148, 'Nahuatls': 100, 'Saami, North': 118, 'Thai, Northeastern': 145, 'Algonquin': 4, 'Macedonian': 90, 'Farsi, Western': 44, 'Bhojpuri': 20, 'Plautdietsch': 109, 'Apache, Western': 8, 'Hungary': 68, 'Mende': 96, 'Tok Pisin': 147, 'Judeo-Georgian': 77, 'Venetian': 153, 'Luxembourgish': 88, 'Korean Sign': 84, 'Hiligaynon': 62, 'Hopi': 66, 'Frisian, Western': 50, 'Gaelic': 52, 'Sumerian': 136, 'Deutsch': 37, 'Chinese, Hakka': 29, 'Hainanese': 59, 'Dzongkha': 39, 'Assyrian': 13}\n"
     ]
    }
   ],
   "source": [
    "# Store the dictionaries for more interpretability later\n",
    "language_dict = dict(zip(X_['languages'], X_['Encoded language']))\n",
    "country_dict = dict(zip(X_['countries'], X_['Encoded country']))\n",
    "genre_dict = dict(zip(X_['genres'], X_['Encoded genre']))\n",
    "ethnicity_dict = dict(zip(X_['Actor ethnicity'], X_['Encoded ethnicity']))\n",
    "\n",
    "print(language_dict)"
   ]
  },
  {
   "cell_type": "code",
   "execution_count": 19,
   "id": "b0960d4f-522b-4a9f-be33-7ea4c573e1e9",
   "metadata": {
    "tags": []
   },
   "outputs": [],
   "source": [
    "X_ = X_.drop(['Movie release date_x', 'Actor ethnicity', 'genres', 'countries', 'languages'], axis=1)"
   ]
  },
  {
   "cell_type": "code",
   "execution_count": 20,
   "id": "42136ead-5fcd-4f04-9aa1-d9ecee9ce359",
   "metadata": {},
   "outputs": [],
   "source": [
    "# Removing missing values, for now imputations don't make sense here. \n",
    "# But because of ethnicity and height we get rid of a lot of observations\n",
    "X = X_[~(X_.isna().any(axis=1))].copy()"
   ]
  },
  {
   "cell_type": "code",
   "execution_count": 21,
   "id": "04abd37d-015e-4f3a-adae-c0cda315f7c7",
   "metadata": {
    "tags": []
   },
   "outputs": [
    {
     "data": {
      "text/html": [
       "<div>\n",
       "<style scoped>\n",
       "    .dataframe tbody tr th:only-of-type {\n",
       "        vertical-align: middle;\n",
       "    }\n",
       "\n",
       "    .dataframe tbody tr th {\n",
       "        vertical-align: top;\n",
       "    }\n",
       "\n",
       "    .dataframe thead th {\n",
       "        text-align: right;\n",
       "    }\n",
       "</style>\n",
       "<table border=\"1\" class=\"dataframe\">\n",
       "  <thead>\n",
       "    <tr style=\"text-align: right;\">\n",
       "      <th></th>\n",
       "      <th>Actor gender</th>\n",
       "      <th>Actor age at movie release</th>\n",
       "      <th>Actor height</th>\n",
       "      <th>Movie runtime</th>\n",
       "      <th>Encoded language</th>\n",
       "      <th>Encoded genre</th>\n",
       "      <th>Encoded country</th>\n",
       "      <th>Encoded ethnicity</th>\n",
       "    </tr>\n",
       "  </thead>\n",
       "  <tbody>\n",
       "    <tr>\n",
       "      <th>0</th>\n",
       "      <td>2.0</td>\n",
       "      <td>42.0</td>\n",
       "      <td>1.620</td>\n",
       "      <td>98.0</td>\n",
       "      <td>41</td>\n",
       "      <td>262</td>\n",
       "      <td>114</td>\n",
       "      <td>479</td>\n",
       "    </tr>\n",
       "    <tr>\n",
       "      <th>1</th>\n",
       "      <td>2.0</td>\n",
       "      <td>27.0</td>\n",
       "      <td>1.780</td>\n",
       "      <td>98.0</td>\n",
       "      <td>41</td>\n",
       "      <td>262</td>\n",
       "      <td>114</td>\n",
       "      <td>200</td>\n",
       "    </tr>\n",
       "    <tr>\n",
       "      <th>2</th>\n",
       "      <td>1.0</td>\n",
       "      <td>32.0</td>\n",
       "      <td>1.727</td>\n",
       "      <td>98.0</td>\n",
       "      <td>41</td>\n",
       "      <td>262</td>\n",
       "      <td>114</td>\n",
       "      <td>476</td>\n",
       "    </tr>\n",
       "    <tr>\n",
       "      <th>3</th>\n",
       "      <td>1.0</td>\n",
       "      <td>33.0</td>\n",
       "      <td>1.750</td>\n",
       "      <td>98.0</td>\n",
       "      <td>41</td>\n",
       "      <td>262</td>\n",
       "      <td>114</td>\n",
       "      <td>479</td>\n",
       "    </tr>\n",
       "    <tr>\n",
       "      <th>4</th>\n",
       "      <td>2.0</td>\n",
       "      <td>23.0</td>\n",
       "      <td>1.650</td>\n",
       "      <td>98.0</td>\n",
       "      <td>41</td>\n",
       "      <td>262</td>\n",
       "      <td>114</td>\n",
       "      <td>479</td>\n",
       "    </tr>\n",
       "    <tr>\n",
       "      <th>...</th>\n",
       "      <td>...</td>\n",
       "      <td>...</td>\n",
       "      <td>...</td>\n",
       "      <td>...</td>\n",
       "      <td>...</td>\n",
       "      <td>...</td>\n",
       "      <td>...</td>\n",
       "      <td>...</td>\n",
       "    </tr>\n",
       "    <tr>\n",
       "      <th>488405</th>\n",
       "      <td>1.0</td>\n",
       "      <td>27.0</td>\n",
       "      <td>1.910</td>\n",
       "      <td>91.0</td>\n",
       "      <td>41</td>\n",
       "      <td>218</td>\n",
       "      <td>114</td>\n",
       "      <td>479</td>\n",
       "    </tr>\n",
       "    <tr>\n",
       "      <th>488416</th>\n",
       "      <td>2.0</td>\n",
       "      <td>21.0</td>\n",
       "      <td>1.720</td>\n",
       "      <td>86.0</td>\n",
       "      <td>41</td>\n",
       "      <td>262</td>\n",
       "      <td>20</td>\n",
       "      <td>195</td>\n",
       "    </tr>\n",
       "    <tr>\n",
       "      <th>488417</th>\n",
       "      <td>1.0</td>\n",
       "      <td>55.0</td>\n",
       "      <td>1.740</td>\n",
       "      <td>86.0</td>\n",
       "      <td>41</td>\n",
       "      <td>262</td>\n",
       "      <td>20</td>\n",
       "      <td>195</td>\n",
       "    </tr>\n",
       "    <tr>\n",
       "      <th>488418</th>\n",
       "      <td>2.0</td>\n",
       "      <td>24.0</td>\n",
       "      <td>1.650</td>\n",
       "      <td>86.0</td>\n",
       "      <td>41</td>\n",
       "      <td>262</td>\n",
       "      <td>20</td>\n",
       "      <td>479</td>\n",
       "    </tr>\n",
       "    <tr>\n",
       "      <th>488439</th>\n",
       "      <td>1.0</td>\n",
       "      <td>15.0</td>\n",
       "      <td>1.730</td>\n",
       "      <td>129.0</td>\n",
       "      <td>41</td>\n",
       "      <td>74</td>\n",
       "      <td>113</td>\n",
       "      <td>125</td>\n",
       "    </tr>\n",
       "  </tbody>\n",
       "</table>\n",
       "<p>160999 rows × 8 columns</p>\n",
       "</div>"
      ],
      "text/plain": [
       "        Actor gender Actor age at movie release  Actor height  Movie runtime  \\\n",
       "0                2.0                       42.0         1.620           98.0   \n",
       "1                2.0                       27.0         1.780           98.0   \n",
       "2                1.0                       32.0         1.727           98.0   \n",
       "3                1.0                       33.0         1.750           98.0   \n",
       "4                2.0                       23.0         1.650           98.0   \n",
       "...              ...                        ...           ...            ...   \n",
       "488405           1.0                       27.0         1.910           91.0   \n",
       "488416           2.0                       21.0         1.720           86.0   \n",
       "488417           1.0                       55.0         1.740           86.0   \n",
       "488418           2.0                       24.0         1.650           86.0   \n",
       "488439           1.0                       15.0         1.730          129.0   \n",
       "\n",
       "        Encoded language  Encoded genre  Encoded country  Encoded ethnicity  \n",
       "0                     41            262              114                479  \n",
       "1                     41            262              114                200  \n",
       "2                     41            262              114                476  \n",
       "3                     41            262              114                479  \n",
       "4                     41            262              114                479  \n",
       "...                  ...            ...              ...                ...  \n",
       "488405                41            218              114                479  \n",
       "488416                41            262               20                195  \n",
       "488417                41            262               20                195  \n",
       "488418                41            262               20                479  \n",
       "488439                41             74              113                125  \n",
       "\n",
       "[160999 rows x 8 columns]"
      ]
     },
     "metadata": {},
     "output_type": "display_data"
    }
   ],
   "source": [
    "# To revert the encoding\n",
    "display(X)"
   ]
  },
  {
   "cell_type": "code",
   "execution_count": 22,
   "id": "133b5aaa-871e-48e1-bfbf-cea5b48d2fed",
   "metadata": {
    "tags": []
   },
   "outputs": [],
   "source": [
    "# We only consider someone a nominee/winner on the year direcly following a movie \n",
    "characters_movie_oscars['post'] = ((characters_movie_oscars['year'] == characters_movie_oscars['Movie release date'].dt.year + 1)  & (characters_movie_oscars['year'].notnull())).astype(int)"
   ]
  },
  {
   "cell_type": "code",
   "execution_count": 23,
   "id": "9305bd5f-cc96-45ad-91a9-9e5ef5713742",
   "metadata": {
    "tags": []
   },
   "outputs": [
    {
     "data": {
      "text/plain": [
       "(488442, 32)"
      ]
     },
     "execution_count": 23,
     "metadata": {},
     "output_type": "execute_result"
    }
   ],
   "source": [
    "characters_movie_oscars.shape"
   ]
  },
  {
   "cell_type": "code",
   "execution_count": 24,
   "id": "e7cd8b45-ba73-4b51-a00d-e92848b0a85b",
   "metadata": {
    "tags": []
   },
   "outputs": [],
   "source": [
    "#Prepare the outcome vector for training\n",
    "characters_movie_oscars['nomination_status'] = characters_movie_oscars['winner'].map({0: 1, 1: 2})\n",
    "characters_movie_oscars['nomination_status'].fillna(0, inplace=True)\n",
    "\n",
    "# Store the dictionary\n",
    "outcome_mapping = {0: 'gets nothing', 1: 'is nominated for an Oscar', 2: 'wins an Oscar'}\n",
    "\n",
    "y_ = characters_movie_oscars['nomination_status'].astype('int')*characters_movie_oscars['post'] # winner x post movie\n",
    "\n",
    "# We remove the same observations as for the features vector\n",
    "y = y_[~(X_.isna().any(axis=1))]"
   ]
  },
  {
   "cell_type": "code",
   "execution_count": 25,
   "id": "bc0b880f-435a-4ef4-b61f-94ecb4429d2b",
   "metadata": {
    "tags": []
   },
   "outputs": [
    {
     "data": {
      "text/plain": [
       "0         0\n",
       "1         0\n",
       "2         0\n",
       "3         0\n",
       "4         0\n",
       "         ..\n",
       "488405    0\n",
       "488416    0\n",
       "488417    0\n",
       "488418    0\n",
       "488439    0\n",
       "Length: 160999, dtype: int64"
      ]
     },
     "metadata": {},
     "output_type": "display_data"
    }
   ],
   "source": [
    "display(y)"
   ]
  },
  {
   "cell_type": "markdown",
   "id": "5a270986-1bc2-4e11-95bf-f5d66d8e2ab4",
   "metadata": {},
   "source": [
    "### Predicting Oscars' nomination status with a Random Forest Classifier\n",
    "\n",
    "We face a supervised classification problem and we expect non lininearity. Moreover, the features we consider don't have a spatial representation so no notion of distance. For these reason, a tree model is adequate. It is easily interpretable and allows to understand what features matter for getting an Oscar, which is ultimately what we are interested in."
   ]
  },
  {
   "cell_type": "code",
   "execution_count": 26,
   "id": "b90a2507-0b0d-4a92-929b-7647f2e2623a",
   "metadata": {
    "tags": []
   },
   "outputs": [
    {
     "name": "stdout",
     "output_type": "stream",
     "text": [
      "              precision    recall  f1-score   support\n",
      "\n",
      "           0       0.99      1.00      0.99     31896\n",
      "           1       0.04      0.01      0.01       245\n",
      "           2       0.00      0.00      0.00        59\n",
      "\n",
      "    accuracy                           0.99     32200\n",
      "   macro avg       0.34      0.34      0.34     32200\n",
      "weighted avg       0.98      0.99      0.99     32200\n",
      "\n"
     ]
    }
   ],
   "source": [
    "# Split the data into training and testing sets\n",
    "X_train, X_test, y_train, y_test = train_test_split(X, y, test_size=0.2, random_state=42)\n",
    "\n",
    "# Create and train a Random Forest Classifier\n",
    "model = RandomForestClassifier(n_estimators=100, random_state=42)\n",
    "model.fit(X_train, y_train)\n",
    "\n",
    "# Make predictions on the test set\n",
    "y_pred = model.predict(X_test)\n",
    "\n",
    "# Evaluate the model's performance\n",
    "report = classification_report(y_test, y_pred)\n",
    "print(report)"
   ]
  },
  {
   "cell_type": "code",
   "execution_count": 27,
   "id": "be13cc68-3125-4f92-9695-767a4c239210",
   "metadata": {
    "tags": []
   },
   "outputs": [],
   "source": [
    "feature_importances = model.feature_importances_\n",
    "\n",
    "# Create a DataFrame to display feature importances with feature names\n",
    "importance_df = pd.DataFrame({'Feature': X_train.columns, 'Importance': feature_importances})\n",
    "\n",
    "# Sort the features by importance in descending order\n",
    "importance_df = importance_df.sort_values(by='Importance', ascending=False)"
   ]
  },
  {
   "cell_type": "code",
   "execution_count": 28,
   "id": "083cf4a4-de19-44ba-9e2e-daa39a19918b",
   "metadata": {
    "tags": []
   },
   "outputs": [
    {
     "data": {
      "image/png": "[encoded data removed]",
      "text/plain": [
       "<Figure size 1000x600 with 1 Axes>"
      ]
     },
     "metadata": {},
     "output_type": "display_data"
    }
   ],
   "source": [
    "plt.figure(figsize=(10, 6))\n",
    "sns.barplot(x='Importance', y='Feature', data=importance_df)\n",
    "plt.title('Feature Importances')\n",
    "plt.show()"
   ]
  },
  {
   "cell_type": "markdown",
   "id": "3041867a-c564-4157-970c-af2cad4b7d08",
   "metadata": {},
   "source": [
    "It makes sense that gender does not matter much since both men and women win as many Oscars."
   ]
  },
  {
   "cell_type": "code",
   "execution_count": 29,
   "id": "27f72fe4-3a9b-402c-b25c-e6bc8e1c3816",
   "metadata": {
    "tags": []
   },
   "outputs": [
    {
     "data": {
      "text/plain": [
       "Index(['Actor gender', 'Actor age at movie release', 'Actor height',\n",
       "       'Movie runtime', 'Encoded language', 'Encoded genre', 'Encoded country',\n",
       "       'Encoded ethnicity'],\n",
       "      dtype='object')"
      ]
     },
     "execution_count": 29,
     "metadata": {},
     "output_type": "execute_result"
    }
   ],
   "source": [
    "X.columns"
   ]
  },
  {
   "cell_type": "code",
   "execution_count": 30,
   "id": "d435807c-7db9-4269-bbcc-6080e01a08e3",
   "metadata": {
    "tags": []
   },
   "outputs": [],
   "source": [
    "def transform_features(input_features):\n",
    "    \"\"\"Reverses encoding for prediction\"\"\"\n",
    "    string_indices = [0, 4, 5, 6, 7] # to change if order of variables changes\n",
    "    \n",
    "    for index in string_indices:\n",
    "        if input_features[index] in gender_mapping:\n",
    "            input_features[index] = gender_mapping[input_features[index]]\n",
    "        elif input_features[index] in language_dict:\n",
    "            input_features[index] = language_dict[input_features[index]]\n",
    "        elif input_features[index] in genre_dict:\n",
    "            input_features[index] = genre_dict[input_features[index]]\n",
    "        elif input_features[index] in country_dict:\n",
    "            input_features[index] = country_dict[input_features[index]]\n",
    "      #   elif input_features[index] in ethnicity_dict:\n",
    "      #      input_features[index] = ethnicity_dict[input_features[index]]\n",
    "\n",
    "    return input_features"
   ]
  },
  {
   "cell_type": "code",
   "execution_count": 31,
   "id": "2f3d3a39-b505-4e05-9ae7-9dfcf36515b5",
   "metadata": {
    "tags": []
   },
   "outputs": [
    {
     "name": "stdout",
     "output_type": "stream",
     "text": [
      "This actor/actress gets nothing.\n"
     ]
    },
    {
     "name": "stderr",
     "output_type": "stream",
     "text": [
      "/Users/atoure/miniconda3/envs/ada/lib/python3.9/site-packages/sklearn/base.py:465: UserWarning: X does not have valid feature names, but RandomForestClassifier was fitted with feature names\n",
      "  warnings.warn(\n"
     ]
    }
   ],
   "source": [
    "# Prediction of oscars based on an input vector of features\n",
    "\n",
    "input_features = ['F',54,1.76,110,'English', 'Thriller', 'United States of America', 126]\n",
    "transformed_features = transform_features(input_features)\n",
    "\n",
    "predicted_label = model.predict([transformed_features])[0] # we need a mapping of ethnicities to interpret it\n",
    "outcome = outcome_mapping[predicted_label]\n",
    "\n",
    "print('This actor/actress {}.'.format(outcome))"
   ]
  },
  {
   "cell_type": "markdown",
   "id": "30e7b9da-060c-449d-a36d-4af0b70236e5",
   "metadata": {},
   "source": [
    "### Creating a score index\n",
    "\n",
    "We want to create a score between 0 and 5 based on the probability of being nominated or winning an Oscar for a given movie and actor. \n",
    "For instance, we can assign the score 5 for someone winning and 3 for someone being nominated. Then, we use probabilities to weigh this score and obtain an index between 0 and 5."
   ]
  },
  {
   "cell_type": "code",
   "execution_count": 32,
   "id": "e93f49bf-9ed9-4484-bcaa-2aca66c7b603",
   "metadata": {
    "tags": []
   },
   "outputs": [
    {
     "name": "stderr",
     "output_type": "stream",
     "text": [
      "/Users/atoure/miniconda3/envs/ada/lib/python3.9/site-packages/sklearn/base.py:465: UserWarning: X does not have valid feature names, but RandomForestClassifier was fitted with feature names\n",
      "  warnings.warn(\n"
     ]
    }
   ],
   "source": [
    "proba = model.predict_proba([transformed_features])"
   ]
  },
  {
   "cell_type": "code",
   "execution_count": 33,
   "id": "25a757ae-c01f-4590-a4f7-80eda1e2e0bb",
   "metadata": {
    "tags": []
   },
   "outputs": [],
   "source": [
    "oscar_score = 5*proba[0][2] + 3*proba[0][1]"
   ]
  },
  {
   "cell_type": "code",
   "execution_count": 34,
   "id": "bbbcd7c4-96df-48f1-8a11-3885eac2f123",
   "metadata": {
    "tags": []
   },
   "outputs": [
    {
     "name": "stdout",
     "output_type": "stream",
     "text": [
      "Given the probabilities [[0.993 0.007 0.   ]], the Award score is 0.02.\n"
     ]
    }
   ],
   "source": [
    "print('Given the probabilities {}, the Award score is {}.'.format(proba, round(oscar_score,2)))"
   ]
  },
  {
   "cell_type": "markdown",
   "id": "7da94a3f-2b0b-4b9f-ac8d-abd01be814db",
   "metadata": {
    "tags": []
   },
   "source": [
    "### Limitations of the dataset\n",
    "\n",
    "The Oscars take place in the US and are usually political. It is less likely for popular foreign actors to win an award outside the best international film category, even if some film industries are very big outside of Hollywood, such as Bollywood and Nollywood.\n",
    "\n",
    "We haven't found an exhaustive dataset of awards. We might decide to extend the analysis to more award ceremonies but none is exempt from this national preference: The Australian Film Institute Awards, The BAFTA Film Awards (UK), the Césars Film Awards (France), the Golden Bears (Germany), the Golden Globes (US), the Golden Lions (Venice), the Palme d'Or awards (France), the Sundance Film Festival awards (independent movies), Filmfare (Hindi), etc.\n",
    "\n",
    "We do not aim at doing an exhaustive analysis, but it is important here to understand that we have a Western bias and we might need to use other indicators to better understand success of actors outside of Hollywood. \n",
    "\n",
    "Using our score indices complementarily is key to go past potential biases."
   ]
  },
  {
   "cell_type": "code",
   "execution_count": 35,
   "id": "f1c79227-e000-40ae-a7ae-8be399ec34b2",
   "metadata": {
    "tags": []
   },
   "outputs": [
    {
     "data": {
      "text/plain": [
       "{'United States of America': 12598,\n",
       " 'United Kingdom': 2393,\n",
       " 'France': 667,\n",
       " 'Germany': 530,\n",
       " 'Italy': 507}"
      ]
     },
     "execution_count": 35,
     "metadata": {},
     "output_type": "execute_result"
    }
   ],
   "source": [
    "# What are movie nationalities of actors that won an Oscar?\n",
    "oscar_winers = characters_oscars[characters_oscars['winner'] == True].merge(movies, on='Freebase movie ID', how='left') \n",
    "\n",
    "# Flatten the dictionaries and count countries occurrences\n",
    "countries_counts = Counter(country for countries_dict in oscar_winers[\"Movie countries\"] for country in countries_dict.values())\n",
    "\n",
    "filtered_countries_counts = {country: count for country, count in countries_counts.items() if count > 500}\n",
    "sorted_countries_counts = dict(sorted(filtered_countries_counts.items(), key=lambda item: item[1], reverse=True))\n",
    "\n",
    "sorted_countries_counts # Indian movies are not represented at all despite their big industry"
   ]
  },
  {
   "cell_type": "markdown",
   "id": "6ecebb75-55d2-4c70-a198-2366fb9f1460",
   "metadata": {},
   "source": [
    "Another issue is that we do not have mapping of ethnicity so we even though we know this feature matters, we cannot really explain how. Additionally, it is largely missing, so it might be better not to include it."
   ]
  },
  {
   "cell_type": "code",
   "execution_count": 36,
   "id": "be979d65-58d9-4c84-b26e-fb93a65efc56",
   "metadata": {
    "tags": []
   },
   "outputs": [
    {
     "name": "stdout",
     "output_type": "stream",
     "text": [
      "For '/m/0dryh9k':\n",
      "  - First actor: Mohanlal\n",
      "  - Total count: 16555\n",
      "----\n",
      "For '/m/041rx':\n",
      "  - First actor: Seth Green\n",
      "  - Total count: 12244\n",
      "----\n",
      "For '/m/0x67':\n",
      "  - First actor: Ice Cube\n",
      "  - Total count: 10947\n",
      "----\n",
      "For '/m/02w7gg':\n",
      "  - First actor: Pete Postlethwaite\n",
      "  - Total count: 7599\n",
      "----\n",
      "For '/m/033tf_':\n",
      "  - First actor: Matt Stone\n",
      "  - Total count: 5659\n",
      "----\n"
     ]
    }
   ],
   "source": [
    "result = characters_movie_oscars.groupby('Actor ethnicity')['Actor name'].agg(['first', 'count']).sort_values(by='count', ascending=False).nlargest(5, 'count')\n",
    "\n",
    "for ethnicity, values in result.iterrows():\n",
    "    print(f\"For '{ethnicity}':\")\n",
    "    print(f\"  - First actor: {values['first']}\")\n",
    "    print(f\"  - Total count: {values['count']}\")\n",
    "    print(\"----\")\n",
    "    \n",
    "# Indian, white, black? Seems more precise than this"
   ]
  },
  {
   "cell_type": "markdown",
   "id": "a333a173-aae7-477c-aece-5f5634896a8d",
   "metadata": {},
   "source": [
    "### Next steps: \n",
    "- Comment on feature importance\n",
    "- What values have a positive influence on outcome (gender matters because women win relatively more?)\n",
    "- Prompt to give bounds and options and to select the relevant features\n",
    "- Use more datasets or motivate this one?"
   ]
  },
  {
   "cell_type": "markdown",
   "id": "82040364-44b6-4ab6-9cb0-bdc06e834449",
   "metadata": {},
   "source": [
    "## 2.2 Cumulated revenues of movies"
   ]
  },
  {
   "cell_type": "markdown",
   "id": "93d68f71-e4af-4680-b8d6-6c9656451ae7",
   "metadata": {},
   "source": [
    "### Preparing the dataset\n",
    "\n",
    "Here, we are looking at an aggregate outcome throughout one's career. Contrary to the previous analysis, we want to associate here an amount to characteristics that are fixed over an actor's career. Someone's age on the movie release date no longer matters, but their career start date might. Gender and height are still relevant. For movie characteristics, we can aggregate them over the career, selecting the largest occurence for instance.\n",
    "\n",
    "Hence, we isolate the following variables that might explain cumulated movie revenues:\n",
    "- Actor's age at the beginning of their career\n",
    "- Actor's gender\n",
    "- Mean age during the career\n",
    "- Actor's ethnicity\n",
    "- Actor's height\n",
    "- Most frequent movie language\n",
    "- Most frequent country of the movie\n",
    "- Variety of movie genres\n",
    "- (to add: variety of roles)"
   ]
  },
  {
   "cell_type": "markdown",
   "id": "6e40e6af-761c-4fb7-b197-73331fc478a6",
   "metadata": {
    "tags": []
   },
   "source": [
    "**Merge actors with their movies within the CMU Movie Corpus**"
   ]
  },
  {
   "cell_type": "code",
   "execution_count": 37,
   "id": "fc279b64-4964-49a6-92fc-225b7c455a9b",
   "metadata": {
    "tags": []
   },
   "outputs": [],
   "source": [
    "actors_movies = characters.merge(movies, on='Freebase movie ID', how='left') "
   ]
  },
  {
   "cell_type": "code",
   "execution_count": 38,
   "id": "76e07eb0-5c91-41a6-83e0-c6f6e0903695",
   "metadata": {
    "tags": []
   },
   "outputs": [
    {
     "data": {
      "text/plain": [
       "Index(['Wikipedia movie ID_x', 'Freebase movie ID', 'Movie release date_x',\n",
       "       'Character name', 'Actor date of birth', 'Actor gender', 'Actor height',\n",
       "       'Actor ethnicity', 'Actor name', 'Actor age at movie release',\n",
       "       'Freebase character/actor map ID', 'Freebase character ID',\n",
       "       'Freebase actor ID', 'Wikipedia movie ID_y', 'Movie name',\n",
       "       'Movie release date_y', 'Movie box office revenue', 'Movie runtime',\n",
       "       'Movie languages', 'Movie countries', 'Movie genres'],\n",
       "      dtype='object')"
      ]
     },
     "execution_count": 38,
     "metadata": {},
     "output_type": "execute_result"
    }
   ],
   "source": [
    "actors_movies.columns"
   ]
  },
  {
   "cell_type": "markdown",
   "id": "886410a5-1b09-4c00-baa7-c82c4b387fda",
   "metadata": {},
   "source": [
    "**Aggregate variables of interest to have values valable for the entire career span**"
   ]
  },
  {
   "cell_type": "code",
   "execution_count": 39,
   "id": "f7044f61-3a6f-4477-bd23-450656d4335c",
   "metadata": {
    "tags": []
   },
   "outputs": [],
   "source": [
    "# Aggregation function to get the length of list of unique values in dictionaries\n",
    "def count_unique(series):\n",
    "    if all(not my_dict for my_dict in series):\n",
    "        return None\n",
    "    else:\n",
    "        return len(set(val for sublist in series for val in sublist))\n",
    "    #return len(unique_countries) if unique_countries else None  # Return None for empty sets\n",
    "\n",
    "# Aggregation function to get the most frequent value of a column\n",
    "def most_frequent_occ(series): \n",
    "    if not series.empty and not series.isna().all():\n",
    "        return series.mode().iloc[0]  \n",
    "    else:\n",
    "        return None\n",
    "    \n",
    "def most_frequent_in_dictionary(series):\n",
    "    if all(not my_dict for my_dict in series):\n",
    "        return None\n",
    "       \n",
    "    else:\n",
    "        # Flatten the list of dictionaries\n",
    "        flattened_values = [item for sublist in series for item in sublist.values()]\n",
    "\n",
    "        # Create a pandas Series from the flattened values\n",
    "        flattened_series = pd.Series(flattened_values)\n",
    "\n",
    "        # Calculate the mode of the flattened Series\n",
    "        mode_value = flattened_series.mode().iloc[0]\n",
    "        return mode_value"
   ]
  },
  {
   "cell_type": "code",
   "execution_count": 40,
   "id": "322e24a6-53f5-49fa-bf69-95b23f1cee15",
   "metadata": {
    "tags": []
   },
   "outputs": [],
   "source": [
    "actors_revenues = actors_movies.groupby('Actor name')\n",
    "\n",
    "# Aggregating the desired statistics\n",
    "actor_statistics = actors_revenues.agg({\n",
    "    'Movie box office revenue': lambda x: x.fillna(0).sum(),\n",
    "    'Actor gender': most_frequent_occ,\n",
    "    'Actor age at movie release': 'mean',\n",
    "    'Actor ethnicity': most_frequent_occ,\n",
    "    'Actor height': most_frequent_occ,\n",
    "    'Movie languages': most_frequent_in_dictionary,\n",
    "    'Movie countries': most_frequent_in_dictionary,\n",
    "    'Movie genres': most_frequent_in_dictionary,\n",
    "    'Movie name': 'nunique'\n",
    "}).reset_index()"
   ]
  },
  {
   "cell_type": "code",
   "execution_count": 41,
   "id": "2eb9bd1a-553c-4871-be9e-dc66978c7694",
   "metadata": {
    "tags": []
   },
   "outputs": [],
   "source": [
    "# More statistics\n",
    "age_begin_career = actors_revenues['Actor age at movie release'].min()\n",
    "unique_countries = actors_revenues['Movie countries'].apply(count_unique) # doesnt work\n",
    "unique_genres = actors_revenues['Movie genres'].apply(count_unique)\n",
    "unique_languages = actors_revenues['Movie languages'].apply(count_unique)\n",
    "\n",
    "# We need precise mapping because they have other columns in common with different values, resulting in NaN\n",
    "actor_statistics['age_begin_career'] = actor_statistics['Actor name'].map(age_begin_career)\n",
    "actor_statistics['unique_countries'] = actor_statistics['Actor name'].map(unique_countries)\n",
    "actor_statistics['unique_genres'] = actor_statistics['Actor name'].map(unique_genres)\n",
    "actor_statistics['unique_languages'] = actor_statistics['Actor name'].map(unique_languages)"
   ]
  },
  {
   "cell_type": "code",
   "execution_count": 42,
   "id": "21241aee-2ee0-49c6-8c5e-1e00305e752b",
   "metadata": {
    "tags": []
   },
   "outputs": [
    {
     "data": {
      "text/html": [
       "<div>\n",
       "<style scoped>\n",
       "    .dataframe tbody tr th:only-of-type {\n",
       "        vertical-align: middle;\n",
       "    }\n",
       "\n",
       "    .dataframe tbody tr th {\n",
       "        vertical-align: top;\n",
       "    }\n",
       "\n",
       "    .dataframe thead th {\n",
       "        text-align: right;\n",
       "    }\n",
       "</style>\n",
       "<table border=\"1\" class=\"dataframe\">\n",
       "  <thead>\n",
       "    <tr style=\"text-align: right;\">\n",
       "      <th></th>\n",
       "      <th>actor_name</th>\n",
       "      <th>total_revenues</th>\n",
       "      <th>gender</th>\n",
       "      <th>mean_age</th>\n",
       "      <th>ethnicity</th>\n",
       "      <th>height</th>\n",
       "      <th>most_freq_language</th>\n",
       "      <th>most_freq_country</th>\n",
       "      <th>most_freq_genre</th>\n",
       "      <th>unique_movies</th>\n",
       "      <th>age_begin_career</th>\n",
       "      <th>unique_countries</th>\n",
       "      <th>unique_genres</th>\n",
       "      <th>unique_languages</th>\n",
       "    </tr>\n",
       "  </thead>\n",
       "  <tbody>\n",
       "    <tr>\n",
       "      <th>0</th>\n",
       "      <td>Cesarine Prinz\\t</td>\n",
       "      <td>0.0</td>\n",
       "      <td>F</td>\n",
       "      <td>NaN</td>\n",
       "      <td>None</td>\n",
       "      <td>NaN</td>\n",
       "      <td>None</td>\n",
       "      <td>Netherlands</td>\n",
       "      <td>Comedy</td>\n",
       "      <td>2</td>\n",
       "      <td>NaN</td>\n",
       "      <td>1.0</td>\n",
       "      <td>2.0</td>\n",
       "      <td>NaN</td>\n",
       "    </tr>\n",
       "    <tr>\n",
       "      <th>1</th>\n",
       "      <td>Daniel Newman</td>\n",
       "      <td>0.0</td>\n",
       "      <td>M</td>\n",
       "      <td>22.000000</td>\n",
       "      <td>None</td>\n",
       "      <td>NaN</td>\n",
       "      <td>English Language</td>\n",
       "      <td>Canada</td>\n",
       "      <td>Drama</td>\n",
       "      <td>1</td>\n",
       "      <td>22.0</td>\n",
       "      <td>3.0</td>\n",
       "      <td>2.0</td>\n",
       "      <td>1.0</td>\n",
       "    </tr>\n",
       "    <tr>\n",
       "      <th>2</th>\n",
       "      <td>'Big Bill' Giddinger</td>\n",
       "      <td>0.0</td>\n",
       "      <td>M</td>\n",
       "      <td>NaN</td>\n",
       "      <td>None</td>\n",
       "      <td>NaN</td>\n",
       "      <td>English Language</td>\n",
       "      <td>United States of America</td>\n",
       "      <td>History</td>\n",
       "      <td>1</td>\n",
       "      <td>NaN</td>\n",
       "      <td>1.0</td>\n",
       "      <td>5.0</td>\n",
       "      <td>1.0</td>\n",
       "    </tr>\n",
       "    <tr>\n",
       "      <th>3</th>\n",
       "      <td>'Big' Lee</td>\n",
       "      <td>0.0</td>\n",
       "      <td>M</td>\n",
       "      <td>NaN</td>\n",
       "      <td>None</td>\n",
       "      <td>NaN</td>\n",
       "      <td>English Language</td>\n",
       "      <td>United States of America</td>\n",
       "      <td>Crime Fiction</td>\n",
       "      <td>1</td>\n",
       "      <td>NaN</td>\n",
       "      <td>1.0</td>\n",
       "      <td>3.0</td>\n",
       "      <td>1.0</td>\n",
       "    </tr>\n",
       "    <tr>\n",
       "      <th>4</th>\n",
       "      <td>'Chicken' Holleman</td>\n",
       "      <td>0.0</td>\n",
       "      <td>None</td>\n",
       "      <td>NaN</td>\n",
       "      <td>None</td>\n",
       "      <td>NaN</td>\n",
       "      <td>English Language</td>\n",
       "      <td>United States of America</td>\n",
       "      <td>Crime Fiction</td>\n",
       "      <td>1</td>\n",
       "      <td>NaN</td>\n",
       "      <td>1.0</td>\n",
       "      <td>7.0</td>\n",
       "      <td>1.0</td>\n",
       "    </tr>\n",
       "    <tr>\n",
       "      <th>...</th>\n",
       "      <td>...</td>\n",
       "      <td>...</td>\n",
       "      <td>...</td>\n",
       "      <td>...</td>\n",
       "      <td>...</td>\n",
       "      <td>...</td>\n",
       "      <td>...</td>\n",
       "      <td>...</td>\n",
       "      <td>...</td>\n",
       "      <td>...</td>\n",
       "      <td>...</td>\n",
       "      <td>...</td>\n",
       "      <td>...</td>\n",
       "      <td>...</td>\n",
       "    </tr>\n",
       "    <tr>\n",
       "      <th>134073</th>\n",
       "      <td>雅-miyavi-</td>\n",
       "      <td>0.0</td>\n",
       "      <td>M</td>\n",
       "      <td>22.000000</td>\n",
       "      <td>None</td>\n",
       "      <td>1.85</td>\n",
       "      <td>Japanese Language</td>\n",
       "      <td>Japan</td>\n",
       "      <td>Drama</td>\n",
       "      <td>1</td>\n",
       "      <td>22.0</td>\n",
       "      <td>1.0</td>\n",
       "      <td>4.0</td>\n",
       "      <td>1.0</td>\n",
       "    </tr>\n",
       "    <tr>\n",
       "      <th>134074</th>\n",
       "      <td>雪乃五月</td>\n",
       "      <td>0.0</td>\n",
       "      <td>F</td>\n",
       "      <td>30.500000</td>\n",
       "      <td>None</td>\n",
       "      <td>NaN</td>\n",
       "      <td>Japanese Language</td>\n",
       "      <td>Japan</td>\n",
       "      <td>Action</td>\n",
       "      <td>2</td>\n",
       "      <td>30.0</td>\n",
       "      <td>1.0</td>\n",
       "      <td>6.0</td>\n",
       "      <td>1.0</td>\n",
       "    </tr>\n",
       "    <tr>\n",
       "      <th>134075</th>\n",
       "      <td>高山久子</td>\n",
       "      <td>0.0</td>\n",
       "      <td>F</td>\n",
       "      <td>35.333333</td>\n",
       "      <td>None</td>\n",
       "      <td>NaN</td>\n",
       "      <td>Japanese Language</td>\n",
       "      <td>Japan</td>\n",
       "      <td>Animation</td>\n",
       "      <td>3</td>\n",
       "      <td>24.0</td>\n",
       "      <td>1.0</td>\n",
       "      <td>12.0</td>\n",
       "      <td>1.0</td>\n",
       "    </tr>\n",
       "    <tr>\n",
       "      <th>134076</th>\n",
       "      <td>高橋美紀</td>\n",
       "      <td>0.0</td>\n",
       "      <td>F</td>\n",
       "      <td>24.000000</td>\n",
       "      <td>None</td>\n",
       "      <td>NaN</td>\n",
       "      <td>Japanese Language</td>\n",
       "      <td>Japan</td>\n",
       "      <td>Animation</td>\n",
       "      <td>1</td>\n",
       "      <td>24.0</td>\n",
       "      <td>1.0</td>\n",
       "      <td>2.0</td>\n",
       "      <td>1.0</td>\n",
       "    </tr>\n",
       "    <tr>\n",
       "      <th>134077</th>\n",
       "      <td>高田由美</td>\n",
       "      <td>0.0</td>\n",
       "      <td>F</td>\n",
       "      <td>34.250000</td>\n",
       "      <td>None</td>\n",
       "      <td>NaN</td>\n",
       "      <td>Japanese Language</td>\n",
       "      <td>Japan</td>\n",
       "      <td>Animation</td>\n",
       "      <td>4</td>\n",
       "      <td>31.0</td>\n",
       "      <td>1.0</td>\n",
       "      <td>7.0</td>\n",
       "      <td>1.0</td>\n",
       "    </tr>\n",
       "  </tbody>\n",
       "</table>\n",
       "<p>134078 rows × 14 columns</p>\n",
       "</div>"
      ],
      "text/plain": [
       "                  actor_name  total_revenues gender   mean_age ethnicity  \\\n",
       "0           Cesarine Prinz\\t             0.0      F        NaN      None   \n",
       "1              Daniel Newman             0.0      M  22.000000      None   \n",
       "2       'Big Bill' Giddinger             0.0      M        NaN      None   \n",
       "3                  'Big' Lee             0.0      M        NaN      None   \n",
       "4         'Chicken' Holleman             0.0   None        NaN      None   \n",
       "...                      ...             ...    ...        ...       ...   \n",
       "134073             雅-miyavi-             0.0      M  22.000000      None   \n",
       "134074                  雪乃五月             0.0      F  30.500000      None   \n",
       "134075                  高山久子             0.0      F  35.333333      None   \n",
       "134076                  高橋美紀             0.0      F  24.000000      None   \n",
       "134077                  高田由美             0.0      F  34.250000      None   \n",
       "\n",
       "        height most_freq_language         most_freq_country most_freq_genre  \\\n",
       "0          NaN               None               Netherlands          Comedy   \n",
       "1          NaN   English Language                    Canada           Drama   \n",
       "2          NaN   English Language  United States of America         History   \n",
       "3          NaN   English Language  United States of America   Crime Fiction   \n",
       "4          NaN   English Language  United States of America   Crime Fiction   \n",
       "...        ...                ...                       ...             ...   \n",
       "134073    1.85  Japanese Language                     Japan           Drama   \n",
       "134074     NaN  Japanese Language                     Japan          Action   \n",
       "134075     NaN  Japanese Language                     Japan       Animation   \n",
       "134076     NaN  Japanese Language                     Japan       Animation   \n",
       "134077     NaN  Japanese Language                     Japan       Animation   \n",
       "\n",
       "        unique_movies  age_begin_career  unique_countries  unique_genres  \\\n",
       "0                   2               NaN               1.0            2.0   \n",
       "1                   1              22.0               3.0            2.0   \n",
       "2                   1               NaN               1.0            5.0   \n",
       "3                   1               NaN               1.0            3.0   \n",
       "4                   1               NaN               1.0            7.0   \n",
       "...               ...               ...               ...            ...   \n",
       "134073              1              22.0               1.0            4.0   \n",
       "134074              2              30.0               1.0            6.0   \n",
       "134075              3              24.0               1.0           12.0   \n",
       "134076              1              24.0               1.0            2.0   \n",
       "134077              4              31.0               1.0            7.0   \n",
       "\n",
       "        unique_languages  \n",
       "0                    NaN  \n",
       "1                    1.0  \n",
       "2                    1.0  \n",
       "3                    1.0  \n",
       "4                    1.0  \n",
       "...                  ...  \n",
       "134073               1.0  \n",
       "134074               1.0  \n",
       "134075               1.0  \n",
       "134076               1.0  \n",
       "134077               1.0  \n",
       "\n",
       "[134078 rows x 14 columns]"
      ]
     },
     "metadata": {},
     "output_type": "display_data"
    }
   ],
   "source": [
    "# Renaming the columns for clarity\n",
    "actor_statistics.columns = ['actor_name','total_revenues','gender','mean_age','ethnicity','height','most_freq_language','most_freq_country','most_freq_genre','unique_movies','age_begin_career','unique_countries','unique_genres','unique_languages'] \n",
    "                            \n",
    "# Displaying the resulting DataFrame\n",
    "display(actor_statistics)"
   ]
  },
  {
   "cell_type": "code",
   "execution_count": 43,
   "id": "b715b945-5f50-4163-bece-fd9eb1bf5c71",
   "metadata": {
    "tags": []
   },
   "outputs": [
    {
     "data": {
      "text/plain": [
       "Index(['actor_name', 'total_revenues', 'gender', 'mean_age', 'ethnicity',\n",
       "       'height', 'most_freq_language', 'most_freq_country', 'most_freq_genre',\n",
       "       'unique_movies', 'age_begin_career', 'unique_countries',\n",
       "       'unique_genres', 'unique_languages'],\n",
       "      dtype='object')"
      ]
     },
     "execution_count": 43,
     "metadata": {},
     "output_type": "execute_result"
    }
   ],
   "source": [
    "actor_statistics.columns"
   ]
  },
  {
   "cell_type": "code",
   "execution_count": 44,
   "id": "8f4e1223-d850-40a3-9b7e-3b92d029d1ab",
   "metadata": {
    "tags": []
   },
   "outputs": [
    {
     "name": "stdout",
     "output_type": "stream",
     "text": [
      "8148\n",
      "37376\n"
     ]
    }
   ],
   "source": [
    "# There are a lot of missing values\n",
    "print(actor_statistics['ethnicity'].notna().sum())\n",
    "print(len(actor_statistics[actor_statistics['total_revenues']!=0]))"
   ]
  },
  {
   "cell_type": "markdown",
   "id": "58797749-595a-45db-a924-a3289da9cb52",
   "metadata": {},
   "source": [
    "For the outcome, we do not consider different living standards across countries. We already have revenues in USD. However, we want to normalize the revenues per year to account for economic boost and booms that might explain some yearly variation in revenues. Hence we compare the revenues of a movie with respect to the revenues of the median or more profitable movie of the year. "
   ]
  },
  {
   "cell_type": "markdown",
   "id": "eee7b130-e9e7-4503-ac31-b0a370a090f7",
   "metadata": {},
   "source": [
    "### Predicting cumulated revenues"
   ]
  },
  {
   "cell_type": "markdown",
   "id": "05af5e99-4364-4766-9af2-eea730cc209b",
   "metadata": {},
   "source": [
    "**Prepare for the regression**"
   ]
  },
  {
   "cell_type": "code",
   "execution_count": 45,
   "id": "68b6568b-c1c6-4a38-9a08-3491d8b15eed",
   "metadata": {
    "tags": []
   },
   "outputs": [
    {
     "name": "stdout",
     "output_type": "stream",
     "text": [
      "(134078, 9)\n",
      "(92761, 9)\n"
     ]
    }
   ],
   "source": [
    "# Keep only one observation per actor that contains all information\n",
    "df = actor_statistics.drop_duplicates(subset='actor_name', keep='first') \n",
    "\n",
    "# Drop missing values\n",
    "df = df[['total_revenues','gender', 'most_freq_language','most_freq_country','most_freq_genre','unique_movies','unique_countries','unique_genres','unique_languages']]\n",
    "print(df.shape) # variables about age are not well filled, as well as height and ethnicity. The remaining missing values are explained by gender\n",
    "df = df.dropna()\n",
    "print(df.shape)"
   ]
  },
  {
   "cell_type": "code",
   "execution_count": 46,
   "id": "ca20d32b-e531-4e94-ab4c-1b4b276cdd70",
   "metadata": {
    "tags": []
   },
   "outputs": [],
   "source": [
    "# Use log for the outcome to avoid negative values and consider 0 values as Na\n",
    "df = df[df['total_revenues'] != 0]\n",
    "df['log_revenues'] = np.log(df['total_revenues'])"
   ]
  },
  {
   "cell_type": "code",
   "execution_count": 47,
   "id": "1143a522-a675-43b3-a95d-856185a03dd8",
   "metadata": {
    "tags": []
   },
   "outputs": [
    {
     "data": {
      "text/plain": [
       "total_revenues        float64\n",
       "gender                 object\n",
       "most_freq_language     object\n",
       "most_freq_country      object\n",
       "most_freq_genre        object\n",
       "unique_movies           int64\n",
       "unique_countries      float64\n",
       "unique_genres         float64\n",
       "unique_languages      float64\n",
       "log_revenues          float64\n",
       "dtype: object"
      ]
     },
     "execution_count": 47,
     "metadata": {},
     "output_type": "execute_result"
    }
   ],
   "source": [
    "df.dtypes"
   ]
  },
  {
   "cell_type": "code",
   "execution_count": 48,
   "id": "b32ae0b6-ddce-499c-a714-e6f53e233e07",
   "metadata": {
    "tags": []
   },
   "outputs": [],
   "source": [
    "# Defining the independent variables and creating dummies\n",
    "categorical_vars = ['gender']\n",
    "df = pd.get_dummies(df, columns=categorical_vars, drop_first=True)\n",
    "independent_vars = df.drop(['log_revenues','total_revenues','most_freq_language','most_freq_country','most_freq_genre'], axis=1)"
   ]
  },
  {
   "cell_type": "code",
   "execution_count": 49,
   "id": "f96d590c-dc6f-43c5-9add-abfcc2638de8",
   "metadata": {
    "tags": []
   },
   "outputs": [],
   "source": [
    "# Iterate through columns to change bool into int, it does not work otherwise\n",
    "for column in independent_vars.columns:\n",
    "    # Check data type of the column\n",
    "    current_dtype = independent_vars[column].dtype\n",
    "    # If the data type is 'boolean', attempt to convert to numeric\n",
    "    if current_dtype == 'bool':\n",
    "        independent_vars[column] = independent_vars[column].astype(int)"
   ]
  },
  {
   "cell_type": "markdown",
   "id": "6e2b7a2e-493a-4906-a0ba-73b066c6c43e",
   "metadata": {},
   "source": [
    "**Linear regression**"
   ]
  },
  {
   "cell_type": "code",
   "execution_count": 50,
   "id": "0d6c81aa-0faf-435b-92c5-43d4ba689253",
   "metadata": {
    "tags": []
   },
   "outputs": [
    {
     "name": "stdout",
     "output_type": "stream",
     "text": [
      "                            OLS Regression Results                            \n",
      "==============================================================================\n",
      "Dep. Variable:           log_revenues   R-squared:                       0.263\n",
      "Model:                            OLS   Adj. R-squared:                  0.263\n",
      "Method:                 Least Squares   F-statistic:                     2234.\n",
      "Date:                Tue, 05 Dec 2023   Prob (F-statistic):               0.00\n",
      "Time:                        16:09:39   Log-Likelihood:                -66681.\n",
      "No. Observations:               31300   AIC:                         1.334e+05\n",
      "Df Residuals:                   31294   BIC:                         1.334e+05\n",
      "Df Model:                           5                                         \n",
      "Covariance Type:            nonrobust                                         \n",
      "====================================================================================\n",
      "                       coef    std err          t      P>|t|      [0.025      0.975]\n",
      "------------------------------------------------------------------------------------\n",
      "const               15.6349      0.024    646.282      0.000      15.588      15.682\n",
      "unique_movies       -0.0471      0.002    -30.204      0.000      -0.050      -0.044\n",
      "unique_countries    -0.0135      0.007     -1.951      0.051      -0.027    6.46e-05\n",
      "unique_genres        0.0965      0.001     67.250      0.000       0.094       0.099\n",
      "unique_languages     0.1526      0.007     21.174      0.000       0.139       0.167\n",
      "gender_M             0.0074      0.024      0.307      0.759      -0.040       0.054\n",
      "==============================================================================\n",
      "Omnibus:                     2565.682   Durbin-Watson:                   1.952\n",
      "Prob(Omnibus):                  0.000   Jarque-Bera (JB):             4290.949\n",
      "Skew:                          -0.612   Prob(JB):                         0.00\n",
      "Kurtosis:                       4.338   Cond. No.                         68.5\n",
      "==============================================================================\n",
      "\n",
      "Notes:\n",
      "[1] Standard Errors assume that the covariance matrix of the errors is correctly specified.\n"
     ]
    }
   ],
   "source": [
    "# Adding a constant for the intercept term in the regression\n",
    "independent_vars = sm.add_constant(independent_vars)\n",
    "\n",
    "# Creating the model\n",
    "model = sm.OLS(df['log_revenues'], independent_vars)\n",
    "\n",
    "# Fitting the model\n",
    "results = model.fit()\n",
    "\n",
    "# Displaying the regression results\n",
    "print(results.summary())"
   ]
  },
  {
   "cell_type": "markdown",
   "id": "3447a681-3f15-4dbf-a879-b86dd7c670ef",
   "metadata": {},
   "source": [
    "The number of different movies, genres, countries, and languages are statistically significant. \n",
    "\n",
    "Quite conterintuitively, playing in one more movie in a career reduces revenues. This might be explained by the fact that big actors play only in a few movies whether those with smaller roles have to play in many small movies to sustain themselves. The many movies they play in is still not enough to gain as much money as big movie stars.\n",
    "\n",
    "Diversification is positive, as playing in different languages and in different genres increases revenues. However, the revenue decreases with playing in different countries, hence focusing on one movie industry might be beneficial. \n",
    "\n",
    "Gender has a non significant impact on revenues. \n",
    "\n",
    "The R-square is not so high, indicating that these variables are not enough to explain all variations in actors' cumulated revenues."
   ]
  },
  {
   "cell_type": "markdown",
   "id": "1a3129be-36b1-46ef-bb36-574d869077c1",
   "metadata": {},
   "source": [
    "### Creating a score index\n",
    "\n",
    "We want to map revenues to a score between 0 and 5. Since we expect them to follow a power-law distribution,we will first apply a log-transformation. This way, we compress the scale and handle extreme values more effectively. This approach is useful to emphasize differences among lower values while still capturing the variability in the higher values."
   ]
  },
  {
   "cell_type": "markdown",
   "id": "678b78a1-617f-4403-9c4a-a9949505479e",
   "metadata": {},
   "source": [
    "**Normalizing a score**"
   ]
  },
  {
   "cell_type": "code",
   "execution_count": 51,
   "id": "dc6d8d23-b8ea-4400-8192-c18c4c551831",
   "metadata": {
    "tags": []
   },
   "outputs": [],
   "source": [
    "max_revenues = actor_statistics['total_revenues'].max() # $13b"
   ]
  },
  {
   "cell_type": "code",
   "execution_count": 52,
   "id": "60025654-0fda-41f9-92f3-a7f306e2e6f9",
   "metadata": {
    "tags": []
   },
   "outputs": [],
   "source": [
    "def compute_score(predicted_log_revenues):\n",
    "    score = predicted_log_revenues/np.log(max_revenues)*5\n",
    "    return np.clip(score, 0, 5) # to ensure that the score stays within the limits"
   ]
  },
  {
   "cell_type": "markdown",
   "id": "e2779501-7056-4d47-94ac-23599af2e733",
   "metadata": {},
   "source": [
    "**Use input feature to predict a score**"
   ]
  },
  {
   "cell_type": "code",
   "execution_count": 53,
   "id": "847c61e4-5c9e-4e05-9f1d-7ed932eb1454",
   "metadata": {
    "tags": []
   },
   "outputs": [
    {
     "name": "stdout",
     "output_type": "stream",
     "text": [
      "The predicted revenues are $8689492269.53 over the career.\n"
     ]
    }
   ],
   "source": [
    "input_vector = [1,2,60,10,'M']\n",
    "constant = [1]\n",
    "input_vector[4] = gender_mapping[input_vector[4]]\n",
    "\n",
    "transformed_vector = [1] + input_vector\n",
    "log_revenues = results.predict(transformed_vector)[0]\n",
    "\n",
    "print('The predicted revenues are ${} over the career.'.format(round(np.exp(log_revenues),2))) \n",
    "# a bit out of bounds, only one movie and $8b. not coherent to have one movie and many genres and languages, we should have bounds"
   ]
  },
  {
   "cell_type": "code",
   "execution_count": 54,
   "id": "91323f08-e012-42f1-bd7c-825a232e1755",
   "metadata": {
    "tags": []
   },
   "outputs": [
    {
     "name": "stdout",
     "output_type": "stream",
     "text": [
      "4.91\n"
     ]
    }
   ],
   "source": [
    "score = round(compute_score(log_revenues),2)\n",
    "print(score)"
   ]
  },
  {
   "cell_type": "markdown",
   "id": "4007abd1-1d74-4b86-b6e9-3e62ea1b6e89",
   "metadata": {},
   "source": [
    "### Limitations\n",
    "\n",
    "Someone can play an unimportant role in many high revenues movies, it doesn't mean they are getting a lot of income from their movie. However, combined with other indicators, it can give us an idea of the success of someone. Note that we do not establish a causal relationship between the presence of an actor in a movie and the money the movie generated."
   ]
  },
  {
   "cell_type": "markdown",
   "id": "a33aa3c7-9064-4a58-9532-0f033a1b7503",
   "metadata": {},
   "source": [
    "### Next steps\n",
    "- Prompt with maximum values and explanations of variables\n",
    "- How to deal with missing values, including for the outcome"
   ]
  },
  {
   "cell_type": "markdown",
   "id": "46716fd7-4820-44ab-8308-db6d78db2542",
   "metadata": {},
   "source": [
    "## 3. Expected outcomes\n",
    "\n",
    "We aim to provide a more nuanced understanding of the driving factors of success and allow our reader to interact with our results.\n",
    "\n",
    "- Prediction of all types of success based on a feature input. This can be visualized for instance with a spider chart. *(to do together, what information do we need in each part?)*\n",
    "- Identification of important features for a given success indicator goal. This will highlight the power one has in being successful. *(done in different parts)*\n",
    "- Computation of success indicators for actors present in the dataset. This can be visualized with a research tool. *(to do together)*"
   ]
  }
 ],
 "metadata": {
  "kernelspec": {
   "display_name": "Python [conda env:ada] *",
   "language": "python",
   "name": "conda-env-ada-py"
  },
  "language_info": {
   "codemirror_mode": {
    "name": "ipython",
    "version": 3
   },
   "file_extension": ".py",
   "mimetype": "text/x-python",
   "name": "python",
   "nbconvert_exporter": "python",
   "pygments_lexer": "ipython3",
   "version": "3.9.18"
  }
 },
 "nbformat": 4,
 "nbformat_minor": 5
}
