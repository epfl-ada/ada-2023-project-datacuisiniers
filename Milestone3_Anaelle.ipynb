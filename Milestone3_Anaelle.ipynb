{
 "cells": [
  {
   "cell_type": "markdown",
   "id": "23a02f79-8625-476a-9da4-3459b0f4a29d",
   "metadata": {
    "tags": []
   },
   "source": [
    "# Milestone 2: Project proposal and initial analyses\n",
    "\n",
    "We chose the **[CMU Movie Summary Corpus](http://www.cs.cmu.edu/~ark/personas/)**. This dataset contains 42,306 movie plot summaries extracted from Wikipedia + aligned metadata extracted from Freebase.\n",
    "\n",
    "Using this dataset, we want to dive into the **drivers of an actor's success**, following several definitions."
   ]
  },
  {
   "cell_type": "code",
   "execution_count": 422,
   "id": "bd87f8f4-a1ff-4fa0-967e-666e6a6c3edc",
   "metadata": {
    "tags": []
   },
   "outputs": [],
   "source": [
    "import pandas as pd\n",
    "import seaborn as sns\n",
    "import numpy as np\n",
    "from collections import Counter\n",
    "import matplotlib.pyplot as plt\n",
    "%matplotlib inline\n",
    "import ast \n",
    "\n",
    "from sklearn.model_selection import train_test_split\n",
    "from sklearn.ensemble import RandomForestClassifier\n",
    "from sklearn.metrics import classification_report\n",
    "from sklearn.preprocessing import LabelEncoder\n",
    "import statsmodels.api as sm"
   ]
  },
  {
   "cell_type": "markdown",
   "id": "2da6980b-dbd6-4680-9a0f-35e4a054ce83",
   "metadata": {
    "tags": []
   },
   "source": [
    "## 1. Exploration of the dataset"
   ]
  },
  {
   "cell_type": "markdown",
   "id": "277ce88c-11c0-4741-a517-c0b29632a85a",
   "metadata": {},
   "source": [
    "### Movies metadata"
   ]
  },
  {
   "cell_type": "code",
   "execution_count": 423,
   "id": "deb37dae-d189-45ba-bdd5-f5e5c203e92b",
   "metadata": {
    "tags": []
   },
   "outputs": [],
   "source": [
    "movies = pd.read_table('~/ADA2023/Project/Data/MovieSummaries/movie.metadata.tsv', header=None)\n",
    "movies.columns = ['Wikipedia movie ID','Freebase movie ID','Movie name','Movie release date','Movie box office revenue','Movie runtime','Movie languages','Movie countries','Movie genres']"
   ]
  },
  {
   "cell_type": "code",
   "execution_count": 424,
   "id": "b0e3b450-7e4c-4d39-a769-874174c2234b",
   "metadata": {
    "tags": []
   },
   "outputs": [],
   "source": [
    "# Remove leading and trailing spaces, then parse the dictionaries\n",
    "movies['Movie languages'] = movies['Movie languages'].apply(lambda x: ast.literal_eval(x.strip()) if x.strip() else {})\n",
    "movies['Movie countries'] = movies['Movie countries'].apply(lambda x: ast.literal_eval(x.strip()) if x.strip() else {})\n",
    "movies['Movie genres'] = movies['Movie genres'].apply(lambda x: ast.literal_eval(x.strip()) if x.strip() else {})"
   ]
  },
  {
   "cell_type": "markdown",
   "id": "138db897-7d8f-4307-95d1-dc3e4b40c3d7",
   "metadata": {},
   "source": [
    "### Characters metadata"
   ]
  },
  {
   "cell_type": "code",
   "execution_count": 425,
   "id": "d56a40ab-0cd9-440b-b2ee-78bf4368ad7f",
   "metadata": {
    "tags": []
   },
   "outputs": [],
   "source": [
    "characters = pd.read_table('~/ADA2023/Project/Data/MovieSummaries/character.metadata.tsv', header=None)\n",
    "characters.columns = ['Wikipedia movie ID', 'Freebase movie ID', 'Movie release date','Character name','Actor date of birth','Actor gender','Actor height','Actor ethnicity','Actor name','Actor age at movie release','Freebase character/actor map ID','Freebase character ID','Freebase actor ID']"
   ]
  },
  {
   "cell_type": "markdown",
   "id": "ba701d02-5aa5-49c6-8be0-b109a2c5e822",
   "metadata": {},
   "source": [
    "## 2. Complementary datasets\n",
    "\n",
    "The success can be characterized based on several factors, \n",
    "- Longevity: for how long has the actor been in the film industry? \n",
    "- In how many films the actor has participated?\n",
    "- IMDB ratings:\n",
    "- The Oscars\n",
    "- Google search results\n",
    "- Film revenue\n",
    "- Number of film spectators\n",
    "\n",
    "Some of these indicators require additional datasets. We thus complement our analysis with data on awards, on ratings, and on popularity."
   ]
  },
  {
   "cell_type": "markdown",
   "id": "d7616644-a619-4ced-8b6f-72f41736d32b",
   "metadata": {},
   "source": [
    "## 2.1 [Oscars' winners and nominees](https://datahub.io/rufuspollock/oscars-nominees-and-winners)"
   ]
  },
  {
   "cell_type": "markdown",
   "id": "330865e0-0dca-4cb4-aeb4-0319924c8148",
   "metadata": {},
   "source": [
    "### The dataset"
   ]
  },
  {
   "cell_type": "code",
   "execution_count": 426,
   "id": "4f580fb2-4231-4878-9b50-fffbd5e0d39a",
   "metadata": {
    "tags": []
   },
   "outputs": [],
   "source": [
    "oscars = pd.read_csv('~/ADA2023/Project/Data/oscar_awards.csv')"
   ]
  },
  {
   "cell_type": "code",
   "execution_count": 427,
   "id": "4c9ef681-3278-46db-b463-703c55aa8cba",
   "metadata": {
    "tags": []
   },
   "outputs": [
    {
     "data": {
      "text/plain": [
       "Index(['year', 'category', 'winner', 'entity'], dtype='object')"
      ]
     },
     "execution_count": 427,
     "metadata": {},
     "output_type": "execute_result"
    }
   ],
   "source": [
    "oscars.columns"
   ]
  },
  {
   "cell_type": "markdown",
   "id": "d6e43fb5-f664-4b64-90fb-91f33d64bd5d",
   "metadata": {},
   "source": [
    "**Oscar nominations and awards by gender**"
   ]
  },
  {
   "cell_type": "code",
   "execution_count": 522,
   "id": "8f6d4da3-e808-438c-add4-e6a633d97b34",
   "metadata": {
    "tags": []
   },
   "outputs": [],
   "source": [
    "oscars_actors = oscars[(oscars['category'].str.contains(\"ACTOR\")) | (oscars['category'].str.contains(\"ACTRESS\"))]"
   ]
  },
  {
   "cell_type": "code",
   "execution_count": 519,
   "id": "2d928d5b-1aea-478e-9c3c-1bd9a486b49d",
   "metadata": {
    "tags": []
   },
   "outputs": [],
   "source": [
    "# Group by gender and year and calculate the number of total observations and winners\n",
    "mask = oscars_actors['category'].str.contains(\"ACTOR\")\n",
    "\n",
    "oscars_actors.loc[:, 'gender'] = 'Female'\n",
    "oscars_actors.loc[mask, 'gender'] = 'Male'\n",
    "\n",
    "oscars_per_year_gender = oscars_actors.groupby(['year', 'gender'])['winner'].agg(['count', 'sum']).reset_index()\n",
    "oscars_per_year_gender = oscars_per_year_gender.rename(columns={'count': 'Nominees', 'sum': 'Winners'})"
   ]
  },
  {
   "cell_type": "code",
   "execution_count": 520,
   "id": "13599248-98a7-4b72-b536-d8c8f8a9b87f",
   "metadata": {
    "tags": []
   },
   "outputs": [
    {
     "data": {
      "text/html": [
       "<div>\n",
       "<style scoped>\n",
       "    .dataframe tbody tr th:only-of-type {\n",
       "        vertical-align: middle;\n",
       "    }\n",
       "\n",
       "    .dataframe tbody tr th {\n",
       "        vertical-align: top;\n",
       "    }\n",
       "\n",
       "    .dataframe thead th {\n",
       "        text-align: right;\n",
       "    }\n",
       "</style>\n",
       "<table border=\"1\" class=\"dataframe\">\n",
       "  <thead>\n",
       "    <tr style=\"text-align: right;\">\n",
       "      <th></th>\n",
       "      <th>year</th>\n",
       "      <th>gender</th>\n",
       "      <th>Nominees</th>\n",
       "      <th>Winners</th>\n",
       "    </tr>\n",
       "  </thead>\n",
       "  <tbody>\n",
       "    <tr>\n",
       "      <th>0</th>\n",
       "      <td>1927</td>\n",
       "      <td>Female</td>\n",
       "      <td>3</td>\n",
       "      <td>1</td>\n",
       "    </tr>\n",
       "    <tr>\n",
       "      <th>1</th>\n",
       "      <td>1927</td>\n",
       "      <td>Male</td>\n",
       "      <td>2</td>\n",
       "      <td>1</td>\n",
       "    </tr>\n",
       "    <tr>\n",
       "      <th>2</th>\n",
       "      <td>1928</td>\n",
       "      <td>Female</td>\n",
       "      <td>6</td>\n",
       "      <td>1</td>\n",
       "    </tr>\n",
       "    <tr>\n",
       "      <th>3</th>\n",
       "      <td>1928</td>\n",
       "      <td>Male</td>\n",
       "      <td>5</td>\n",
       "      <td>1</td>\n",
       "    </tr>\n",
       "    <tr>\n",
       "      <th>4</th>\n",
       "      <td>1929</td>\n",
       "      <td>Female</td>\n",
       "      <td>6</td>\n",
       "      <td>1</td>\n",
       "    </tr>\n",
       "    <tr>\n",
       "      <th>...</th>\n",
       "      <td>...</td>\n",
       "      <td>...</td>\n",
       "      <td>...</td>\n",
       "      <td>...</td>\n",
       "    </tr>\n",
       "    <tr>\n",
       "      <th>175</th>\n",
       "      <td>2015</td>\n",
       "      <td>Male</td>\n",
       "      <td>10</td>\n",
       "      <td>2</td>\n",
       "    </tr>\n",
       "    <tr>\n",
       "      <th>176</th>\n",
       "      <td>2016</td>\n",
       "      <td>Female</td>\n",
       "      <td>10</td>\n",
       "      <td>2</td>\n",
       "    </tr>\n",
       "    <tr>\n",
       "      <th>177</th>\n",
       "      <td>2016</td>\n",
       "      <td>Male</td>\n",
       "      <td>10</td>\n",
       "      <td>2</td>\n",
       "    </tr>\n",
       "    <tr>\n",
       "      <th>178</th>\n",
       "      <td>2017</td>\n",
       "      <td>Female</td>\n",
       "      <td>10</td>\n",
       "      <td>2</td>\n",
       "    </tr>\n",
       "    <tr>\n",
       "      <th>179</th>\n",
       "      <td>2017</td>\n",
       "      <td>Male</td>\n",
       "      <td>10</td>\n",
       "      <td>2</td>\n",
       "    </tr>\n",
       "  </tbody>\n",
       "</table>\n",
       "<p>180 rows × 4 columns</p>\n",
       "</div>"
      ],
      "text/plain": [
       "     year  gender  Nominees  Winners\n",
       "0    1927  Female         3        1\n",
       "1    1927    Male         2        1\n",
       "2    1928  Female         6        1\n",
       "3    1928    Male         5        1\n",
       "4    1929  Female         6        1\n",
       "..    ...     ...       ...      ...\n",
       "175  2015    Male        10        2\n",
       "176  2016  Female        10        2\n",
       "177  2016    Male        10        2\n",
       "178  2017  Female        10        2\n",
       "179  2017    Male        10        2\n",
       "\n",
       "[180 rows x 4 columns]"
      ]
     },
     "execution_count": 520,
     "metadata": {},
     "output_type": "execute_result"
    }
   ],
   "source": [
    "oscars_per_year_gender"
   ]
  },
  {
   "cell_type": "markdown",
   "id": "fba708c6-a72d-440d-a834-94fe53e744fa",
   "metadata": {},
   "source": [
    "Until 1975, there was only one category for actors and one for actresses. Nowadays, there are leading and supporting categories for each gender. We choose to consider both categories as Oscar winner indistinctively."
   ]
  },
  {
   "cell_type": "markdown",
   "id": "df0979cc-ca6b-4c67-9aa5-3b140bed3d69",
   "metadata": {},
   "source": [
    "**Merge with CMU Movie Corpus**"
   ]
  },
  {
   "cell_type": "code",
   "execution_count": 431,
   "id": "5cdddf7d-982e-4d5a-b74f-9d55e23594c3",
   "metadata": {
    "tags": []
   },
   "outputs": [
    {
     "name": "stdout",
     "output_type": "stream",
     "text": [
      "There are 14.31% of Oscar nominees or winners in the movies dataset.\n"
     ]
    }
   ],
   "source": [
    "characters_oscars = characters.merge(oscars_actors, left_on='Actor name', right_on='entity', how='left')\n",
    "\n",
    "print('There are {}% of Oscar nominees or winners in the movies dataset.'.format(round(100 - characters_oscars['entity'].isna().sum()/characters_oscars.shape[0] * 100,2)))"
   ]
  },
  {
   "cell_type": "code",
   "execution_count": 526,
   "id": "72d109e3-712d-4008-8e3c-6acc0ae80d73",
   "metadata": {
    "tags": []
   },
   "outputs": [
    {
     "name": "stdout",
     "output_type": "stream",
     "text": [
      "Only 0.04% of Oscar nominees or winners (28) do not appear in our movies dataset.\n"
     ]
    }
   ],
   "source": [
    "characters_oscars_test = characters.merge(oscars_actors, left_on='Actor name', right_on='entity', how='right')\n",
    "\n",
    "print('Only {}% of Oscar nominees or winners ({}) do not appear in our movies dataset.'.format(round(characters_oscars_test['Actor name'].isna().sum()/characters_oscars_test.shape[0] * 100,2), characters_oscars_test['Actor name'].isna().sum()))"
   ]
  },
  {
   "cell_type": "code",
   "execution_count": 530,
   "id": "53be489d-ec74-41cb-9a8b-f79ae3aad899",
   "metadata": {
    "tags": []
   },
   "outputs": [
    {
     "data": {
      "text/html": [
       "<div>\n",
       "<style scoped>\n",
       "    .dataframe tbody tr th:only-of-type {\n",
       "        vertical-align: middle;\n",
       "    }\n",
       "\n",
       "    .dataframe tbody tr th {\n",
       "        vertical-align: top;\n",
       "    }\n",
       "\n",
       "    .dataframe thead th {\n",
       "        text-align: right;\n",
       "    }\n",
       "</style>\n",
       "<table border=\"1\" class=\"dataframe\">\n",
       "  <thead>\n",
       "    <tr style=\"text-align: right;\">\n",
       "      <th></th>\n",
       "      <th>entity</th>\n",
       "      <th>year</th>\n",
       "      <th>winner</th>\n",
       "    </tr>\n",
       "  </thead>\n",
       "  <tbody>\n",
       "    <tr>\n",
       "      <th>3940</th>\n",
       "      <td>Anne Shirley</td>\n",
       "      <td>1937</td>\n",
       "      <td>False</td>\n",
       "    </tr>\n",
       "    <tr>\n",
       "      <th>3976</th>\n",
       "      <td>Dame May Whitty</td>\n",
       "      <td>1937</td>\n",
       "      <td>False</td>\n",
       "    </tr>\n",
       "    <tr>\n",
       "      <th>5774</th>\n",
       "      <td>Charles Chaplin</td>\n",
       "      <td>1940</td>\n",
       "      <td>False</td>\n",
       "    </tr>\n",
       "    <tr>\n",
       "      <th>6037</th>\n",
       "      <td>Albert Basserman</td>\n",
       "      <td>1940</td>\n",
       "      <td>False</td>\n",
       "    </tr>\n",
       "    <tr>\n",
       "      <th>8259</th>\n",
       "      <td>Dame May Whitty</td>\n",
       "      <td>1942</td>\n",
       "      <td>False</td>\n",
       "    </tr>\n",
       "    <tr>\n",
       "      <th>18920</th>\n",
       "      <td>Sir Laurence Olivier</td>\n",
       "      <td>1956</td>\n",
       "      <td>False</td>\n",
       "    </tr>\n",
       "    <tr>\n",
       "      <th>19830</th>\n",
       "      <td>Vittorio De Sica</td>\n",
       "      <td>1957</td>\n",
       "      <td>False</td>\n",
       "    </tr>\n",
       "    <tr>\n",
       "      <th>24975</th>\n",
       "      <td>Dame Edith Evans</td>\n",
       "      <td>1963</td>\n",
       "      <td>False</td>\n",
       "    </tr>\n",
       "    <tr>\n",
       "      <th>25816</th>\n",
       "      <td>Dame Edith Evans</td>\n",
       "      <td>1964</td>\n",
       "      <td>False</td>\n",
       "    </tr>\n",
       "    <tr>\n",
       "      <th>27123</th>\n",
       "      <td>Anouk Aimee</td>\n",
       "      <td>1966</td>\n",
       "      <td>False</td>\n",
       "    </tr>\n",
       "    <tr>\n",
       "      <th>27345</th>\n",
       "      <td>Jocelyne Lagarde</td>\n",
       "      <td>1966</td>\n",
       "      <td>False</td>\n",
       "    </tr>\n",
       "    <tr>\n",
       "      <th>27997</th>\n",
       "      <td>Dame Edith Evans</td>\n",
       "      <td>1967</td>\n",
       "      <td>False</td>\n",
       "    </tr>\n",
       "    <tr>\n",
       "      <th>29409</th>\n",
       "      <td>Genevieve Bujold</td>\n",
       "      <td>1969</td>\n",
       "      <td>False</td>\n",
       "    </tr>\n",
       "    <tr>\n",
       "      <th>29982</th>\n",
       "      <td>Richard Castellano</td>\n",
       "      <td>1970</td>\n",
       "      <td>False</td>\n",
       "    </tr>\n",
       "    <tr>\n",
       "      <th>29983</th>\n",
       "      <td>Chief Dan George</td>\n",
       "      <td>1970</td>\n",
       "      <td>False</td>\n",
       "    </tr>\n",
       "    <tr>\n",
       "      <th>39598</th>\n",
       "      <td>Howard E. Rollins, Jr.</td>\n",
       "      <td>1981</td>\n",
       "      <td>False</td>\n",
       "    </tr>\n",
       "    <tr>\n",
       "      <th>42223</th>\n",
       "      <td>Noriyuki 'Pat' Morita</td>\n",
       "      <td>1984</td>\n",
       "      <td>False</td>\n",
       "    </tr>\n",
       "    <tr>\n",
       "      <th>46600</th>\n",
       "      <td>Daniel Day Lewis</td>\n",
       "      <td>1989</td>\n",
       "      <td>True</td>\n",
       "    </tr>\n",
       "    <tr>\n",
       "      <th>47452</th>\n",
       "      <td>Gerard Depardieu</td>\n",
       "      <td>1990</td>\n",
       "      <td>False</td>\n",
       "    </tr>\n",
       "    <tr>\n",
       "      <th>47614</th>\n",
       "      <td>Andy Garcia</td>\n",
       "      <td>1990</td>\n",
       "      <td>False</td>\n",
       "    </tr>\n",
       "    <tr>\n",
       "      <th>57030</th>\n",
       "      <td>Benicio Del Toro</td>\n",
       "      <td>2000</td>\n",
       "      <td>True</td>\n",
       "    </tr>\n",
       "    <tr>\n",
       "      <th>59861</th>\n",
       "      <td>Benicio Del Toro</td>\n",
       "      <td>2003</td>\n",
       "      <td>False</td>\n",
       "    </tr>\n",
       "    <tr>\n",
       "      <th>64868</th>\n",
       "      <td>Mo'Nique</td>\n",
       "      <td>2009</td>\n",
       "      <td>True</td>\n",
       "    </tr>\n",
       "    <tr>\n",
       "      <th>67090</th>\n",
       "      <td>Barkhad Abdi</td>\n",
       "      <td>2013</td>\n",
       "      <td>False</td>\n",
       "    </tr>\n",
       "    <tr>\n",
       "      <th>67425</th>\n",
       "      <td>Lupita Nyong'o</td>\n",
       "      <td>2013</td>\n",
       "      <td>True</td>\n",
       "    </tr>\n",
       "    <tr>\n",
       "      <th>67794</th>\n",
       "      <td>J.K. Simmons</td>\n",
       "      <td>2014</td>\n",
       "      <td>True</td>\n",
       "    </tr>\n",
       "    <tr>\n",
       "      <th>68813</th>\n",
       "      <td>Mahershala Ali</td>\n",
       "      <td>2016</td>\n",
       "      <td>True</td>\n",
       "    </tr>\n",
       "    <tr>\n",
       "      <th>69242</th>\n",
       "      <td>Timothée Chalamet</td>\n",
       "      <td>2017</td>\n",
       "      <td>False</td>\n",
       "    </tr>\n",
       "  </tbody>\n",
       "</table>\n",
       "</div>"
      ],
      "text/plain": [
       "                       entity  year  winner\n",
       "3940             Anne Shirley  1937   False\n",
       "3976          Dame May Whitty  1937   False\n",
       "5774          Charles Chaplin  1940   False\n",
       "6037         Albert Basserman  1940   False\n",
       "8259          Dame May Whitty  1942   False\n",
       "18920    Sir Laurence Olivier  1956   False\n",
       "19830        Vittorio De Sica  1957   False\n",
       "24975        Dame Edith Evans  1963   False\n",
       "25816        Dame Edith Evans  1964   False\n",
       "27123             Anouk Aimee  1966   False\n",
       "27345        Jocelyne Lagarde  1966   False\n",
       "27997        Dame Edith Evans  1967   False\n",
       "29409        Genevieve Bujold  1969   False\n",
       "29982      Richard Castellano  1970   False\n",
       "29983        Chief Dan George  1970   False\n",
       "39598  Howard E. Rollins, Jr.  1981   False\n",
       "42223   Noriyuki 'Pat' Morita  1984   False\n",
       "46600        Daniel Day Lewis  1989    True\n",
       "47452        Gerard Depardieu  1990   False\n",
       "47614             Andy Garcia  1990   False\n",
       "57030        Benicio Del Toro  2000    True\n",
       "59861        Benicio Del Toro  2003   False\n",
       "64868                Mo'Nique  2009    True\n",
       "67090            Barkhad Abdi  2013   False\n",
       "67425          Lupita Nyong'o  2013    True\n",
       "67794            J.K. Simmons  2014    True\n",
       "68813          Mahershala Ali  2016    True\n",
       "69242       Timothée Chalamet  2017   False"
      ]
     },
     "execution_count": 530,
     "metadata": {},
     "output_type": "execute_result"
    }
   ],
   "source": [
    "characters_oscars_test[characters_oscars_test['Actor name'].isna()][['entity', 'year', 'winner']]"
   ]
  },
  {
   "cell_type": "markdown",
   "id": "3b983491-de9c-4096-bcc2-d785327e8b95",
   "metadata": {},
   "source": [
    "A few Oscar winners and nominees don't appear in our dataset. Movies were extracted from a dump of Freebase in 2012. If actors began their career after this date, they can't appear in the CMU Movies Corpus. For missing values before that, the source of the missing values is unclear, but the number of actors concerned is small enough to be ignored."
   ]
  },
  {
   "cell_type": "code",
   "execution_count": null,
   "id": "db85ce6e-9252-4d2a-9ac0-46d2db024e06",
   "metadata": {},
   "outputs": [],
   "source": [
    "characters_movie_oscars = characters_oscars.merge(movies, on= 'Freebase movie ID')"
   ]
  },
  {
   "cell_type": "markdown",
   "id": "63dc87ad-4c77-40dc-95a3-fa4b85380bfb",
   "metadata": {},
   "source": [
    "### Preparing the features and outcome"
   ]
  },
  {
   "cell_type": "markdown",
   "id": "a89e864d-6ce4-48f7-a87c-9ddf774ff186",
   "metadata": {},
   "source": [
    "**Variables of interest**"
   ]
  },
  {
   "cell_type": "code",
   "execution_count": 435,
   "id": "b142d8b5-9822-4fec-ab1b-72d163279c5e",
   "metadata": {
    "tags": []
   },
   "outputs": [
    {
     "data": {
      "text/plain": [
       "Index(['Wikipedia movie ID_x', 'Freebase movie ID', 'Movie release date_x',\n",
       "       'Character name', 'Actor date of birth', 'Actor gender', 'Actor height',\n",
       "       'Actor ethnicity', 'Actor name', 'Actor age at movie release',\n",
       "       'Freebase character/actor map ID', 'Freebase character ID',\n",
       "       'Freebase actor ID', 'year', 'category', 'winner', 'entity', 'gender',\n",
       "       'Wikipedia movie ID_y', 'Movie name', 'Movie release date_y',\n",
       "       'Movie box office revenue', 'Movie runtime', 'Movie languages',\n",
       "       'Movie countries', 'Movie genres', 'languages', 'countries', 'genres'],\n",
       "      dtype='object')"
      ]
     },
     "execution_count": 435,
     "metadata": {},
     "output_type": "execute_result"
    }
   ],
   "source": [
    "characters_movie_oscars.columns"
   ]
  },
  {
   "cell_type": "markdown",
   "id": "2dbce237-27b6-4ef9-b800-5e92bd20f2f6",
   "metadata": {},
   "source": [
    "Actors are nominated for an Oscar for a specific performance in a single film. The period of eligibility is the full previous calendar year from January 1 to December 31 (Source: [Wikipedia](https://en.wikipedia.org/wiki/Academy_Award_for_Best_Actor#:~:text=The%20first%20winner%20was%20Emil,other%20actors%20have%20won%20twice.)). Hence, it is important to associate a nomination for or an award to a specific movie and year, and to use only features that are associated to it to predict the Oscar outcome. For instance, someone's age on the movie release date might matter, but their birthdate does not. Similarly, the longevity of the actor's career, comprising years after the Oscar is not relevant. \n",
    "\n",
    "Hence, we isolate the following variables that might explain the nomination or winning of an Oscar:\n",
    "- Actor's age on movie release date\n",
    "- Actor's gender\n",
    "- Actor's ethnicity\n",
    "- Actor's height\n",
    "- Movie language\n",
    "- Country of the movie\n",
    "- Genre of the movie\n",
    "- Movie runtime\n",
    "- (to add: type of role)\n",
    "\n",
    "Movie release date could matter relatively to a year, for instance movies released in January might have more time to convince the jury. However, given that we do not consistently have the month present in our data, we ignore this variable."
   ]
  },
  {
   "cell_type": "code",
   "execution_count": 539,
   "id": "e02b82d9-1250-47ac-873b-cb7fb6f3628c",
   "metadata": {
    "tags": []
   },
   "outputs": [
    {
     "name": "stdout",
     "output_type": "stream",
     "text": [
      "date_content\n",
      "Full Date    315439\n",
      "Year         162645\n",
      "Missing       10358\n",
      "Name: count, dtype: int64\n"
     ]
    }
   ],
   "source": [
    "characters_movie_oscars['Movie release date'] = pd.to_datetime(characters_movie_oscars['Movie release date_x'], format='mixed', errors='coerce')\n",
    "\n",
    "# How much month data do we have?\n",
    "characters_movie_oscars['date_content'] = 'Unknown'\n",
    "characters_movie_oscars.loc[characters_movie_oscars['Movie release date'].dt.month.notna(), 'date_content'] = 'Full Date'\n",
    "characters_movie_oscars.loc[characters_movie_oscars['Movie release date'].dt.month.isna(), 'date_content'] = 'Year'\n",
    "characters_movie_oscars.loc[(characters_movie_oscars['Movie release date'].dt.month == 1) & (characters_movie_oscars['Movie release date'].dt.day == 1) , 'date_content'] = 'Year' # automatically imputed\n",
    "characters_movie_oscars.loc[characters_movie_oscars['Movie release date'].isnull(), 'date_content'] = 'Missing'\n",
    "\n",
    "count_occurrences = characters_movie_oscars['date_content'].value_counts()\n",
    "\n",
    "print(count_occurrences)"
   ]
  },
  {
   "cell_type": "code",
   "execution_count": 434,
   "id": "aaecaee6-68c0-4293-9ab4-f71ea3e75e31",
   "metadata": {
    "tags": []
   },
   "outputs": [],
   "source": [
    "# Changing the dictionnary in the data into values\n",
    "for variable in list(['languages', 'countries', 'genres']): \n",
    "\n",
    "    full_var = 'Movie ' + variable\n",
    "    characters_movie_oscars[full_var] = characters_movie_oscars[full_var].apply(lambda x: {variable: None} if not x else x)\n",
    "    characters_movie_oscars[variable] = characters_movie_oscars[full_var].apply(lambda x: list(x.values())[0]) # only keeping the first genre or country\n",
    "\n",
    "# Remove ' Language' from values in the 'Language' column\n",
    "characters_movie_oscars['languages'] = characters_movie_oscars['languages'].str.replace(' Language', '')\n",
    "characters_movie_oscars['languages'] = characters_movie_oscars['languages'].str.replace(' language', '')"
   ]
  },
  {
   "cell_type": "code",
   "execution_count": 438,
   "id": "8d01f4e8-b4e7-446b-b578-70dd12994c8a",
   "metadata": {
    "tags": []
   },
   "outputs": [],
   "source": [
    "# Choose the relevant features\n",
    "actors_features = ['Movie release date_x', 'Actor gender', 'Actor age at movie release', 'Actor height', 'Actor ethnicity', 'Movie runtime', 'languages', 'countries', 'genres']\n",
    "\n",
    "X = characters_movie_oscars[actors_features].copy()\n",
    "\n",
    "# Prepare the features vector for training by converting the value to floats\n",
    "X_['Actor age at movie release'] = X_['Actor age at movie release'].astype('category')\n",
    "\n",
    "gender_mapping = {'M': 1, 'F': 2}\n",
    "X_['Actor gender'] = X_['Actor gender'].map(gender_mapping)\n",
    "\n",
    "# Fit the encoder to the categorical variables and transform them\n",
    "label_encoder = LabelEncoder()\n",
    "X_['Encoded language'] = label_encoder.fit_transform(X_['languages'])\n",
    "X_['Encoded genre'] = label_encoder.fit_transform(X_['genres'])\n",
    "X_['Encoded country'] = label_encoder.fit_transform(X_['countries'])\n",
    "X_['Encoded ethnicity'] = label_encoder.fit_transform(X_['Actor ethnicity'])"
   ]
  },
  {
   "cell_type": "code",
   "execution_count": 440,
   "id": "b0960d4f-522b-4a9f-be33-7ea4c573e1e9",
   "metadata": {
    "tags": []
   },
   "outputs": [],
   "source": [
    "X_ = X_.drop(['Movie release date_x', 'Actor ethnicity', 'genres', 'countries', 'languages'], axis=1)"
   ]
  },
  {
   "cell_type": "code",
   "execution_count": 439,
   "id": "517dada5-a9cb-4dab-940e-4998cc11f9bb",
   "metadata": {
    "tags": []
   },
   "outputs": [
    {
     "name": "stdout",
     "output_type": "stream",
     "text": [
      "{'English': 28, 'Malayalam': 67, 'Mandarin Chinese': 68, 'Hindi': 44, 'Italian': 53, 'Japanese': 55, 'Korean': 60, 'French': 34, 'Tamil': 105, 'German': 41, 'Cantonese': 17, 'Tagalog': 103, 'Croatian': 22, 'Greek': 42, 'Spanish': 97, 'Silent film': 91, 'Polish': 80, 'Russian': 86, 'Marathi': 69, 'Hungarian': 47, 'Standard Mandarin': 99, 'Swedish': 102, 'Standard Cantonese': 98, 'Danish': 25, 'Māori': 73, 'Telugu': 106, 'Tibetans': 108, 'Chinese': 20, 'Serbo-Croatian': 89, 'Czech': 24, 'Finnish': 32, 'Arabic': 6, 'Dutch': 27, 'Esperanto': 29, 'Bengali': 13, 'Ukrainian': 112, 'American English': 3, 'Afrikaans': 0, 'Quechua': 83, 'Thai': 107, 'Oriya': 78, 'Irish': 52, 'Vietnamese': 114, 'Romanian': 85, 'Serbian': 88, 'Icelandic': 49, 'Assamese': 9, 'Latin': 63, 'Swahili': 101, 'Hebrew': 43, 'Filipino': 31, 'Taiwanese': 104, 'Urdu': 113, 'Kannada': 56, 'Malay': 66, 'Yiddish': 117, 'Punjabi': 82, 'Indonesian': 50, 'Jamaican Creole English': 54, 'Portuguese': 81, 'Friulian': 37, 'Norwegian': 76, 'Aramaic': 7, 'South African English': 96, 'Australian Aboriginal Pidgin English': 11, 'Zulu': 118, 'Catalan': 18, 'Shanghainese': 90, 'Scottish Gaelic': 87, 'Galician': 39, 'French Sign': 35, 'Welsh': 115, 'Crow': 23, 'Brazilian Portuguese': 15, 'Albanian': 1, 'Turkish': 110, 'Xhosa': 116, 'Khmer': 57, 'Navajo': 75, 'Bosnian': 14, 'Old English': 77, 'Sioux': 93, 'Inuktitut': 51, 'Persian': 79, 'Hokkien': 46, 'Romani': 84, 'Hmong': 45, 'Napoletano-Calabrese': 74, 'Sinhala': 92, 'American Sign': 4, 'France': 33, 'Chechen': 19, 'Somali': 95, 'Klingon': 59, 'Cree': 21, 'Maya, Yucatán': 70, 'Australian English': 12, 'Kinyarwanda': 58, 'Tzotzil': 111, 'Burmese': 16, 'Armenian': 8, 'Algonquin': 2, 'Apache, Western': 5, 'Kurdish': 62, 'Estonian': 30, 'Lithuanian': 64, 'Hungary': 48, 'Macedonian': 65, 'Min Nan': 72, 'Mende': 71, 'Tok Pisin': 109, 'Georgian': 40, 'Korean Sign': 61, 'Frisian, Western': 36, 'Gaelic': 38, 'Sumerian': 100, 'Deutsch': 26, 'Slovak': 94, 'Assyrian': 10}\n"
     ]
    }
   ],
   "source": [
    "# Store the dictionaries for more interpretability later\n",
    "language_dict = dict(zip(X_['languages'], X_['Encoded language']))\n",
    "country_dict = dict(zip(X_['countries'], X_['Encoded country']))\n",
    "genre_dict = dict(zip(X_['genres'], X_['Encoded genre']))\n",
    "ethnicity_dict = dict(zip(X_['Actor ethnicity'], X_['Encoded ethnicity']))\n",
    "\n",
    "print(language_dict)"
   ]
  },
  {
   "cell_type": "code",
   "execution_count": null,
   "id": "42136ead-5fcd-4f04-9aa1-d9ecee9ce359",
   "metadata": {},
   "outputs": [],
   "source": [
    "# Removing missing values, for now imputations don't make sense here. \n",
    "# But because of ethnicity and height we get rid of a lot of observations\n",
    "X_ = X[~(X.isna().any(axis=1))].copy()\n",
    "len(X_[X_.isna().any(axis=1)])"
   ]
  },
  {
   "cell_type": "code",
   "execution_count": null,
   "id": "04abd37d-015e-4f3a-adae-c0cda315f7c7",
   "metadata": {
    "tags": []
   },
   "outputs": [],
   "source": [
    "# To revert the encoding\n",
    "display(X_)"
   ]
  },
  {
   "cell_type": "code",
   "execution_count": 437,
   "id": "133b5aaa-871e-48e1-bfbf-cea5b48d2fed",
   "metadata": {
    "tags": []
   },
   "outputs": [],
   "source": [
    "# We only consider someone a nominee/winner on the year direcly following a movie \n",
    "characters_movie_oscars['post'] = ((characters_movie_oscars['year'] == characters_movie_oscars['Movie release date'].dt.year + 1)  & (characters_movie_oscars['year'].notnull())).astype(int)"
   ]
  },
  {
   "cell_type": "code",
   "execution_count": 445,
   "id": "e7cd8b45-ba73-4b51-a00d-e92848b0a85b",
   "metadata": {
    "tags": []
   },
   "outputs": [],
   "source": [
    "#Prepare the outcome vector for training\n",
    "characters_movie_oscars['nomination_status'] = characters_movie_oscars['winner'].map({0: 1, 1: 2})\n",
    "characters_movie_oscars['nomination_status'].fillna(0, inplace=True)\n",
    "\n",
    "# Store the dictionary\n",
    "outcome_mapping = {0: 'gets nothing', 1: 'is nominated for an Oscar', 2: 'wins an Oscar'}\n",
    "\n",
    "y = characters_movie_oscars['nomination_status'].astype('int')*characters_movie_oscars['post'] # winner x post movie\n",
    "\n",
    "# We remove the same observations as for the features vector\n",
    "y_ = y[~(X.isna().any(axis=1))]"
   ]
  },
  {
   "cell_type": "code",
   "execution_count": 543,
   "id": "bc0b880f-435a-4ef4-b61f-94ecb4429d2b",
   "metadata": {
    "tags": []
   },
   "outputs": [
    {
     "data": {
      "text/plain": [
       "1         0\n",
       "2         0\n",
       "5         0\n",
       "79        0\n",
       "80        0\n",
       "         ..\n",
       "488360    0\n",
       "488404    0\n",
       "488416    0\n",
       "488417    0\n",
       "488439    0\n",
       "Length: 76101, dtype: int64"
      ]
     },
     "metadata": {},
     "output_type": "display_data"
    }
   ],
   "source": [
    "display(y_)"
   ]
  },
  {
   "cell_type": "markdown",
   "id": "5a270986-1bc2-4e11-95bf-f5d66d8e2ab4",
   "metadata": {},
   "source": [
    "### Predicting Oscars' nomination status with a Random Forest Classifier\n",
    "\n",
    "We face a supervised classification problem and we expect non lininearity. Moreover, the features we consider don't have a spatial representation so no notion of distance. For these reason, a tree model is adequate. It is easily interpretable and allows to understand what features matter for getting an Oscar, which is ultimately what we are interested in."
   ]
  },
  {
   "cell_type": "code",
   "execution_count": 544,
   "id": "b90a2507-0b0d-4a92-929b-7647f2e2623a",
   "metadata": {
    "tags": []
   },
   "outputs": [
    {
     "name": "stdout",
     "output_type": "stream",
     "text": [
      "              precision    recall  f1-score   support\n",
      "\n",
      "           0       0.96      0.99      0.97     14607\n",
      "           1       0.11      0.04      0.06       475\n",
      "           2       0.00      0.00      0.00       139\n",
      "\n",
      "    accuracy                           0.95     15221\n",
      "   macro avg       0.36      0.34      0.35     15221\n",
      "weighted avg       0.93      0.95      0.94     15221\n",
      "\n"
     ]
    }
   ],
   "source": [
    "# Split the data into training and testing sets\n",
    "X_train, X_test, y_train, y_test = train_test_split(X_, y_, test_size=0.2, random_state=42)\n",
    "\n",
    "# Create and train a Random Forest Classifier\n",
    "model = RandomForestClassifier(n_estimators=100, random_state=42)\n",
    "model.fit(X_train, y_train)\n",
    "\n",
    "# Make predictions on the test set\n",
    "y_pred = model.predict(X_test)\n",
    "\n",
    "# Evaluate the model's performance\n",
    "report = classification_report(y_test, y_pred)\n",
    "print(report)"
   ]
  },
  {
   "cell_type": "code",
   "execution_count": 449,
   "id": "be13cc68-3125-4f92-9695-767a4c239210",
   "metadata": {
    "tags": []
   },
   "outputs": [],
   "source": [
    "feature_importances = model.feature_importances_\n",
    "\n",
    "# Create a DataFrame to display feature importances with feature names\n",
    "importance_df = pd.DataFrame({'Feature': X_train.columns, 'Importance': feature_importances})\n",
    "\n",
    "# Sort the features by importance in descending order\n",
    "importance_df = importance_df.sort_values(by='Importance', ascending=False)"
   ]
  },
  {
   "cell_type": "code",
   "execution_count": 547,
   "id": "083cf4a4-de19-44ba-9e2e-daa39a19918b",
   "metadata": {
    "tags": []
   },
   "outputs": [
    {
     "data": {
      "image/png": "[encoded data removed]",
      "text/plain": [
       "<Figure size 1000x600 with 1 Axes>"
      ]
     },
     "metadata": {},
     "output_type": "display_data"
    }
   ],
   "source": [
    "plt.figure(figsize=(10, 6))\n",
    "sns.barplot(x='Importance', y='Feature', data=importance_df)\n",
    "plt.title('Feature Importances')\n",
    "plt.show()"
   ]
  },
  {
   "cell_type": "markdown",
   "id": "3041867a-c564-4157-970c-af2cad4b7d08",
   "metadata": {},
   "source": [
    "It makes sense that gender does not matter much since both men and women win as many Oscars."
   ]
  },
  {
   "cell_type": "code",
   "execution_count": 205,
   "id": "27f72fe4-3a9b-402c-b25c-e6bc8e1c3816",
   "metadata": {
    "tags": []
   },
   "outputs": [
    {
     "data": {
      "text/plain": [
       "Index(['Actor gender', 'Actor age at movie release', 'Actor height',\n",
       "       'Movie runtime', 'Encoded language', 'Encoded genre', 'Encoded country',\n",
       "       'Encoded ethnicity'],\n",
       "      dtype='object')"
      ]
     },
     "execution_count": 205,
     "metadata": {},
     "output_type": "execute_result"
    }
   ],
   "source": [
    "X_.columns"
   ]
  },
  {
   "cell_type": "code",
   "execution_count": 460,
   "id": "d435807c-7db9-4269-bbcc-6080e01a08e3",
   "metadata": {
    "tags": []
   },
   "outputs": [
    {
     "name": "stdout",
     "output_type": "stream",
     "text": [
      "[2, 74, 1.6, 110, 28, 217, 71, 126]\n"
     ]
    }
   ],
   "source": [
    "def transform_features(input_features):\n",
    "    \"\"\"Reverses encoding for prediction\"\"\"\n",
    "    string_indices = [0, 4, 5, 6, 7] # to change if order of variables changes\n",
    "    \n",
    "    for index in string_indices:\n",
    "        if input_features[index] in gender_mapping:\n",
    "            input_features[index] = gender_mapping[input_features[index]]\n",
    "        elif input_features[index] in language_dict:\n",
    "            input_features[index] = language_dict[input_features[index]]\n",
    "        elif input_features[index] in genre_dict:\n",
    "            input_features[index] = genre_dict[input_features[index]]\n",
    "        elif input_features[index] in country_dict:\n",
    "            input_features[index] = country_dict[input_features[index]]\n",
    "     #   elif input_features[index] in ethnicity_dict:\n",
    "      #      input_features[index] = ethnicity_dict[input_features[index]]\n",
    "\n",
    "    return input_features"
   ]
  },
  {
   "cell_type": "code",
   "execution_count": 551,
   "id": "2f3d3a39-b505-4e05-9ae7-9dfcf36515b5",
   "metadata": {
    "tags": []
   },
   "outputs": [
    {
     "name": "stdout",
     "output_type": "stream",
     "text": [
      "[2, 74, 1.6, 110, 28, 217, 71, 126]\n",
      "This actor/actress gets nothing.\n"
     ]
    },
    {
     "name": "stderr",
     "output_type": "stream",
     "text": [
      "/Users/atoure/miniconda3/envs/ada/lib/python3.9/site-packages/sklearn/base.py:465: UserWarning: X does not have valid feature names, but RandomForestClassifier was fitted with feature names\n",
      "  warnings.warn(\n"
     ]
    }
   ],
   "source": [
    "# Prediction of oscars based on an input vector of features\n",
    "\n",
    "input_features = ['M',74,1.6,110,'English', 'Thriller', 'United States of America', 126]\n",
    "transformed_features = transform_features(input_features)\n",
    "\n",
    "predicted_label = model.predict([transformed_features])[0] # we need a mapping of ethnicities to interpret it\n",
    "outcome = outcome_mapping[predicted_label]\n",
    "\n",
    "print('This actor/actress {}.'.format(outcome))"
   ]
  },
  {
   "cell_type": "markdown",
   "id": "30e7b9da-060c-449d-a36d-4af0b70236e5",
   "metadata": {},
   "source": [
    "### Creating a score index\n",
    "\n",
    "We want to create a score between 0 and 5 based on the probability of being nominated or winning an Oscar for a given movie and actor. \n",
    "For instanec, we can assign the score 5 for someone winning and 3 for someone being nominated. Then, we use probabilities to weigh this score and obtain an index between 0 and 5."
   ]
  },
  {
   "cell_type": "code",
   "execution_count": 480,
   "id": "e93f49bf-9ed9-4484-bcaa-2aca66c7b603",
   "metadata": {
    "tags": []
   },
   "outputs": [
    {
     "name": "stderr",
     "output_type": "stream",
     "text": [
      "/Users/atoure/miniconda3/envs/ada/lib/python3.9/site-packages/sklearn/base.py:465: UserWarning: X does not have valid feature names, but RandomForestClassifier was fitted with feature names\n",
      "  warnings.warn(\n"
     ]
    }
   ],
   "source": [
    "proba = model.predict_proba([predicted_label])"
   ]
  },
  {
   "cell_type": "code",
   "execution_count": 481,
   "id": "25a757ae-c01f-4590-a4f7-80eda1e2e0bb",
   "metadata": {
    "tags": []
   },
   "outputs": [],
   "source": [
    "oscar_score= 5*proba[0][2] + 3*proba[0][1]"
   ]
  },
  {
   "cell_type": "code",
   "execution_count": 549,
   "id": "bbbcd7c4-96df-48f1-8a11-3885eac2f123",
   "metadata": {
    "tags": []
   },
   "outputs": [
    {
     "name": "stdout",
     "output_type": "stream",
     "text": [
      "Given the probabilities [[0.49357143 0.50642857 0.        ]], the Award score is 1.52.\n"
     ]
    }
   ],
   "source": [
    "print('Given the probabilities {}, the Award score is {}.'.format(proba, round(oscar_score,2)))"
   ]
  },
  {
   "cell_type": "markdown",
   "id": "7da94a3f-2b0b-4b9f-ac8d-abd01be814db",
   "metadata": {
    "tags": []
   },
   "source": [
    "### Limitations of the dataset\n",
    "\n",
    "The Oscars take place in the US and are usually political. It is less likely for popular foreign actors to win an award outside the best international film category, even if some film industries are very big outside of Hollywood, such as Bollywood and Nollywood.\n",
    "\n",
    "We haven't found an exhaustive dataset of awards. We might decide to extend the analysis to more award ceremonies but none is exempt from this national preference: The Australian Film Institute Awards, The BAFTA Film Awards (UK), the Césars Film Awards (France), the Golden Bears (Germany), the Golden Globes (US), the Golden Lions (Venice), the Palme d'Or awards (France), the Sundance Film Festival awards (independent movies), Filmfare (Hindi), etc.\n",
    "\n",
    "We do not aim at doing an exhaustive analysis, but it is important here to understand that we have a Western bias and we might need to use other indicators to better understand success of actors outside of Hollywood. \n",
    "\n",
    "Using our score indices complementarily is key to go past potential biases."
   ]
  },
  {
   "cell_type": "code",
   "execution_count": 561,
   "id": "f1c79227-e000-40ae-a7ae-8be399ec34b2",
   "metadata": {
    "tags": []
   },
   "outputs": [
    {
     "data": {
      "text/plain": [
       "{'United States of America': 12598,\n",
       " 'United Kingdom': 2393,\n",
       " 'France': 667,\n",
       " 'Germany': 530,\n",
       " 'Italy': 507}"
      ]
     },
     "execution_count": 561,
     "metadata": {},
     "output_type": "execute_result"
    }
   ],
   "source": [
    "# What are movie nationalities of actors that won an Oscar?\n",
    "oscar_winers = characters_oscars[characters_oscars['winner'] == True].merge(movies, on='Freebase movie ID', how='left') \n",
    "\n",
    "# Flatten the dictionaries and count countries occurrences\n",
    "countries_counts = Counter(country for countries_dict in oscar_winers[\"Movie countries\"] for country in countries_dict.values())\n",
    "\n",
    "filtered_countries_counts = {country: count for country, count in countries_counts.items() if count > 500}\n",
    "sorted_countries_counts = dict(sorted(filtered_countries_counts.items(), key=lambda item: item[1], reverse=True))\n",
    "\n",
    "sorted_countries_counts # Indian movies are not represented at all despite their big industry"
   ]
  },
  {
   "cell_type": "markdown",
   "id": "6ecebb75-55d2-4c70-a198-2366fb9f1460",
   "metadata": {},
   "source": [
    "Another issue is that we do not have mapping of ethnicity so we even though we know this feature matters, we cannot really explain how. Additionally, it is largely missing, so it might be better not to include it."
   ]
  },
  {
   "cell_type": "code",
   "execution_count": 558,
   "id": "be979d65-58d9-4c84-b26e-fb93a65efc56",
   "metadata": {
    "tags": []
   },
   "outputs": [
    {
     "name": "stdout",
     "output_type": "stream",
     "text": [
      "For '/m/0dryh9k':\n",
      "  - First actor: Mohanlal\n",
      "  - Total count: 16555\n",
      "----\n",
      "For '/m/041rx':\n",
      "  - First actor: Seth Green\n",
      "  - Total count: 12244\n",
      "----\n",
      "For '/m/0x67':\n",
      "  - First actor: Ice Cube\n",
      "  - Total count: 10947\n",
      "----\n",
      "For '/m/02w7gg':\n",
      "  - First actor: Pete Postlethwaite\n",
      "  - Total count: 7599\n",
      "----\n",
      "For '/m/033tf_':\n",
      "  - First actor: Matt Stone\n",
      "  - Total count: 5659\n",
      "----\n"
     ]
    }
   ],
   "source": [
    "result = characters_movie_oscars.groupby('Actor ethnicity')['Actor name'].agg(['first', 'count']).sort_values(by='count', ascending=False).nlargest(5, 'count')\n",
    "\n",
    "for ethnicity, values in result.iterrows():\n",
    "    print(f\"For '{ethnicity}':\")\n",
    "    print(f\"  - First actor: {values['first']}\")\n",
    "    print(f\"  - Total count: {values['count']}\")\n",
    "    print(\"----\")\n",
    "    \n",
    "# Indian, white, black? Seems more precise than this"
   ]
  },
  {
   "cell_type": "markdown",
   "id": "a333a173-aae7-477c-aece-5f5634896a8d",
   "metadata": {},
   "source": [
    "### Next steps: \n",
    "- Comment on feature importance\n",
    "- What values have a positive influence on outcome (gender matters because women win relatively more?)\n",
    "- Prompt to give bounds and options and to select the relevant features\n",
    "- Use more datasets or motivate this one?"
   ]
  },
  {
   "cell_type": "markdown",
   "id": "82040364-44b6-4ab6-9cb0-bdc06e834449",
   "metadata": {},
   "source": [
    "## 2.2 Cumulated revenues of movies"
   ]
  },
  {
   "cell_type": "markdown",
   "id": "6e40e6af-761c-4fb7-b197-73331fc478a6",
   "metadata": {
    "tags": []
   },
   "source": [
    "### Merge with the CMU Movie Corpus"
   ]
  },
  {
   "cell_type": "code",
   "execution_count": null,
   "id": "fc279b64-4964-49a6-92fc-225b7c455a9b",
   "metadata": {},
   "outputs": [],
   "source": [
    "actors_movies = characters.merge(movies, on='Freebase movie ID', how='left') "
   ]
  },
  {
   "cell_type": "markdown",
   "id": "93d68f71-e4af-4680-b8d6-6c9656451ae7",
   "metadata": {},
   "source": [
    "### Preparing the dataset\n",
    "\n",
    "Here, we are looking at an aggregate outcome throughout one's career. Contrary to the previous analysis, we want to associate here an amount to characteristics that are fixed over an actor's career. Someone's age on the movie release date no longer matters, but their career start date might. Gender and height are still relevant. For movie characteristics, we can aggregate them over the career, selecting the largest occurence for instance.\n",
    "\n",
    "Hence, we isolate the following variables that might explain cumulated movie revenues:\n",
    "- Actor's age at the beginning of their career\n",
    "- Actor's gender\n",
    "- Mean age during the career\n",
    "- Actor's ethnicity\n",
    "- Actor's height\n",
    "- Most frequent movie language\n",
    "- Most frequent country of the movie\n",
    "- Variety of movie genres\n",
    "- (to add: variety of roles)"
   ]
  },
  {
   "cell_type": "code",
   "execution_count": 171,
   "id": "322e24a6-53f5-49fa-bf69-95b23f1cee15",
   "metadata": {
    "tags": []
   },
   "outputs": [
    {
     "data": {
      "text/html": [
       "<div>\n",
       "<style scoped>\n",
       "    .dataframe tbody tr th:only-of-type {\n",
       "        vertical-align: middle;\n",
       "    }\n",
       "\n",
       "    .dataframe tbody tr th {\n",
       "        vertical-align: top;\n",
       "    }\n",
       "\n",
       "    .dataframe thead th {\n",
       "        text-align: right;\n",
       "    }\n",
       "</style>\n",
       "<table border=\"1\" class=\"dataframe\">\n",
       "  <thead>\n",
       "    <tr style=\"text-align: right;\">\n",
       "      <th></th>\n",
       "      <th>actor_name</th>\n",
       "      <th>total_revenues</th>\n",
       "      <th>unique_movies</th>\n",
       "      <th>unique_countries</th>\n",
       "      <th>unique_genres</th>\n",
       "      <th>unique_languages</th>\n",
       "      <th>mean_age</th>\n",
       "      <th>mean_release</th>\n",
       "    </tr>\n",
       "  </thead>\n",
       "  <tbody>\n",
       "    <tr>\n",
       "      <th>0</th>\n",
       "      <td>Cesarine Prinz\\t</td>\n",
       "      <td>0.0</td>\n",
       "      <td>2</td>\n",
       "      <td>1</td>\n",
       "      <td>2</td>\n",
       "      <td>0</td>\n",
       "      <td>NaN</td>\n",
       "      <td>13406.50</td>\n",
       "    </tr>\n",
       "    <tr>\n",
       "      <th>1</th>\n",
       "      <td>Daniel Newman</td>\n",
       "      <td>0.0</td>\n",
       "      <td>1</td>\n",
       "      <td>3</td>\n",
       "      <td>2</td>\n",
       "      <td>1</td>\n",
       "      <td>22.000000</td>\n",
       "      <td>40485.00</td>\n",
       "    </tr>\n",
       "    <tr>\n",
       "      <th>2</th>\n",
       "      <td>'Big Bill' Giddinger</td>\n",
       "      <td>0.0</td>\n",
       "      <td>1</td>\n",
       "      <td>1</td>\n",
       "      <td>5</td>\n",
       "      <td>1</td>\n",
       "      <td>NaN</td>\n",
       "      <td>8544.00</td>\n",
       "    </tr>\n",
       "    <tr>\n",
       "      <th>3</th>\n",
       "      <td>'Big' Lee</td>\n",
       "      <td>0.0</td>\n",
       "      <td>1</td>\n",
       "      <td>1</td>\n",
       "      <td>3</td>\n",
       "      <td>1</td>\n",
       "      <td>NaN</td>\n",
       "      <td>31251.00</td>\n",
       "    </tr>\n",
       "    <tr>\n",
       "      <th>4</th>\n",
       "      <td>'Chicken' Holleman</td>\n",
       "      <td>0.0</td>\n",
       "      <td>1</td>\n",
       "      <td>1</td>\n",
       "      <td>7</td>\n",
       "      <td>1</td>\n",
       "      <td>NaN</td>\n",
       "      <td>30845.00</td>\n",
       "    </tr>\n",
       "    <tr>\n",
       "      <th>...</th>\n",
       "      <td>...</td>\n",
       "      <td>...</td>\n",
       "      <td>...</td>\n",
       "      <td>...</td>\n",
       "      <td>...</td>\n",
       "      <td>...</td>\n",
       "      <td>...</td>\n",
       "      <td>...</td>\n",
       "    </tr>\n",
       "    <tr>\n",
       "      <th>134073</th>\n",
       "      <td>雅-miyavi-</td>\n",
       "      <td>0.0</td>\n",
       "      <td>1</td>\n",
       "      <td>1</td>\n",
       "      <td>4</td>\n",
       "      <td>1</td>\n",
       "      <td>22.000000</td>\n",
       "      <td>42423.00</td>\n",
       "    </tr>\n",
       "    <tr>\n",
       "      <th>134074</th>\n",
       "      <td>雪乃五月</td>\n",
       "      <td>0.0</td>\n",
       "      <td>2</td>\n",
       "      <td>1</td>\n",
       "      <td>6</td>\n",
       "      <td>1</td>\n",
       "      <td>30.500000</td>\n",
       "      <td>41455.50</td>\n",
       "    </tr>\n",
       "    <tr>\n",
       "      <th>134075</th>\n",
       "      <td>高山久子</td>\n",
       "      <td>0.0</td>\n",
       "      <td>3</td>\n",
       "      <td>1</td>\n",
       "      <td>12</td>\n",
       "      <td>1</td>\n",
       "      <td>35.333333</td>\n",
       "      <td>40006.00</td>\n",
       "    </tr>\n",
       "    <tr>\n",
       "      <th>134076</th>\n",
       "      <td>高橋美紀</td>\n",
       "      <td>0.0</td>\n",
       "      <td>1</td>\n",
       "      <td>1</td>\n",
       "      <td>2</td>\n",
       "      <td>1</td>\n",
       "      <td>24.000000</td>\n",
       "      <td>35794.00</td>\n",
       "    </tr>\n",
       "    <tr>\n",
       "      <th>134077</th>\n",
       "      <td>高田由美</td>\n",
       "      <td>0.0</td>\n",
       "      <td>4</td>\n",
       "      <td>1</td>\n",
       "      <td>7</td>\n",
       "      <td>1</td>\n",
       "      <td>34.250000</td>\n",
       "      <td>39670.25</td>\n",
       "    </tr>\n",
       "  </tbody>\n",
       "</table>\n",
       "<p>134078 rows × 8 columns</p>\n",
       "</div>"
      ],
      "text/plain": [
       "                  actor_name  total_revenues  unique_movies  unique_countries  \\\n",
       "0           Cesarine Prinz\\t             0.0              2                 1   \n",
       "1              Daniel Newman             0.0              1                 3   \n",
       "2       'Big Bill' Giddinger             0.0              1                 1   \n",
       "3                  'Big' Lee             0.0              1                 1   \n",
       "4         'Chicken' Holleman             0.0              1                 1   \n",
       "...                      ...             ...            ...               ...   \n",
       "134073             雅-miyavi-             0.0              1                 1   \n",
       "134074                  雪乃五月             0.0              2                 1   \n",
       "134075                  高山久子             0.0              3                 1   \n",
       "134076                  高橋美紀             0.0              1                 1   \n",
       "134077                  高田由美             0.0              4                 1   \n",
       "\n",
       "        unique_genres  unique_languages   mean_age  mean_release  \n",
       "0                   2                 0        NaN      13406.50  \n",
       "1                   2                 1  22.000000      40485.00  \n",
       "2                   5                 1        NaN       8544.00  \n",
       "3                   3                 1        NaN      31251.00  \n",
       "4                   7                 1        NaN      30845.00  \n",
       "...               ...               ...        ...           ...  \n",
       "134073              4                 1  22.000000      42423.00  \n",
       "134074              6                 1  30.500000      41455.50  \n",
       "134075             12                 1  35.333333      40006.00  \n",
       "134076              2                 1  24.000000      35794.00  \n",
       "134077              7                 1  34.250000      39670.25  \n",
       "\n",
       "[134078 rows x 8 columns]"
      ]
     },
     "metadata": {},
     "output_type": "display_data"
    }
   ],
   "source": [
    "actors_revenues = actors_movies.groupby('Actor name')\n",
    "\n",
    "# Custom aggregation function to get lists of unique values\n",
    "unique_list = lambda x: len(list(set(val for sublist in x for val in sublist)))\n",
    "\n",
    "# Aggregating the desired statistics\n",
    "actor_statistics = actors_revenues.agg({\n",
    "    'Movie box office revenue': 'sum',\n",
    "    'Movie name': 'nunique',\n",
    "    'Movie countries': unique_list,\n",
    "    'Movie genres': unique_list,\n",
    "    'Movie languages': unique_list,\n",
    "    'Actor age at movie release': 'mean',\n",
    "    'release date': 'mean'\n",
    "}).reset_index()\n",
    "\n",
    "# Renaming the columns for clarity\n",
    "actor_statistics.columns = ['actor_name', 'total_revenues', 'unique_movies', 'unique_countries', 'unique_genres', 'unique_languages', 'mean_age', 'mean_release'] \n",
    "                            \n",
    "# Displaying the resulting DataFrame\n",
    "display(actor_statistics) # problem with zero revenues to solve"
   ]
  },
  {
   "cell_type": "code",
   "execution_count": 172,
   "id": "0268c924-b0b1-4c9d-914c-076ee6e1a204",
   "metadata": {
    "tags": []
   },
   "outputs": [],
   "source": [
    "actors_movies = actors_movies.merge(actor_statistics, left_on='Actor name', right_on='actor_name')"
   ]
  },
  {
   "cell_type": "markdown",
   "id": "58797749-595a-45db-a924-a3289da9cb52",
   "metadata": {},
   "source": [
    "For the outcome, we do not consider different living standards across countries. We already have revenues in USD. However, we want to normalize the revenues per year to account for economic boost and booms that might explain some yearly variation in revenues. Hence we compare the revenues of a movie with respect to the revenues of the median or more profitable movie of the year. "
   ]
  },
  {
   "cell_type": "markdown",
   "id": "eee7b130-e9e7-4503-ac31-b0a370a090f7",
   "metadata": {},
   "source": [
    "### Predicting cumulated revenues"
   ]
  },
  {
   "cell_type": "code",
   "execution_count": 173,
   "id": "68b6568b-c1c6-4a38-9a08-3491d8b15eed",
   "metadata": {
    "tags": []
   },
   "outputs": [
    {
     "name": "stdout",
     "output_type": "stream",
     "text": [
      "(449441, 10)\n",
      "(147101, 10)\n"
     ]
    }
   ],
   "source": [
    "## Naive linear regression ##\n",
    "\n",
    "df = actors_movies.copy()\n",
    "\n",
    "gender_mapping = {'F': 1, 'M': 2}\n",
    "df['Actor gender'] = df['Actor gender'].map(gender_mapping)\n",
    "\n",
    "# Adding a constant for the intercept term in the regression\n",
    "df = sm.add_constant(df)\n",
    "\n",
    "df = df[['const', 'mean_release', 'Actor gender', 'mean_age', 'Actor height', 'total_revenues', 'unique_movies', 'unique_countries', 'unique_genres', 'unique_languages']]\n",
    "print(df.shape)\n",
    "df = df.dropna() # have to find an alternative, we lose over 70% of the data\n",
    "print(df.shape)\n",
    "\n",
    "# Defining the independent variables\n",
    "independent_vars = ['const', 'mean_release', 'Actor gender', 'mean_age', 'Actor height', 'unique_movies', 'unique_countries', 'unique_genres', 'unique_languages']"
   ]
  },
  {
   "cell_type": "code",
   "execution_count": 174,
   "id": "0d6c81aa-0faf-435b-92c5-43d4ba689253",
   "metadata": {
    "tags": []
   },
   "outputs": [
    {
     "name": "stdout",
     "output_type": "stream",
     "text": [
      "                            OLS Regression Results                            \n",
      "==============================================================================\n",
      "Dep. Variable:         total_revenues   R-squared:                       0.445\n",
      "Model:                            OLS   Adj. R-squared:                  0.445\n",
      "Method:                 Least Squares   F-statistic:                 1.474e+04\n",
      "Date:                Thu, 16 Nov 2023   Prob (F-statistic):               0.00\n",
      "Time:                        15:26:37   Log-Likelihood:            -3.2697e+06\n",
      "No. Observations:              147101   AIC:                         6.539e+06\n",
      "Df Residuals:                  147092   BIC:                         6.540e+06\n",
      "Df Model:                           8                                         \n",
      "Covariance Type:            nonrobust                                         \n",
      "====================================================================================\n",
      "                       coef    std err          t      P>|t|      [0.025      0.975]\n",
      "------------------------------------------------------------------------------------\n",
      "const            -2.479e+09   2.24e+07   -110.745      0.000   -2.52e+09   -2.44e+09\n",
      "mean_release      4.474e+04    475.587     94.070      0.000    4.38e+04    4.57e+04\n",
      "Actor gender      1.091e+08   6.41e+06     17.011      0.000    9.65e+07    1.22e+08\n",
      "mean_age          -4.31e+06   3.18e+05    -13.551      0.000   -4.93e+06   -3.69e+06\n",
      "Actor height     -1.573e+06   6.62e+05     -2.376      0.017   -2.87e+06   -2.75e+05\n",
      "unique_movies    -4.935e+06   9.98e+04    -49.449      0.000   -5.13e+06   -4.74e+06\n",
      "unique_countries -1.489e+07   1.03e+06    -14.515      0.000   -1.69e+07   -1.29e+07\n",
      "unique_genres     3.334e+07   2.02e+05    164.647      0.000    3.29e+07    3.37e+07\n",
      "unique_languages  9.581e+07   1.03e+06     93.014      0.000    9.38e+07    9.78e+07\n",
      "==============================================================================\n",
      "Omnibus:                   106365.631   Durbin-Watson:                   0.051\n",
      "Prob(Omnibus):                  0.000   Jarque-Bera (JB):          2484151.580\n",
      "Skew:                           3.249   Prob(JB):                         0.00\n",
      "Kurtosis:                      22.055   Cond. No.                     3.04e+05\n",
      "==============================================================================\n",
      "\n",
      "Notes:\n",
      "[1] Standard Errors assume that the covariance matrix of the errors is correctly specified.\n",
      "[2] The condition number is large, 3.04e+05. This might indicate that there are\n",
      "strong multicollinearity or other numerical problems.\n"
     ]
    }
   ],
   "source": [
    "# Creating the model\n",
    "model = sm.OLS(df['total_revenues'], df[independent_vars])\n",
    "\n",
    "# Fitting the model\n",
    "results = model.fit()\n",
    "\n",
    "# Displaying the regression results\n",
    "print(results.summary())"
   ]
  },
  {
   "cell_type": "markdown",
   "id": "79d6f45e-364d-453b-9ebe-07e651c85951",
   "metadata": {},
   "source": [
    "Every coefficient is statistically significant after performing a t-test."
   ]
  },
  {
   "cell_type": "markdown",
   "id": "1a3129be-36b1-46ef-bb36-574d869077c1",
   "metadata": {},
   "source": [
    "### Creating a score index\n",
    "\n",
    "We want to map revenues to a score between 0 and 5. Since we expect them to follow a power-law distribution,we will first apply a log-transformation. This way, we compress the scale and handle extreme values more effectively. This approach is useful to emphasize differences among lower values while still capturing the variability in the higher values."
   ]
  },
  {
   "cell_type": "markdown",
   "id": "e2779501-7056-4d47-94ac-23599af2e733",
   "metadata": {},
   "source": [
    "**Use input feature to predict a score**"
   ]
  },
  {
   "cell_type": "markdown",
   "id": "4007abd1-1d74-4b86-b6e9-3e62ea1b6e89",
   "metadata": {},
   "source": [
    "### Limitations\n",
    "\n",
    "Someone can play an unimportant role in many high revenues movies, it doesn't mean they are getting a lot of income from their movie. However, combined with other indicators, it can give us an idea of the success of someone. Note that we do not establish a causal relationship between the presence of an actor and the money the movie generated."
   ]
  },
  {
   "cell_type": "markdown",
   "id": "a33aa3c7-9064-4a58-9532-0f033a1b7503",
   "metadata": {},
   "source": [
    "### Next steps\n",
    "\n",
    "This part is not done."
   ]
  },
  {
   "cell_type": "markdown",
   "id": "46716fd7-4820-44ab-8308-db6d78db2542",
   "metadata": {},
   "source": [
    "## 3. Expected outcomes\n",
    "\n",
    "We aim to provide a more nuanced understanding of the driving factors of success and allow our reader to interact with our results.\n",
    "\n",
    "- Prediction of all types of success based on a feature input. This can be visualized for instance with a spider chart.\n",
    "- Identification of important features for a given success indicator goal. This will highlight the power one has in being successful.\n",
    "- Computation of success indicators for actors present in the dataset. This can be visualized with a research tool. "
   ]
  }
 ],
 "metadata": {
  "kernelspec": {
   "display_name": "Python [conda env:ada] *",
   "language": "python",
   "name": "conda-env-ada-py"
  },
  "language_info": {
   "codemirror_mode": {
    "name": "ipython",
    "version": 3
   },
   "file_extension": ".py",
   "mimetype": "text/x-python",
   "name": "python",
   "nbconvert_exporter": "python",
   "pygments_lexer": "ipython3",
   "version": "3.9.18"
  }
 },
 "nbformat": 4,
 "nbformat_minor": 5
}
