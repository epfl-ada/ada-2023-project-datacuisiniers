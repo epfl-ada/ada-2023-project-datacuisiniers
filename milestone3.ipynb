{
 "cells": [
  {
   "cell_type": "markdown",
   "id": "23a02f79-8625-476a-9da4-3459b0f4a29d",
   "metadata": {
    "tags": []
   },
   "source": [
    "# Datacuisiniers - Milestone 3\n",
    "\n",
    "We chose the **[CMU Movie Summary Corpus](http://www.cs.cmu.edu/~ark/personas/)**. This dataset contains 42,306 movie plot summaries extracted from Wikipedia + aligned metadata extracted from Freebase.\n",
    "\n",
    "Using this dataset, we want to dive into the **drivers of an actor's success**, following several definitions."
   ]
  },
  {
   "cell_type": "code",
   "execution_count": 1,
   "id": "bd87f8f4-a1ff-4fa0-967e-666e6a6c3edc",
   "metadata": {
    "tags": []
   },
   "outputs": [],
   "source": [
    "import pandas as pd\n",
    "import seaborn as sns\n",
    "import numpy as np\n",
    "from collections import Counter\n",
    "import matplotlib.pyplot as plt\n",
    "%matplotlib inline\n",
    "import ast \n",
    "import warnings\n",
    "from scipy.stats import boxcox\n",
    "import statsmodels.api as sm\n",
    "import helpers\n",
    "\n",
    "from sklearn.model_selection import train_test_split\n",
    "from sklearn.ensemble import RandomForestClassifier\n",
    "from sklearn.metrics import classification_report\n",
    "from sklearn.preprocessing import LabelEncoder\n",
    "\n",
    "\n",
    "from imblearn.over_sampling import RandomOverSampler\n",
    "import os\n",
    "import gzip\n",
    "from tqdm import tqdm\n",
    "import xml.etree.ElementTree as ET"
   ]
  },
  {
   "cell_type": "markdown",
   "id": "2da6980b-dbd6-4680-9a0f-35e4a054ce83",
   "metadata": {
    "tags": []
   },
   "source": [
    "## 1. Exploration of the dataset\n",
    "\n",
    "Many variables of the dataset are relevant to predict the success of an actor or an actress. Some are present in the characters dataset:\n",
    "- Age at the beginning of their careers\n",
    "- Age at the time of the movie\n",
    "- Gender\n",
    "- Ethnicity\n",
    "- Height\n",
    "\n",
    "Some are present in the movie dataset, but would need to be aggregated by actor:\n",
    "- Movie release date (relative to the first film?): maybe some actors released their average movie during the golden age of the film industry?\n",
    "- Movie language: maybe some languages allow to touch more people?\n",
    "- Country of the movie: the country with the most occurence?\n",
    "\n",
    "Some have to be constructed for this analysis:\n",
    "- Variety of film genres in which the actor has played\n",
    "- Variety of roles portrayed with an analysis of personas"
   ]
  },
  {
   "cell_type": "markdown",
   "id": "277ce88c-11c0-4741-a517-c0b29632a85a",
   "metadata": {},
   "source": [
    "### Movies metadata"
   ]
  },
  {
   "cell_type": "code",
   "execution_count": 2,
   "id": "deb37dae-d189-45ba-bdd5-f5e5c203e92b",
   "metadata": {
    "tags": []
   },
   "outputs": [],
   "source": [
    "movies = pd.read_table('~/ADA2023/Project/Data/MovieSummaries/movie.metadata.tsv', header=None)\n",
    "movies.columns = ['Wikipedia movie ID','Freebase movie ID','Movie name','Movie release date','Movie box office revenue','Movie runtime','Movie languages','Movie countries','Movie genres']"
   ]
  },
  {
   "cell_type": "code",
   "execution_count": 3,
   "id": "620f56e8-5cbc-43c8-aca8-9785c8e69006",
   "metadata": {
    "tags": []
   },
   "outputs": [
    {
     "data": {
      "text/html": [
       "<div>\n",
       "<style scoped>\n",
       "    .dataframe tbody tr th:only-of-type {\n",
       "        vertical-align: middle;\n",
       "    }\n",
       "\n",
       "    .dataframe tbody tr th {\n",
       "        vertical-align: top;\n",
       "    }\n",
       "\n",
       "    .dataframe thead th {\n",
       "        text-align: right;\n",
       "    }\n",
       "</style>\n",
       "<table border=\"1\" class=\"dataframe\">\n",
       "  <thead>\n",
       "    <tr style=\"text-align: right;\">\n",
       "      <th></th>\n",
       "      <th>Wikipedia movie ID</th>\n",
       "      <th>Freebase movie ID</th>\n",
       "      <th>Movie name</th>\n",
       "      <th>Movie release date</th>\n",
       "      <th>Movie box office revenue</th>\n",
       "      <th>Movie runtime</th>\n",
       "      <th>Movie languages</th>\n",
       "      <th>Movie countries</th>\n",
       "      <th>Movie genres</th>\n",
       "    </tr>\n",
       "  </thead>\n",
       "  <tbody>\n",
       "    <tr>\n",
       "      <th>0</th>\n",
       "      <td>975900</td>\n",
       "      <td>/m/03vyhn</td>\n",
       "      <td>Ghosts of Mars</td>\n",
       "      <td>2001-08-24</td>\n",
       "      <td>14010832.0</td>\n",
       "      <td>98.0</td>\n",
       "      <td>{\"/m/02h40lc\": \"English Language\"}</td>\n",
       "      <td>{\"/m/09c7w0\": \"United States of America\"}</td>\n",
       "      <td>{\"/m/01jfsb\": \"Thriller\", \"/m/06n90\": \"Science...</td>\n",
       "    </tr>\n",
       "    <tr>\n",
       "      <th>1</th>\n",
       "      <td>3196793</td>\n",
       "      <td>/m/08yl5d</td>\n",
       "      <td>Getting Away with Murder: The JonBenét Ramsey ...</td>\n",
       "      <td>2000-02-16</td>\n",
       "      <td>NaN</td>\n",
       "      <td>95.0</td>\n",
       "      <td>{\"/m/02h40lc\": \"English Language\"}</td>\n",
       "      <td>{\"/m/09c7w0\": \"United States of America\"}</td>\n",
       "      <td>{\"/m/02n4kr\": \"Mystery\", \"/m/03bxz7\": \"Biograp...</td>\n",
       "    </tr>\n",
       "    <tr>\n",
       "      <th>2</th>\n",
       "      <td>28463795</td>\n",
       "      <td>/m/0crgdbh</td>\n",
       "      <td>Brun bitter</td>\n",
       "      <td>1988</td>\n",
       "      <td>NaN</td>\n",
       "      <td>83.0</td>\n",
       "      <td>{\"/m/05f_3\": \"Norwegian Language\"}</td>\n",
       "      <td>{\"/m/05b4w\": \"Norway\"}</td>\n",
       "      <td>{\"/m/0lsxr\": \"Crime Fiction\", \"/m/07s9rl0\": \"D...</td>\n",
       "    </tr>\n",
       "    <tr>\n",
       "      <th>3</th>\n",
       "      <td>9363483</td>\n",
       "      <td>/m/0285_cd</td>\n",
       "      <td>White Of The Eye</td>\n",
       "      <td>1987</td>\n",
       "      <td>NaN</td>\n",
       "      <td>110.0</td>\n",
       "      <td>{\"/m/02h40lc\": \"English Language\"}</td>\n",
       "      <td>{\"/m/07ssc\": \"United Kingdom\"}</td>\n",
       "      <td>{\"/m/01jfsb\": \"Thriller\", \"/m/0glj9q\": \"Erotic...</td>\n",
       "    </tr>\n",
       "    <tr>\n",
       "      <th>4</th>\n",
       "      <td>261236</td>\n",
       "      <td>/m/01mrr1</td>\n",
       "      <td>A Woman in Flames</td>\n",
       "      <td>1983</td>\n",
       "      <td>NaN</td>\n",
       "      <td>106.0</td>\n",
       "      <td>{\"/m/04306rv\": \"German Language\"}</td>\n",
       "      <td>{\"/m/0345h\": \"Germany\"}</td>\n",
       "      <td>{\"/m/07s9rl0\": \"Drama\"}</td>\n",
       "    </tr>\n",
       "  </tbody>\n",
       "</table>\n",
       "</div>"
      ],
      "text/plain": [
       "   Wikipedia movie ID Freebase movie ID  \\\n",
       "0              975900         /m/03vyhn   \n",
       "1             3196793         /m/08yl5d   \n",
       "2            28463795        /m/0crgdbh   \n",
       "3             9363483        /m/0285_cd   \n",
       "4              261236         /m/01mrr1   \n",
       "\n",
       "                                          Movie name Movie release date  \\\n",
       "0                                     Ghosts of Mars         2001-08-24   \n",
       "1  Getting Away with Murder: The JonBenét Ramsey ...         2000-02-16   \n",
       "2                                        Brun bitter               1988   \n",
       "3                                   White Of The Eye               1987   \n",
       "4                                  A Woman in Flames               1983   \n",
       "\n",
       "   Movie box office revenue  Movie runtime  \\\n",
       "0                14010832.0           98.0   \n",
       "1                       NaN           95.0   \n",
       "2                       NaN           83.0   \n",
       "3                       NaN          110.0   \n",
       "4                       NaN          106.0   \n",
       "\n",
       "                      Movie languages  \\\n",
       "0  {\"/m/02h40lc\": \"English Language\"}   \n",
       "1  {\"/m/02h40lc\": \"English Language\"}   \n",
       "2  {\"/m/05f_3\": \"Norwegian Language\"}   \n",
       "3  {\"/m/02h40lc\": \"English Language\"}   \n",
       "4   {\"/m/04306rv\": \"German Language\"}   \n",
       "\n",
       "                             Movie countries  \\\n",
       "0  {\"/m/09c7w0\": \"United States of America\"}   \n",
       "1  {\"/m/09c7w0\": \"United States of America\"}   \n",
       "2                     {\"/m/05b4w\": \"Norway\"}   \n",
       "3             {\"/m/07ssc\": \"United Kingdom\"}   \n",
       "4                    {\"/m/0345h\": \"Germany\"}   \n",
       "\n",
       "                                        Movie genres  \n",
       "0  {\"/m/01jfsb\": \"Thriller\", \"/m/06n90\": \"Science...  \n",
       "1  {\"/m/02n4kr\": \"Mystery\", \"/m/03bxz7\": \"Biograp...  \n",
       "2  {\"/m/0lsxr\": \"Crime Fiction\", \"/m/07s9rl0\": \"D...  \n",
       "3  {\"/m/01jfsb\": \"Thriller\", \"/m/0glj9q\": \"Erotic...  \n",
       "4                            {\"/m/07s9rl0\": \"Drama\"}  "
      ]
     },
     "execution_count": 3,
     "metadata": {},
     "output_type": "execute_result"
    }
   ],
   "source": [
    "movies.head()"
   ]
  },
  {
   "cell_type": "code",
   "execution_count": 4,
   "id": "b0e3b450-7e4c-4d39-a769-874174c2234b",
   "metadata": {
    "tags": []
   },
   "outputs": [],
   "source": [
    "# Remove leading and trailing spaces, then parse the dictionaries\n",
    "movies['Movie languages'] = movies['Movie languages'].apply(lambda x: ast.literal_eval(x.strip()) if x.strip() else {})\n",
    "movies['Movie countries'] = movies['Movie countries'].apply(lambda x: ast.literal_eval(x.strip()) if x.strip() else {})\n",
    "movies['Movie genres'] = movies['Movie genres'].apply(lambda x: ast.literal_eval(x.strip()) if x.strip() else {})"
   ]
  },
  {
   "cell_type": "code",
   "execution_count": 5,
   "id": "9062f8ff-6c6a-4e59-a830-012c5e3e5ab4",
   "metadata": {
    "tags": []
   },
   "outputs": [
    {
     "data": {
      "image/png": "[encoded data removed]",
      "text/plain": [
       "<Figure size 1000x600 with 1 Axes>"
      ]
     },
     "metadata": {},
     "output_type": "display_data"
    }
   ],
   "source": [
    "# Count missing values per column\n",
    "missing_percent = (movies.isna().mean() * 100)\n",
    "\n",
    "# Create a bar plot\n",
    "plt.figure(figsize=(10, 6))\n",
    "sns.barplot(x=missing_percent.index, y=missing_percent.values)\n",
    "plt.xticks(rotation=90)  \n",
    "plt.xlabel('Columns')\n",
    "plt.ylabel('Missing Values (%)')\n",
    "plt.title('Percentage of Missing Values per Column')\n",
    "plt.show()"
   ]
  },
  {
   "cell_type": "markdown",
   "id": "4f720da5-c2fc-4129-8525-85369b2df59f",
   "metadata": {},
   "source": [
    "There is a lot of missing values for the variable on movie revenues."
   ]
  },
  {
   "cell_type": "code",
   "execution_count": 6,
   "id": "ecf6f607-8435-4065-91d1-b014b51f07cd",
   "metadata": {
    "tags": []
   },
   "outputs": [
    {
     "data": {
      "image/png": "[encoded data removed]",
      "text/plain": [
       "<Figure size 1000x2000 with 3 Axes>"
      ]
     },
     "metadata": {},
     "output_type": "display_data"
    }
   ],
   "source": [
    "# Flatten the dictionaries and count language occurrences\n",
    "language_counts = Counter(language for languages_dict in movies[\"Movie languages\"] for language in languages_dict.values())\n",
    "filtered_language_counts = {language: count for language, count in language_counts.items() if count > 500}\n",
    "sorted_filtered_language_counts = dict(sorted(filtered_language_counts.items(), key=lambda item: item[1], reverse=True))\n",
    "\n",
    "# Flatten the dictionaries and count countries occurrences\n",
    "countries_counts = Counter(country for countries_dict in movies[\"Movie countries\"] for country in countries_dict.values())\n",
    "filtered_countries_counts = {country: count for country, count in countries_counts.items() if count > 500}\n",
    "sorted_filtered_countries_counts = dict(sorted(filtered_countries_counts.items(), key=lambda item: item[1], reverse=True))\n",
    "\n",
    "# Flatten the dictionaries and count genres occurrences\n",
    "genres_counts = Counter(genre for genres_dict in movies[\"Movie genres\"] for genre in genres_dict.values())\n",
    "filtered_genres_counts = {genre: count for genre, count in genres_counts.items() if count > 1000}\n",
    "sorted_filtered_genres_counts = dict(sorted(filtered_genres_counts.items(), key=lambda item: item[1], reverse=True))\n",
    "\n",
    "# Create subplots\n",
    "fig, axes = plt.subplots(3, 1, figsize=(10, 20))\n",
    "\n",
    "# Plot for Movie Languages\n",
    "languages, counts = zip(*sorted_filtered_language_counts.items())\n",
    "axes[0].bar(languages, counts, color='skyblue')\n",
    "axes[0].set_ylabel('Number of Movies')\n",
    "axes[0].set_title('Distribution of Movie Languages')\n",
    "axes[0].tick_params(axis='x', rotation=90)\n",
    "\n",
    "# Plot for Movie Countries\n",
    "countries, counts = zip(*sorted_filtered_countries_counts.items())\n",
    "axes[1].bar(countries, counts, color='skyblue')\n",
    "axes[1].set_ylabel('Number of Movies')\n",
    "axes[1].set_title('Distribution of Movie Countries')\n",
    "axes[1].tick_params(axis='x', rotation=90)\n",
    "\n",
    "# Plot for Movie Genres\n",
    "genres, counts = zip(*sorted_filtered_genres_counts.items())\n",
    "axes[2].bar(genres, counts, color='skyblue')\n",
    "axes[2].set_ylabel('Number of Movies')\n",
    "axes[2].set_title('Distribution of Movie Genres')\n",
    "axes[2].tick_params(axis='x', rotation=90)\n",
    "\n",
    "# Adjust layout\n",
    "plt.tight_layout()\n",
    "\n",
    "# Show the plots\n",
    "plt.show()"
   ]
  },
  {
   "cell_type": "markdown",
   "id": "138db897-7d8f-4307-95d1-dc3e4b40c3d7",
   "metadata": {},
   "source": [
    "### Characters metadata"
   ]
  },
  {
   "cell_type": "code",
   "execution_count": 7,
   "id": "d56a40ab-0cd9-440b-b2ee-78bf4368ad7f",
   "metadata": {
    "tags": []
   },
   "outputs": [],
   "source": [
    "all_characters = pd.read_table('~/ADA2023/Project/Data/MovieSummaries/character.metadata.tsv', header=None)\n",
    "all_characters.columns = ['Wikipedia movie ID', 'Freebase movie ID', 'Movie release date','Character name','Actor date of birth','Actor gender','Actor height','Actor ethnicity','Actor name','Actor age at movie release','Freebase character/actor map ID','Freebase character ID','Freebase actor ID']"
   ]
  },
  {
   "cell_type": "code",
   "execution_count": 8,
   "id": "2f4e7ac8-f7bb-41a6-a68d-97bce343e173",
   "metadata": {
    "tags": []
   },
   "outputs": [
    {
     "data": {
      "text/html": [
       "<div>\n",
       "<style scoped>\n",
       "    .dataframe tbody tr th:only-of-type {\n",
       "        vertical-align: middle;\n",
       "    }\n",
       "\n",
       "    .dataframe tbody tr th {\n",
       "        vertical-align: top;\n",
       "    }\n",
       "\n",
       "    .dataframe thead th {\n",
       "        text-align: right;\n",
       "    }\n",
       "</style>\n",
       "<table border=\"1\" class=\"dataframe\">\n",
       "  <thead>\n",
       "    <tr style=\"text-align: right;\">\n",
       "      <th></th>\n",
       "      <th>Wikipedia movie ID</th>\n",
       "      <th>Freebase movie ID</th>\n",
       "      <th>Movie release date</th>\n",
       "      <th>Character name</th>\n",
       "      <th>Actor date of birth</th>\n",
       "      <th>Actor gender</th>\n",
       "      <th>Actor height</th>\n",
       "      <th>Actor ethnicity</th>\n",
       "      <th>Actor name</th>\n",
       "      <th>Actor age at movie release</th>\n",
       "      <th>Freebase character/actor map ID</th>\n",
       "      <th>Freebase character ID</th>\n",
       "      <th>Freebase actor ID</th>\n",
       "    </tr>\n",
       "  </thead>\n",
       "  <tbody>\n",
       "    <tr>\n",
       "      <th>0</th>\n",
       "      <td>975900</td>\n",
       "      <td>/m/03vyhn</td>\n",
       "      <td>2001-08-24</td>\n",
       "      <td>Akooshay</td>\n",
       "      <td>1958-08-26</td>\n",
       "      <td>F</td>\n",
       "      <td>1.620</td>\n",
       "      <td>NaN</td>\n",
       "      <td>Wanda De Jesus</td>\n",
       "      <td>42.0</td>\n",
       "      <td>/m/0bgchxw</td>\n",
       "      <td>/m/0bgcj3x</td>\n",
       "      <td>/m/03wcfv7</td>\n",
       "    </tr>\n",
       "    <tr>\n",
       "      <th>1</th>\n",
       "      <td>975900</td>\n",
       "      <td>/m/03vyhn</td>\n",
       "      <td>2001-08-24</td>\n",
       "      <td>Lieutenant Melanie Ballard</td>\n",
       "      <td>1974-08-15</td>\n",
       "      <td>F</td>\n",
       "      <td>1.780</td>\n",
       "      <td>/m/044038p</td>\n",
       "      <td>Natasha Henstridge</td>\n",
       "      <td>27.0</td>\n",
       "      <td>/m/0jys3m</td>\n",
       "      <td>/m/0bgchn4</td>\n",
       "      <td>/m/0346l4</td>\n",
       "    </tr>\n",
       "    <tr>\n",
       "      <th>2</th>\n",
       "      <td>975900</td>\n",
       "      <td>/m/03vyhn</td>\n",
       "      <td>2001-08-24</td>\n",
       "      <td>Desolation Williams</td>\n",
       "      <td>1969-06-15</td>\n",
       "      <td>M</td>\n",
       "      <td>1.727</td>\n",
       "      <td>/m/0x67</td>\n",
       "      <td>Ice Cube</td>\n",
       "      <td>32.0</td>\n",
       "      <td>/m/0jys3g</td>\n",
       "      <td>/m/0bgchn_</td>\n",
       "      <td>/m/01vw26l</td>\n",
       "    </tr>\n",
       "    <tr>\n",
       "      <th>3</th>\n",
       "      <td>975900</td>\n",
       "      <td>/m/03vyhn</td>\n",
       "      <td>2001-08-24</td>\n",
       "      <td>Sgt Jericho Butler</td>\n",
       "      <td>1967-09-12</td>\n",
       "      <td>M</td>\n",
       "      <td>1.750</td>\n",
       "      <td>NaN</td>\n",
       "      <td>Jason Statham</td>\n",
       "      <td>33.0</td>\n",
       "      <td>/m/02vchl6</td>\n",
       "      <td>/m/0bgchnq</td>\n",
       "      <td>/m/034hyc</td>\n",
       "    </tr>\n",
       "    <tr>\n",
       "      <th>4</th>\n",
       "      <td>975900</td>\n",
       "      <td>/m/03vyhn</td>\n",
       "      <td>2001-08-24</td>\n",
       "      <td>Bashira Kincaid</td>\n",
       "      <td>1977-09-25</td>\n",
       "      <td>F</td>\n",
       "      <td>1.650</td>\n",
       "      <td>NaN</td>\n",
       "      <td>Clea DuVall</td>\n",
       "      <td>23.0</td>\n",
       "      <td>/m/02vbb3r</td>\n",
       "      <td>/m/0bgchp9</td>\n",
       "      <td>/m/01y9xg</td>\n",
       "    </tr>\n",
       "  </tbody>\n",
       "</table>\n",
       "</div>"
      ],
      "text/plain": [
       "   Wikipedia movie ID Freebase movie ID Movie release date  \\\n",
       "0              975900         /m/03vyhn         2001-08-24   \n",
       "1              975900         /m/03vyhn         2001-08-24   \n",
       "2              975900         /m/03vyhn         2001-08-24   \n",
       "3              975900         /m/03vyhn         2001-08-24   \n",
       "4              975900         /m/03vyhn         2001-08-24   \n",
       "\n",
       "               Character name Actor date of birth Actor gender  Actor height  \\\n",
       "0                    Akooshay          1958-08-26            F         1.620   \n",
       "1  Lieutenant Melanie Ballard          1974-08-15            F         1.780   \n",
       "2         Desolation Williams          1969-06-15            M         1.727   \n",
       "3          Sgt Jericho Butler          1967-09-12            M         1.750   \n",
       "4             Bashira Kincaid          1977-09-25            F         1.650   \n",
       "\n",
       "  Actor ethnicity          Actor name  Actor age at movie release  \\\n",
       "0             NaN      Wanda De Jesus                        42.0   \n",
       "1      /m/044038p  Natasha Henstridge                        27.0   \n",
       "2         /m/0x67            Ice Cube                        32.0   \n",
       "3             NaN       Jason Statham                        33.0   \n",
       "4             NaN         Clea DuVall                        23.0   \n",
       "\n",
       "  Freebase character/actor map ID Freebase character ID Freebase actor ID  \n",
       "0                      /m/0bgchxw            /m/0bgcj3x        /m/03wcfv7  \n",
       "1                       /m/0jys3m            /m/0bgchn4         /m/0346l4  \n",
       "2                       /m/0jys3g            /m/0bgchn_        /m/01vw26l  \n",
       "3                      /m/02vchl6            /m/0bgchnq         /m/034hyc  \n",
       "4                      /m/02vbb3r            /m/0bgchp9         /m/01y9xg  "
      ]
     },
     "execution_count": 8,
     "metadata": {},
     "output_type": "execute_result"
    }
   ],
   "source": [
    "all_characters.head()"
   ]
  },
  {
   "cell_type": "code",
   "execution_count": 9,
   "id": "d94e5ac1-1b15-4c38-ac95-fc462bfa19fc",
   "metadata": {
    "tags": []
   },
   "outputs": [
    {
     "data": {
      "image/png": "[encoded data removed]",
      "text/plain": [
       "<Figure size 1000x600 with 1 Axes>"
      ]
     },
     "metadata": {},
     "output_type": "display_data"
    }
   ],
   "source": [
    "# Count missing values per column\n",
    "missing_percent = (all_characters.isna().mean() * 100)\n",
    "\n",
    "# Create a bar plot\n",
    "plt.figure(figsize=(10, 6))\n",
    "sns.barplot(x=missing_percent.index, y=missing_percent.values)\n",
    "plt.xticks(rotation=90)  \n",
    "plt.xlabel('Columns')\n",
    "plt.ylabel('Missing Values (%)')\n",
    "plt.title('Percentage of Missing Values per Column')\n",
    "plt.show()"
   ]
  },
  {
   "cell_type": "markdown",
   "id": "72d4ea20-0bdb-4e5a-8663-9683caa28b70",
   "metadata": {},
   "source": [
    "There is a lot of missing values in this dataset."
   ]
  },
  {
   "cell_type": "markdown",
   "id": "21d623bb-58d9-40b7-9858-434b906b41ed",
   "metadata": {},
   "source": [
    "## 2. Persona analysis"
   ]
  },
  {
   "cell_type": "code",
   "execution_count": 10,
   "id": "085ff12f-ae7f-4aa5-bfac-15793ce3a7a5",
   "metadata": {
    "tags": []
   },
   "outputs": [],
   "source": [
    "characters_persona = pd.read_csv('~/ADA2023/Project/Data/persona_data.csv')\n",
    "characters_persona = characters_persona.drop(['Unnamed: 0',], axis=1)\n",
    "characters_persona.rename(columns= {'Actor height (in meters)': 'Actor height', 'Actor ethnicity (Freebase ID)': 'Actor ethnicity'}, inplace= True)\n",
    "\n",
    "# Merge the dataframes to have all persona with as much info as possible\n",
    "characters = characters_persona.merge(all_characters, how='right')"
   ]
  },
  {
   "cell_type": "markdown",
   "id": "34fd8027-7ddb-4ca0-90ca-1ffd994419ff",
   "metadata": {},
   "source": [
    "## 3. Explaining and measuring success scores\n",
    "\n",
    "The success can be characterized based on several factors, \n",
    "- Longevity: for how long has the actor been in the film industry? \n",
    "- In how many films the actor has participated?\n",
    "- IMDB ratings\n",
    "- The Oscars\n",
    "- Google search results\n",
    "- Film revenue\n",
    "- Number of film spectators\n",
    "\n",
    "Some of these indicators require additional datasets. We thus complement our analysis with data on awards, on ratings, and on popularity."
   ]
  },
  {
   "cell_type": "markdown",
   "id": "bba2a747-8d1d-4a86-86fd-94c0ff9f5a89",
   "metadata": {},
   "source": [
    "## 3.a. Longevity"
   ]
  },
  {
   "cell_type": "markdown",
   "id": "3f3dcebf-db45-44f0-9433-bb5989efd58c",
   "metadata": {},
   "source": [
    "## 3.b. Revenues"
   ]
  },
  {
   "cell_type": "markdown",
   "id": "1c7a0178-ed64-44f4-9b54-72e7ccf74119",
   "metadata": {
    "tags": []
   },
   "source": [
    "### Preparing the dataset\n",
    "\n",
    "Here, we are looking at an aggregate outcome throughout one's career. Contrary to the previous analysis, we want to associate here an amount to characteristics that are fixed over an actor's career. Someone's age on the movie release date no longer matters, but their career start date might. Gender and height are still relevant. For movie characteristics, we can aggregate them over the career, selecting the largest occurence for instance.\n",
    "\n",
    "Hence, we isolate the following variables that might explain cumulated movie revenues:\n",
    "- Actor's age at the beginning of their career\n",
    "- Actor's gender\n",
    "- Mean age during the career\n",
    "- Actor's ethnicity\n",
    "- Actor's height\n",
    "- Most frequent movie language\n",
    "- Most frequent country of the movie\n",
    "- Variety of movie genres\n",
    "- (to add: variety of roles)"
   ]
  },
  {
   "cell_type": "markdown",
   "id": "d6447001-7a12-4e23-88b0-add9b5cccb05",
   "metadata": {
    "tags": []
   },
   "source": [
    "**Merge actors with their movies within the CMU Movie Corpus**"
   ]
  },
  {
   "cell_type": "code",
   "execution_count": 11,
   "id": "fc279b64-4964-49a6-92fc-225b7c455a9b",
   "metadata": {
    "tags": []
   },
   "outputs": [],
   "source": [
    "actors_movies = characters.merge(movies, on='Freebase movie ID', how='left') "
   ]
  },
  {
   "cell_type": "code",
   "execution_count": 12,
   "id": "76e07eb0-5c91-41a6-83e0-c6f6e0903695",
   "metadata": {
    "tags": []
   },
   "outputs": [
    {
     "data": {
      "text/plain": [
       "Index(['Wikipedia movie ID_x', 'Freebase movie ID', 'Movie release date_x',\n",
       "       'Character name', 'Actor date of birth', 'Actor gender', 'Actor height',\n",
       "       'Actor ethnicity', 'Actor name', 'Actor age at movie release',\n",
       "       'Freebase character/actor map ID', 'Freebase character ID',\n",
       "       'Freebase actor ID', 'e.id', 'Wikipedia Movie id', 'Movie name_x',\n",
       "       'charName', 'fullName', 'occurences', 'max', 'Persona',\n",
       "       'Wikipedia movie ID_y', 'Movie name_y', 'Movie release date_y',\n",
       "       'Movie box office revenue', 'Movie runtime', 'Movie languages',\n",
       "       'Movie countries', 'Movie genres'],\n",
       "      dtype='object')"
      ]
     },
     "execution_count": 12,
     "metadata": {},
     "output_type": "execute_result"
    }
   ],
   "source": [
    "actors_movies.columns"
   ]
  },
  {
   "cell_type": "markdown",
   "id": "8c62d4f0-c4af-417b-ae96-3375a3492584",
   "metadata": {},
   "source": [
    "**Aggregate variables of interest to have values valable for the entire career span**"
   ]
  },
  {
   "cell_type": "code",
   "execution_count": 13,
   "id": "996e5c09-e759-449a-9252-9a68fd0e6b6d",
   "metadata": {
    "tags": []
   },
   "outputs": [],
   "source": [
    "# Revenues wrt median of the year\n",
    "\n",
    "# Compute the median revenue for each year\n",
    "actors_movies['Movie release date'] = pd.to_datetime(actors_movies['Movie release date_x'], format='mixed', errors='coerce')\n",
    "\n",
    "actors_movies['Year'] = actors_movies['Movie release date'].dt.year\n",
    "median_revenue_by_year = actors_movies.groupby('Year')['Movie box office revenue'].median().reset_index()\n",
    "\n",
    "# Merge the median revenue back into the original DataFrame\n",
    "actors_movies = pd.merge(actors_movies, median_revenue_by_year, on='Year', suffixes=('', '_median'))\n",
    "\n",
    "# Calculate the revenue by actor and year with respect to the median\n",
    "actors_movies['Relative_Revenue'] = actors_movies['Movie box office revenue'] / actors_movies['Movie box office revenue_median']"
   ]
  },
  {
   "cell_type": "code",
   "execution_count": 14,
   "id": "e910eff4-a27e-41fb-8e99-fc0d25e440bb",
   "metadata": {
    "tags": []
   },
   "outputs": [
    {
     "name": "stdout",
     "output_type": "stream",
     "text": [
      "       Year  Non_Missing_Revenues\n",
      "0    1888.0                     0\n",
      "1    1891.0                     0\n",
      "2    1893.0                     0\n",
      "3    1894.0                     0\n",
      "4    1895.0                     0\n",
      "..      ...                   ...\n",
      "121  2012.0                  2061\n",
      "122  2013.0                     0\n",
      "123  2014.0                     0\n",
      "124  2015.0                     0\n",
      "125  2016.0                     0\n",
      "\n",
      "[126 rows x 2 columns]\n"
     ]
    }
   ],
   "source": [
    "# Count non-missing values in 'Revenue' column by year\n",
    "non_missing_count_by_year = actors_movies.groupby('Year')['Movie box office revenue'].count().reset_index()\n",
    "\n",
    "# Rename the count column for clarity\n",
    "non_missing_count_by_year = non_missing_count_by_year.rename(columns={'Movie box office revenue': 'Non_Missing_Revenues'})\n",
    "\n",
    "print(non_missing_count_by_year) # some years have zero revenue information"
   ]
  },
  {
   "cell_type": "code",
   "execution_count": 15,
   "id": "53f9a076-03c2-4736-98ac-f5d149830090",
   "metadata": {
    "tags": []
   },
   "outputs": [
    {
     "data": {
      "text/plain": [
       "440659"
      ]
     },
     "execution_count": 15,
     "metadata": {},
     "output_type": "execute_result"
    }
   ],
   "source": [
    "actors_movies['Movie release date_x'].notna().sum() # also some missing values for dates prevent to compute revenues as a share of the median that year"
   ]
  },
  {
   "cell_type": "code",
   "execution_count": 16,
   "id": "c6280272-f213-4be3-ace1-516c5cc7dd45",
   "metadata": {
    "tags": []
   },
   "outputs": [
    {
     "data": {
      "text/html": [
       "<div>\n",
       "<style scoped>\n",
       "    .dataframe tbody tr th:only-of-type {\n",
       "        vertical-align: middle;\n",
       "    }\n",
       "\n",
       "    .dataframe tbody tr th {\n",
       "        vertical-align: top;\n",
       "    }\n",
       "\n",
       "    .dataframe thead th {\n",
       "        text-align: right;\n",
       "    }\n",
       "</style>\n",
       "<table border=\"1\" class=\"dataframe\">\n",
       "  <thead>\n",
       "    <tr style=\"text-align: right;\">\n",
       "      <th></th>\n",
       "      <th>Relative_Revenue</th>\n",
       "      <th>Movie box office revenue</th>\n",
       "    </tr>\n",
       "  </thead>\n",
       "  <tbody>\n",
       "    <tr>\n",
       "      <th>0</th>\n",
       "      <td>0.414667</td>\n",
       "      <td>14010832.0</td>\n",
       "    </tr>\n",
       "    <tr>\n",
       "      <th>1</th>\n",
       "      <td>0.414667</td>\n",
       "      <td>14010832.0</td>\n",
       "    </tr>\n",
       "    <tr>\n",
       "      <th>2</th>\n",
       "      <td>0.414667</td>\n",
       "      <td>14010832.0</td>\n",
       "    </tr>\n",
       "    <tr>\n",
       "      <th>3</th>\n",
       "      <td>0.414667</td>\n",
       "      <td>14010832.0</td>\n",
       "    </tr>\n",
       "    <tr>\n",
       "      <th>4</th>\n",
       "      <td>0.414667</td>\n",
       "      <td>14010832.0</td>\n",
       "    </tr>\n",
       "    <tr>\n",
       "      <th>...</th>\n",
       "      <td>...</td>\n",
       "      <td>...</td>\n",
       "    </tr>\n",
       "    <tr>\n",
       "      <th>440654</th>\n",
       "      <td>NaN</td>\n",
       "      <td>NaN</td>\n",
       "    </tr>\n",
       "    <tr>\n",
       "      <th>440655</th>\n",
       "      <td>NaN</td>\n",
       "      <td>NaN</td>\n",
       "    </tr>\n",
       "    <tr>\n",
       "      <th>440656</th>\n",
       "      <td>NaN</td>\n",
       "      <td>NaN</td>\n",
       "    </tr>\n",
       "    <tr>\n",
       "      <th>440657</th>\n",
       "      <td>NaN</td>\n",
       "      <td>NaN</td>\n",
       "    </tr>\n",
       "    <tr>\n",
       "      <th>440658</th>\n",
       "      <td>NaN</td>\n",
       "      <td>NaN</td>\n",
       "    </tr>\n",
       "  </tbody>\n",
       "</table>\n",
       "<p>440659 rows × 2 columns</p>\n",
       "</div>"
      ],
      "text/plain": [
       "        Relative_Revenue  Movie box office revenue\n",
       "0               0.414667                14010832.0\n",
       "1               0.414667                14010832.0\n",
       "2               0.414667                14010832.0\n",
       "3               0.414667                14010832.0\n",
       "4               0.414667                14010832.0\n",
       "...                  ...                       ...\n",
       "440654               NaN                       NaN\n",
       "440655               NaN                       NaN\n",
       "440656               NaN                       NaN\n",
       "440657               NaN                       NaN\n",
       "440658               NaN                       NaN\n",
       "\n",
       "[440659 rows x 2 columns]"
      ]
     },
     "execution_count": 16,
     "metadata": {},
     "output_type": "execute_result"
    }
   ],
   "source": [
    "actors_movies[['Relative_Revenue','Movie box office revenue']]"
   ]
  },
  {
   "cell_type": "code",
   "execution_count": 17,
   "id": "322e24a6-53f5-49fa-bf69-95b23f1cee15",
   "metadata": {
    "tags": []
   },
   "outputs": [],
   "source": [
    "actors_revenues = actors_movies.groupby('Actor name')\n",
    "\n",
    "# Aggregating the desired statistics\n",
    "actor_statistics = actors_revenues.agg({\n",
    "    'Relative_Revenue': lambda x: x.fillna(0).sum(),\n",
    "    'Actor gender': helpers.most_frequent_occ,\n",
    "    'Actor age at movie release': 'mean',\n",
    "    'Actor ethnicity': helpers.most_frequent_occ,\n",
    "    'Actor height': helpers.most_frequent_occ,\n",
    "    'Movie languages': helpers.most_frequent_in_dictionary,\n",
    "    'Movie countries': helpers.most_frequent_in_dictionary,\n",
    "    'Movie genres': helpers.most_frequent_in_dictionary,\n",
    "    'Movie name_x': 'nunique',\n",
    "    'Persona': 'nunique'\n",
    "}).reset_index()"
   ]
  },
  {
   "cell_type": "code",
   "execution_count": 19,
   "id": "2eb9bd1a-553c-4871-be9e-dc66978c7694",
   "metadata": {
    "tags": []
   },
   "outputs": [],
   "source": [
    "# More statistics\n",
    "age_begin_career = actors_revenues['Actor age at movie release'].min()\n",
    "unique_countries = actors_revenues['Movie countries'].apply(helpers.count_unique)\n",
    "unique_genres = actors_revenues['Movie genres'].apply(helpers.count_unique)\n",
    "unique_languages = actors_revenues['Movie languages'].apply(helpers.count_unique)\n",
    "\n",
    "# We need precise mapping because they have other columns in common with different values, resulting in NaN\n",
    "actor_statistics['age_begin_career'] = actor_statistics['Actor name'].map(age_begin_career)\n",
    "actor_statistics['unique_countries'] = actor_statistics['Actor name'].map(unique_countries)\n",
    "actor_statistics['unique_genres'] = actor_statistics['Actor name'].map(unique_genres)\n",
    "actor_statistics['unique_languages'] = actor_statistics['Actor name'].map(unique_languages)"
   ]
  },
  {
   "cell_type": "code",
   "execution_count": 20,
   "id": "21241aee-2ee0-49c6-8c5e-1e00305e752b",
   "metadata": {
    "tags": []
   },
   "outputs": [
    {
     "data": {
      "text/html": [
       "<div>\n",
       "<style scoped>\n",
       "    .dataframe tbody tr th:only-of-type {\n",
       "        vertical-align: middle;\n",
       "    }\n",
       "\n",
       "    .dataframe tbody tr th {\n",
       "        vertical-align: top;\n",
       "    }\n",
       "\n",
       "    .dataframe thead th {\n",
       "        text-align: right;\n",
       "    }\n",
       "</style>\n",
       "<table border=\"1\" class=\"dataframe\">\n",
       "  <thead>\n",
       "    <tr style=\"text-align: right;\">\n",
       "      <th></th>\n",
       "      <th>Actor name</th>\n",
       "      <th>total_revenues</th>\n",
       "      <th>gender</th>\n",
       "      <th>mean_age</th>\n",
       "      <th>ethnicity</th>\n",
       "      <th>height</th>\n",
       "      <th>most_freq_language</th>\n",
       "      <th>most_freq_country</th>\n",
       "      <th>most_freq_genre</th>\n",
       "      <th>unique_movies</th>\n",
       "      <th>unique_persona</th>\n",
       "      <th>age_begin_career</th>\n",
       "      <th>unique_countries</th>\n",
       "      <th>unique_genres</th>\n",
       "      <th>unique_languages</th>\n",
       "    </tr>\n",
       "  </thead>\n",
       "  <tbody>\n",
       "    <tr>\n",
       "      <th>0</th>\n",
       "      <td>Cesarine Prinz\\t</td>\n",
       "      <td>0.0</td>\n",
       "      <td>F</td>\n",
       "      <td>NaN</td>\n",
       "      <td>None</td>\n",
       "      <td>NaN</td>\n",
       "      <td>None</td>\n",
       "      <td>Netherlands</td>\n",
       "      <td>Comedy</td>\n",
       "      <td>0</td>\n",
       "      <td>0</td>\n",
       "      <td>NaN</td>\n",
       "      <td>1.0</td>\n",
       "      <td>2.0</td>\n",
       "      <td>NaN</td>\n",
       "    </tr>\n",
       "    <tr>\n",
       "      <th>1</th>\n",
       "      <td>Daniel Newman</td>\n",
       "      <td>0.0</td>\n",
       "      <td>M</td>\n",
       "      <td>22.000000</td>\n",
       "      <td>None</td>\n",
       "      <td>NaN</td>\n",
       "      <td>English Language</td>\n",
       "      <td>Canada</td>\n",
       "      <td>Drama</td>\n",
       "      <td>0</td>\n",
       "      <td>0</td>\n",
       "      <td>22.0</td>\n",
       "      <td>3.0</td>\n",
       "      <td>2.0</td>\n",
       "      <td>1.0</td>\n",
       "    </tr>\n",
       "    <tr>\n",
       "      <th>2</th>\n",
       "      <td>'Big Bill' Giddinger</td>\n",
       "      <td>0.0</td>\n",
       "      <td>M</td>\n",
       "      <td>NaN</td>\n",
       "      <td>None</td>\n",
       "      <td>NaN</td>\n",
       "      <td>English Language</td>\n",
       "      <td>United States of America</td>\n",
       "      <td>History</td>\n",
       "      <td>0</td>\n",
       "      <td>0</td>\n",
       "      <td>NaN</td>\n",
       "      <td>1.0</td>\n",
       "      <td>5.0</td>\n",
       "      <td>1.0</td>\n",
       "    </tr>\n",
       "    <tr>\n",
       "      <th>3</th>\n",
       "      <td>'Big' Lee</td>\n",
       "      <td>0.0</td>\n",
       "      <td>M</td>\n",
       "      <td>NaN</td>\n",
       "      <td>None</td>\n",
       "      <td>NaN</td>\n",
       "      <td>English Language</td>\n",
       "      <td>United States of America</td>\n",
       "      <td>Crime Fiction</td>\n",
       "      <td>0</td>\n",
       "      <td>0</td>\n",
       "      <td>NaN</td>\n",
       "      <td>1.0</td>\n",
       "      <td>3.0</td>\n",
       "      <td>1.0</td>\n",
       "    </tr>\n",
       "    <tr>\n",
       "      <th>4</th>\n",
       "      <td>'Chicken' Holleman</td>\n",
       "      <td>0.0</td>\n",
       "      <td>None</td>\n",
       "      <td>NaN</td>\n",
       "      <td>None</td>\n",
       "      <td>NaN</td>\n",
       "      <td>English Language</td>\n",
       "      <td>United States of America</td>\n",
       "      <td>Crime Fiction</td>\n",
       "      <td>0</td>\n",
       "      <td>0</td>\n",
       "      <td>NaN</td>\n",
       "      <td>1.0</td>\n",
       "      <td>7.0</td>\n",
       "      <td>1.0</td>\n",
       "    </tr>\n",
       "    <tr>\n",
       "      <th>...</th>\n",
       "      <td>...</td>\n",
       "      <td>...</td>\n",
       "      <td>...</td>\n",
       "      <td>...</td>\n",
       "      <td>...</td>\n",
       "      <td>...</td>\n",
       "      <td>...</td>\n",
       "      <td>...</td>\n",
       "      <td>...</td>\n",
       "      <td>...</td>\n",
       "      <td>...</td>\n",
       "      <td>...</td>\n",
       "      <td>...</td>\n",
       "      <td>...</td>\n",
       "      <td>...</td>\n",
       "    </tr>\n",
       "    <tr>\n",
       "      <th>133617</th>\n",
       "      <td>雅-miyavi-</td>\n",
       "      <td>0.0</td>\n",
       "      <td>M</td>\n",
       "      <td>22.000000</td>\n",
       "      <td>None</td>\n",
       "      <td>1.85</td>\n",
       "      <td>Japanese Language</td>\n",
       "      <td>Japan</td>\n",
       "      <td>Drama</td>\n",
       "      <td>0</td>\n",
       "      <td>0</td>\n",
       "      <td>22.0</td>\n",
       "      <td>1.0</td>\n",
       "      <td>4.0</td>\n",
       "      <td>1.0</td>\n",
       "    </tr>\n",
       "    <tr>\n",
       "      <th>133618</th>\n",
       "      <td>雪乃五月</td>\n",
       "      <td>0.0</td>\n",
       "      <td>F</td>\n",
       "      <td>30.500000</td>\n",
       "      <td>None</td>\n",
       "      <td>NaN</td>\n",
       "      <td>Japanese Language</td>\n",
       "      <td>Japan</td>\n",
       "      <td>Action</td>\n",
       "      <td>0</td>\n",
       "      <td>0</td>\n",
       "      <td>30.0</td>\n",
       "      <td>1.0</td>\n",
       "      <td>6.0</td>\n",
       "      <td>1.0</td>\n",
       "    </tr>\n",
       "    <tr>\n",
       "      <th>133619</th>\n",
       "      <td>高山久子</td>\n",
       "      <td>0.0</td>\n",
       "      <td>F</td>\n",
       "      <td>35.333333</td>\n",
       "      <td>None</td>\n",
       "      <td>NaN</td>\n",
       "      <td>Japanese Language</td>\n",
       "      <td>Japan</td>\n",
       "      <td>Animation</td>\n",
       "      <td>0</td>\n",
       "      <td>0</td>\n",
       "      <td>24.0</td>\n",
       "      <td>1.0</td>\n",
       "      <td>12.0</td>\n",
       "      <td>1.0</td>\n",
       "    </tr>\n",
       "    <tr>\n",
       "      <th>133620</th>\n",
       "      <td>高橋美紀</td>\n",
       "      <td>0.0</td>\n",
       "      <td>F</td>\n",
       "      <td>24.000000</td>\n",
       "      <td>None</td>\n",
       "      <td>NaN</td>\n",
       "      <td>Japanese Language</td>\n",
       "      <td>Japan</td>\n",
       "      <td>Animation</td>\n",
       "      <td>0</td>\n",
       "      <td>0</td>\n",
       "      <td>24.0</td>\n",
       "      <td>1.0</td>\n",
       "      <td>2.0</td>\n",
       "      <td>1.0</td>\n",
       "    </tr>\n",
       "    <tr>\n",
       "      <th>133621</th>\n",
       "      <td>高田由美</td>\n",
       "      <td>0.0</td>\n",
       "      <td>F</td>\n",
       "      <td>34.250000</td>\n",
       "      <td>None</td>\n",
       "      <td>NaN</td>\n",
       "      <td>Japanese Language</td>\n",
       "      <td>Japan</td>\n",
       "      <td>Animation</td>\n",
       "      <td>0</td>\n",
       "      <td>0</td>\n",
       "      <td>31.0</td>\n",
       "      <td>1.0</td>\n",
       "      <td>7.0</td>\n",
       "      <td>1.0</td>\n",
       "    </tr>\n",
       "  </tbody>\n",
       "</table>\n",
       "<p>133622 rows × 15 columns</p>\n",
       "</div>"
      ],
      "text/plain": [
       "                  Actor name  total_revenues gender   mean_age ethnicity  \\\n",
       "0           Cesarine Prinz\\t             0.0      F        NaN      None   \n",
       "1              Daniel Newman             0.0      M  22.000000      None   \n",
       "2       'Big Bill' Giddinger             0.0      M        NaN      None   \n",
       "3                  'Big' Lee             0.0      M        NaN      None   \n",
       "4         'Chicken' Holleman             0.0   None        NaN      None   \n",
       "...                      ...             ...    ...        ...       ...   \n",
       "133617             雅-miyavi-             0.0      M  22.000000      None   \n",
       "133618                  雪乃五月             0.0      F  30.500000      None   \n",
       "133619                  高山久子             0.0      F  35.333333      None   \n",
       "133620                  高橋美紀             0.0      F  24.000000      None   \n",
       "133621                  高田由美             0.0      F  34.250000      None   \n",
       "\n",
       "        height most_freq_language         most_freq_country most_freq_genre  \\\n",
       "0          NaN               None               Netherlands          Comedy   \n",
       "1          NaN   English Language                    Canada           Drama   \n",
       "2          NaN   English Language  United States of America         History   \n",
       "3          NaN   English Language  United States of America   Crime Fiction   \n",
       "4          NaN   English Language  United States of America   Crime Fiction   \n",
       "...        ...                ...                       ...             ...   \n",
       "133617    1.85  Japanese Language                     Japan           Drama   \n",
       "133618     NaN  Japanese Language                     Japan          Action   \n",
       "133619     NaN  Japanese Language                     Japan       Animation   \n",
       "133620     NaN  Japanese Language                     Japan       Animation   \n",
       "133621     NaN  Japanese Language                     Japan       Animation   \n",
       "\n",
       "        unique_movies  unique_persona  age_begin_career  unique_countries  \\\n",
       "0                   0               0               NaN               1.0   \n",
       "1                   0               0              22.0               3.0   \n",
       "2                   0               0               NaN               1.0   \n",
       "3                   0               0               NaN               1.0   \n",
       "4                   0               0               NaN               1.0   \n",
       "...               ...             ...               ...               ...   \n",
       "133617              0               0              22.0               1.0   \n",
       "133618              0               0              30.0               1.0   \n",
       "133619              0               0              24.0               1.0   \n",
       "133620              0               0              24.0               1.0   \n",
       "133621              0               0              31.0               1.0   \n",
       "\n",
       "        unique_genres  unique_languages  \n",
       "0                 2.0               NaN  \n",
       "1                 2.0               1.0  \n",
       "2                 5.0               1.0  \n",
       "3                 3.0               1.0  \n",
       "4                 7.0               1.0  \n",
       "...               ...               ...  \n",
       "133617            4.0               1.0  \n",
       "133618            6.0               1.0  \n",
       "133619           12.0               1.0  \n",
       "133620            2.0               1.0  \n",
       "133621            7.0               1.0  \n",
       "\n",
       "[133622 rows x 15 columns]"
      ]
     },
     "metadata": {},
     "output_type": "display_data"
    }
   ],
   "source": [
    "# Renaming the columns for clarity\n",
    "actor_statistics.columns = ['Actor name','total_revenues','gender','mean_age','ethnicity','height','most_freq_language','most_freq_country','most_freq_genre','unique_movies', 'unique_persona', 'age_begin_career','unique_countries','unique_genres','unique_languages'] \n",
    "                            \n",
    "# Displaying the resulting DataFrame\n",
    "display(actor_statistics)"
   ]
  },
  {
   "cell_type": "code",
   "execution_count": 21,
   "id": "b715b945-5f50-4163-bece-fd9eb1bf5c71",
   "metadata": {
    "tags": []
   },
   "outputs": [
    {
     "data": {
      "text/plain": [
       "Index(['Actor name', 'total_revenues', 'gender', 'mean_age', 'ethnicity',\n",
       "       'height', 'most_freq_language', 'most_freq_country', 'most_freq_genre',\n",
       "       'unique_movies', 'unique_persona', 'age_begin_career',\n",
       "       'unique_countries', 'unique_genres', 'unique_languages'],\n",
       "      dtype='object')"
      ]
     },
     "execution_count": 21,
     "metadata": {},
     "output_type": "execute_result"
    }
   ],
   "source": [
    "actor_statistics.columns"
   ]
  },
  {
   "cell_type": "code",
   "execution_count": 22,
   "id": "8f4e1223-d850-40a3-9b7e-3b92d029d1ab",
   "metadata": {
    "tags": []
   },
   "outputs": [
    {
     "name": "stdout",
     "output_type": "stream",
     "text": [
      "8099\n",
      "37326\n"
     ]
    }
   ],
   "source": [
    "# There are a lot of missing values\n",
    "print(actor_statistics['ethnicity'].notna().sum())\n",
    "print(len(actor_statistics[actor_statistics['total_revenues']!=0]))"
   ]
  },
  {
   "cell_type": "markdown",
   "id": "d4872e5c-aefc-4e15-8d50-3582a5699216",
   "metadata": {},
   "source": [
    "For the outcome, we do not consider different living standards across countries. We already have revenues in USD. However, we want to normalize the revenues per year to account for economic boost and booms that might explain some yearly variation in revenues. Hence we compare the revenues of a movie with respect to the revenues of the median or more profitable movie of the year. "
   ]
  },
  {
   "cell_type": "markdown",
   "id": "2725b135-a704-49d6-8193-758c9bb48712",
   "metadata": {},
   "source": [
    "### Predicting cumulated revenues"
   ]
  },
  {
   "cell_type": "markdown",
   "id": "fa78b20b-f5f8-4627-9534-a82974c2b273",
   "metadata": {},
   "source": [
    "**Prepare for the regression**"
   ]
  },
  {
   "cell_type": "code",
   "execution_count": 23,
   "id": "68b6568b-c1c6-4a38-9a08-3491d8b15eed",
   "metadata": {
    "tags": []
   },
   "outputs": [
    {
     "name": "stdout",
     "output_type": "stream",
     "text": [
      "(133622, 10)\n",
      "(92522, 10)\n"
     ]
    }
   ],
   "source": [
    "# Keep only one observation per actor that contains all information\n",
    "df = actor_statistics.drop_duplicates(subset='Actor name', keep='first') \n",
    "\n",
    "# Drop missing values\n",
    "df = df[['total_revenues','gender', 'most_freq_language','most_freq_country','most_freq_genre','unique_movies', 'unique_persona', 'unique_countries','unique_genres','unique_languages']]\n",
    "print(df.shape) # variables about age are not well filled, as well as height and ethnicity. The remaining missing values are explained by gender\n",
    "df = df.dropna()\n",
    "print(df.shape)"
   ]
  },
  {
   "cell_type": "code",
   "execution_count": 24,
   "id": "ca20d32b-e531-4e94-ab4c-1b4b276cdd70",
   "metadata": {
    "tags": []
   },
   "outputs": [],
   "source": [
    "# Use log for the outcome to avoid negative values and consider 0 values as Na\n",
    "df = df[df['total_revenues'] != 0]\n",
    "df['log_revenues'] = np.log(df['total_revenues'])"
   ]
  },
  {
   "cell_type": "code",
   "execution_count": 25,
   "id": "1143a522-a675-43b3-a95d-856185a03dd8",
   "metadata": {
    "tags": []
   },
   "outputs": [
    {
     "data": {
      "text/plain": [
       "total_revenues        float64\n",
       "gender                 object\n",
       "most_freq_language     object\n",
       "most_freq_country      object\n",
       "most_freq_genre        object\n",
       "unique_movies           int64\n",
       "unique_persona          int64\n",
       "unique_countries      float64\n",
       "unique_genres         float64\n",
       "unique_languages      float64\n",
       "log_revenues          float64\n",
       "dtype: object"
      ]
     },
     "execution_count": 25,
     "metadata": {},
     "output_type": "execute_result"
    }
   ],
   "source": [
    "df.dtypes"
   ]
  },
  {
   "cell_type": "code",
   "execution_count": 26,
   "id": "b32ae0b6-ddce-499c-a714-e6f53e233e07",
   "metadata": {
    "tags": []
   },
   "outputs": [],
   "source": [
    "# Defining the independent variables and creating dummies\n",
    "categorical_vars = ['gender']\n",
    "df = pd.get_dummies(df, columns=categorical_vars, drop_first=True)\n",
    "independent_vars = df.drop(['log_revenues','total_revenues','most_freq_language','most_freq_country','most_freq_genre'], axis=1)"
   ]
  },
  {
   "cell_type": "code",
   "execution_count": 27,
   "id": "f96d590c-dc6f-43c5-9add-abfcc2638de8",
   "metadata": {
    "tags": []
   },
   "outputs": [],
   "source": [
    "# Iterate through columns to change bool into int, it does not work otherwise\n",
    "for column in independent_vars.columns:\n",
    "    # Check data type of the column\n",
    "    current_dtype = independent_vars[column].dtype\n",
    "    # If the data type is 'boolean', attempt to convert to numeric\n",
    "    if current_dtype == 'bool':\n",
    "        independent_vars[column] = independent_vars[column].astype(int)"
   ]
  },
  {
   "cell_type": "markdown",
   "id": "3272f8bc-d38a-4210-8120-c1314a990554",
   "metadata": {},
   "source": [
    "**Linear regression**"
   ]
  },
  {
   "cell_type": "code",
   "execution_count": 28,
   "id": "0d6c81aa-0faf-435b-92c5-43d4ba689253",
   "metadata": {
    "tags": []
   },
   "outputs": [
    {
     "name": "stdout",
     "output_type": "stream",
     "text": [
      "                            OLS Regression Results                            \n",
      "==============================================================================\n",
      "Dep. Variable:         total_revenues   R-squared:                       0.364\n",
      "Model:                            OLS   Adj. R-squared:                  0.364\n",
      "Method:                 Least Squares   F-statistic:                     2977.\n",
      "Date:                Thu, 14 Dec 2023   Prob (F-statistic):               0.00\n",
      "Time:                        10:41:53   Log-Likelihood:            -1.3941e+05\n",
      "No. Observations:               31251   AIC:                         2.788e+05\n",
      "Df Residuals:                   31244   BIC:                         2.789e+05\n",
      "Df Model:                           6                                         \n",
      "Covariance Type:            nonrobust                                         \n",
      "====================================================================================\n",
      "                       coef    std err          t      P>|t|      [0.025      0.975]\n",
      "------------------------------------------------------------------------------------\n",
      "const               -5.5006      0.248    -22.219      0.000      -5.986      -5.015\n",
      "unique_movies        0.9366      0.150      6.240      0.000       0.642       1.231\n",
      "unique_persona       2.8718      0.262     10.957      0.000       2.358       3.385\n",
      "unique_countries    -0.6994      0.071     -9.792      0.000      -0.839      -0.559\n",
      "unique_genres        0.6419      0.011     56.087      0.000       0.620       0.664\n",
      "unique_languages     1.9406      0.075     25.977      0.000       1.794       2.087\n",
      "gender_M             0.9127      0.247      3.692      0.000       0.428       1.397\n",
      "==============================================================================\n",
      "Omnibus:                    45364.763   Durbin-Watson:                   1.974\n",
      "Prob(Omnibus):                  0.000   Jarque-Bera (JB):         26033962.077\n",
      "Skew:                           8.615   Prob(JB):                         0.00\n",
      "Kurtosis:                     143.344   Cond. No.                         59.2\n",
      "==============================================================================\n",
      "\n",
      "Notes:\n",
      "[1] Standard Errors assume that the covariance matrix of the errors is correctly specified.\n"
     ]
    }
   ],
   "source": [
    "# Adding a constant for the intercept term in the regression\n",
    "independent_vars = sm.add_constant(independent_vars)\n",
    "\n",
    "# Creating the model\n",
    "model = sm.OLS(df['total_revenues'], independent_vars)\n",
    "\n",
    "# Fitting the model\n",
    "results = model.fit()\n",
    "\n",
    "# Displaying the regression results\n",
    "print(results.summary())"
   ]
  },
  {
   "cell_type": "markdown",
   "id": "215aa22c-bb6a-4e1a-a3a5-675590e23bfa",
   "metadata": {},
   "source": [
    "All variables are statistically significant at the 5% level. \n",
    "\n",
    "Diversification appears to yield positive outcomes, as engaging in diverse languages, genres, and personas correlates with increased revenues. Furthermore, participating in one additional movie throughout a career is associated with higher revenue.\n",
    "Gender has a significant impact on revenues, with male actors experiencing a 0.91 increase in revenues relative to the median.\n",
    "\n",
    "Contrary to expectations, revenue experiences a decline when actors engage in projects across different countries, suggesting potential benefits from concentrating efforts within a single movie industry.\n",
    "\n",
    "The R-square value falls within the mid-range, indicating that the considered variables are sufficient to explain only a portion of the variations in actors' cumulative revenues."
   ]
  },
  {
   "cell_type": "markdown",
   "id": "e0d77c78-a998-437b-a274-50ef8ff60cd3",
   "metadata": {},
   "source": [
    "### Creating a score index\n",
    "\n",
    "We want to map revenues to a score between 0 and 10. Since we expect them to follow a power-law distribution,we will first apply a log-transformation. This way, we compress the scale and handle extreme values more effectively. This approach is useful to emphasize differences among lower values while still capturing the variability in the higher values."
   ]
  },
  {
   "cell_type": "markdown",
   "id": "fe3ba7cb-e355-40ef-856c-2b155a9acd2e",
   "metadata": {},
   "source": [
    "**Normalizing a score**"
   ]
  },
  {
   "cell_type": "code",
   "execution_count": 29,
   "id": "dc6d8d23-b8ea-4400-8192-c18c4c551831",
   "metadata": {
    "tags": []
   },
   "outputs": [],
   "source": [
    "max_revenues = actor_statistics['total_revenues'].max() \n",
    "min_revenues = actor_statistics[actor_statistics['total_revenues']>0]['total_revenues'].min()"
   ]
  },
  {
   "cell_type": "code",
   "execution_count": 31,
   "id": "60025654-0fda-41f9-92f3-a7f306e2e6f9",
   "metadata": {
    "tags": []
   },
   "outputs": [],
   "source": [
    "def compute_score(log_revenues): # minmax scaling\n",
    "    score = (log_revenues - np.log(min_revenues))/(np.log(max_revenues) - np.log(min_revenues)) *10 # min max normalization instead to have from 0 to 10?\n",
    "    return np.clip(score, 0, 10) # to ensure that the score stays within the limits"
   ]
  },
  {
   "cell_type": "markdown",
   "id": "5324a56f-9411-4f04-be94-160f575db90d",
   "metadata": {},
   "source": [
    "**Use input feature to predict a score**"
   ]
  },
  {
   "cell_type": "code",
   "execution_count": 32,
   "id": "0e92011b-a0c2-4ac7-9fa3-3a2e10b06a9b",
   "metadata": {
    "tags": []
   },
   "outputs": [
    {
     "data": {
      "text/plain": [
       "Index(['const', 'unique_movies', 'unique_persona', 'unique_countries',\n",
       "       'unique_genres', 'unique_languages', 'gender_M'],\n",
       "      dtype='object')"
      ]
     },
     "execution_count": 32,
     "metadata": {},
     "output_type": "execute_result"
    }
   ],
   "source": [
    "independent_vars.columns"
   ]
  },
  {
   "cell_type": "code",
   "execution_count": 34,
   "id": "847c61e4-5c9e-4e05-9f1d-7ed932eb1454",
   "metadata": {
    "tags": []
   },
   "outputs": [
    {
     "name": "stdout",
     "output_type": "stream",
     "text": [
      "The predicted revenues are $8.930616264873205e+27 over the career.\n"
     ]
    }
   ],
   "source": [
    "input_vector = [1,4,2,60,10,'M']\n",
    "constant = [1]\n",
    "\n",
    "gender_mapping = {'M': 1, 'F': 2}\n",
    "input_vector[5] = gender_mapping[input_vector[5]]\n",
    "\n",
    "transformed_vector = [1] + input_vector\n",
    "log_revenues = results.predict(transformed_vector)[0]\n",
    "\n",
    "print('The predicted revenues are ${} over the career.'.format(round(np.exp(log_revenues),2))) \n",
    "# a bit out of bounds, only one movie and $8b. not coherent to have one movie and many genres and languages, we should have bounds"
   ]
  },
  {
   "cell_type": "code",
   "execution_count": 35,
   "id": "91323f08-e012-42f1-bd7c-825a232e1755",
   "metadata": {
    "tags": []
   },
   "outputs": [
    {
     "name": "stdout",
     "output_type": "stream",
     "text": [
      "10.0\n"
     ]
    }
   ],
   "source": [
    "score = round(compute_score(log_revenues),2)\n",
    "print(score)"
   ]
  },
  {
   "cell_type": "code",
   "execution_count": 36,
   "id": "727ffda5-9f13-4304-8d5d-7ce67e0249d8",
   "metadata": {
    "tags": []
   },
   "outputs": [],
   "source": [
    "actor_statistics['revenue_score'] = actor_statistics['total_revenues'].apply(lambda x: compute_score(np.log(x)))"
   ]
  },
  {
   "cell_type": "code",
   "execution_count": 37,
   "id": "0fd59151-b139-4f97-bc44-119eec3f131a",
   "metadata": {
    "tags": []
   },
   "outputs": [
    {
     "data": {
      "image/png": "[encoded data removed]",
      "text/plain": [
       "<Figure size 1000x600 with 1 Axes>"
      ]
     },
     "metadata": {},
     "output_type": "display_data"
    }
   ],
   "source": [
    "filtered_actor_statistics = actor_statistics[actor_statistics['revenue_score']>0]\n",
    "\n",
    "# Create a histplot\n",
    "plt.figure(figsize=(10, 6))\n",
    "sns.histplot(filtered_actor_statistics['revenue_score'], bins=50, kde=True, color='skyblue')\n",
    "\n",
    "# Add labels and title\n",
    "plt.xlabel('Revenue Score')\n",
    "plt.ylabel('Frequency')\n",
    "plt.title('Distribution of Revenue Score')\n",
    "\n",
    "# Show the plot\n",
    "plt.show()"
   ]
  },
  {
   "cell_type": "code",
   "execution_count": 38,
   "id": "df565987-0600-4721-91f4-cf6c6a0a0464",
   "metadata": {
    "tags": []
   },
   "outputs": [
    {
     "data": {
      "text/plain": [
       "73340"
      ]
     },
     "execution_count": 38,
     "metadata": {},
     "output_type": "execute_result"
    }
   ],
   "source": [
    "movies['Movie box office revenue'].isna().sum()"
   ]
  },
  {
   "cell_type": "code",
   "execution_count": 39,
   "id": "d37a7b63-ae4e-4d18-a8b3-f141d6613df9",
   "metadata": {
    "tags": []
   },
   "outputs": [
    {
     "data": {
      "text/plain": [
       "0"
      ]
     },
     "execution_count": 39,
     "metadata": {},
     "output_type": "execute_result"
    }
   ],
   "source": [
    "movies[movies['Movie box office revenue']==0].shape[0] # 0 revenues are all missing values"
   ]
  },
  {
   "cell_type": "code",
   "execution_count": 41,
   "id": "b17322a1-b4af-49da-8030-7c069c76805d",
   "metadata": {
    "tags": []
   },
   "outputs": [
    {
     "data": {
      "text/html": [
       "<div>\n",
       "<style scoped>\n",
       "    .dataframe tbody tr th:only-of-type {\n",
       "        vertical-align: middle;\n",
       "    }\n",
       "\n",
       "    .dataframe tbody tr th {\n",
       "        vertical-align: top;\n",
       "    }\n",
       "\n",
       "    .dataframe thead th {\n",
       "        text-align: right;\n",
       "    }\n",
       "</style>\n",
       "<table border=\"1\" class=\"dataframe\">\n",
       "  <thead>\n",
       "    <tr style=\"text-align: right;\">\n",
       "      <th></th>\n",
       "      <th>Actor name</th>\n",
       "      <th>revenue_score</th>\n",
       "    </tr>\n",
       "  </thead>\n",
       "  <tbody>\n",
       "    <tr>\n",
       "      <th>13</th>\n",
       "      <td>'Squeeks' the Caterpillar</td>\n",
       "      <td>6.254305</td>\n",
       "    </tr>\n",
       "    <tr>\n",
       "      <th>15</th>\n",
       "      <td>40 Glocc</td>\n",
       "      <td>4.605494</td>\n",
       "    </tr>\n",
       "    <tr>\n",
       "      <th>16</th>\n",
       "      <td>50 Cent</td>\n",
       "      <td>6.931420</td>\n",
       "    </tr>\n",
       "    <tr>\n",
       "      <th>18</th>\n",
       "      <td>A Martinez</td>\n",
       "      <td>5.847769</td>\n",
       "    </tr>\n",
       "    <tr>\n",
       "      <th>33</th>\n",
       "      <td>A. Delon Ellis Jr.</td>\n",
       "      <td>5.814812</td>\n",
       "    </tr>\n",
       "    <tr>\n",
       "      <th>...</th>\n",
       "      <td>...</td>\n",
       "      <td>...</td>\n",
       "    </tr>\n",
       "    <tr>\n",
       "      <th>133575</th>\n",
       "      <td>Şebnem Dönmez</td>\n",
       "      <td>4.154950</td>\n",
       "    </tr>\n",
       "    <tr>\n",
       "      <th>133580</th>\n",
       "      <td>Şevval Sam</td>\n",
       "      <td>2.494241</td>\n",
       "    </tr>\n",
       "    <tr>\n",
       "      <th>133587</th>\n",
       "      <td>Željko Ivanek</td>\n",
       "      <td>8.366399</td>\n",
       "    </tr>\n",
       "    <tr>\n",
       "      <th>133598</th>\n",
       "      <td>佐々木望</td>\n",
       "      <td>6.764742</td>\n",
       "    </tr>\n",
       "    <tr>\n",
       "      <th>133606</th>\n",
       "      <td>田村英里子</td>\n",
       "      <td>6.329547</td>\n",
       "    </tr>\n",
       "  </tbody>\n",
       "</table>\n",
       "<p>37323 rows × 2 columns</p>\n",
       "</div>"
      ],
      "text/plain": [
       "                       Actor name  revenue_score\n",
       "13      'Squeeks' the Caterpillar       6.254305\n",
       "15                       40 Glocc       4.605494\n",
       "16                        50 Cent       6.931420\n",
       "18                     A Martinez       5.847769\n",
       "33             A. Delon Ellis Jr.       5.814812\n",
       "...                           ...            ...\n",
       "133575              Şebnem Dönmez       4.154950\n",
       "133580                 Şevval Sam       2.494241\n",
       "133587              Željko Ivanek       8.366399\n",
       "133598                       佐々木望       6.764742\n",
       "133606                      田村英里子       6.329547\n",
       "\n",
       "[37323 rows x 2 columns]"
      ]
     },
     "execution_count": 41,
     "metadata": {},
     "output_type": "execute_result"
    }
   ],
   "source": [
    "revenue_score = filtered_actor_statistics[['Actor name', 'revenue_score']]\n",
    "\n",
    "revenue_score"
   ]
  },
  {
   "cell_type": "markdown",
   "id": "b3007995-ca85-403b-b2ea-d6d12fb74b8b",
   "metadata": {},
   "source": [
    "### Limitations\n",
    "\n",
    "Someone can play an unimportant role in many high revenues movies, it doesn't mean they are getting a lot of income from their movie. However, combined with other indicators, it can give us an idea of the success of someone. Note that we do not establish a causal relationship between the presence of an actor in a movie and the money the movie generated.\n",
    "\n",
    "Moreover, we have a large number of missing values for movie revenues, which results in many actors not obtaining a revenue score in our dataset."
   ]
  },
  {
   "cell_type": "markdown",
   "id": "0ae2e47d-3b96-4c42-90fd-61d07d31b07d",
   "metadata": {},
   "source": [
    "## 4. Exploring additional success metrics with restricted data\n",
    "\n",
    "We delved into two other notions of success. However, due to limitations in the data collections, the data is restrictive and not representative of the entire world. We still present them here, emphasizing that it should be considered carefully when trying to make international comparisons."
   ]
  },
  {
   "cell_type": "markdown",
   "id": "d7616644-a619-4ced-8b6f-72f41736d32b",
   "metadata": {},
   "source": [
    "## 4.a. [Oscars' winners and nominees](https://datahub.io/rufuspollock/oscars-nominees-and-winners)"
   ]
  },
  {
   "cell_type": "markdown",
   "id": "330865e0-0dca-4cb4-aeb4-0319924c8148",
   "metadata": {},
   "source": [
    "### The dataset"
   ]
  },
  {
   "cell_type": "code",
   "execution_count": 42,
   "id": "4f580fb2-4231-4878-9b50-fffbd5e0d39a",
   "metadata": {
    "tags": []
   },
   "outputs": [],
   "source": [
    "oscars = pd.read_csv('~/ADA2023/Project/Data/oscar_awards.csv')"
   ]
  },
  {
   "cell_type": "code",
   "execution_count": 43,
   "id": "4c9ef681-3278-46db-b463-703c55aa8cba",
   "metadata": {
    "tags": []
   },
   "outputs": [
    {
     "data": {
      "text/plain": [
       "Index(['year', 'category', 'winner', 'entity'], dtype='object')"
      ]
     },
     "execution_count": 43,
     "metadata": {},
     "output_type": "execute_result"
    }
   ],
   "source": [
    "oscars.columns"
   ]
  },
  {
   "cell_type": "markdown",
   "id": "d6e43fb5-f664-4b64-90fb-91f33d64bd5d",
   "metadata": {},
   "source": [
    "**Oscar nominations and awards by gender**"
   ]
  },
  {
   "cell_type": "code",
   "execution_count": 44,
   "id": "8f6d4da3-e808-438c-add4-e6a633d97b34",
   "metadata": {
    "tags": []
   },
   "outputs": [],
   "source": [
    "oscars_actors = oscars[(oscars['category'].str.contains(\"ACTOR\")) | (oscars['category'].str.contains(\"ACTRESS\"))]"
   ]
  },
  {
   "cell_type": "code",
   "execution_count": null,
   "id": "2d928d5b-1aea-478e-9c3c-1bd9a486b49d",
   "metadata": {
    "tags": []
   },
   "outputs": [],
   "source": [
    "# Group by gender and year and calculate the number of total observations and winners\n",
    "mask = oscars_actors['category'].str.contains(\"ACTOR\")\n",
    "\n",
    "oscars_actors.loc[:, 'gender'] = 'Female'\n",
    "oscars_actors.loc[mask, 'gender'] = 'Male'\n",
    "\n",
    "oscars_per_year_gender = oscars_actors.groupby(['year', 'gender'])['winner'].agg(['count', 'sum']).reset_index()\n",
    "oscars_per_year_gender = oscars_per_year_gender.rename(columns={'count': 'Nominees', 'sum': 'Winners'})"
   ]
  },
  {
   "cell_type": "code",
   "execution_count": 46,
   "id": "13599248-98a7-4b72-b536-d8c8f8a9b87f",
   "metadata": {
    "tags": []
   },
   "outputs": [
    {
     "data": {
      "text/html": [
       "<div>\n",
       "<style scoped>\n",
       "    .dataframe tbody tr th:only-of-type {\n",
       "        vertical-align: middle;\n",
       "    }\n",
       "\n",
       "    .dataframe tbody tr th {\n",
       "        vertical-align: top;\n",
       "    }\n",
       "\n",
       "    .dataframe thead th {\n",
       "        text-align: right;\n",
       "    }\n",
       "</style>\n",
       "<table border=\"1\" class=\"dataframe\">\n",
       "  <thead>\n",
       "    <tr style=\"text-align: right;\">\n",
       "      <th></th>\n",
       "      <th>year</th>\n",
       "      <th>gender</th>\n",
       "      <th>Nominees</th>\n",
       "      <th>Winners</th>\n",
       "    </tr>\n",
       "  </thead>\n",
       "  <tbody>\n",
       "    <tr>\n",
       "      <th>0</th>\n",
       "      <td>1927</td>\n",
       "      <td>Female</td>\n",
       "      <td>3</td>\n",
       "      <td>1</td>\n",
       "    </tr>\n",
       "    <tr>\n",
       "      <th>1</th>\n",
       "      <td>1927</td>\n",
       "      <td>Male</td>\n",
       "      <td>2</td>\n",
       "      <td>1</td>\n",
       "    </tr>\n",
       "    <tr>\n",
       "      <th>2</th>\n",
       "      <td>1928</td>\n",
       "      <td>Female</td>\n",
       "      <td>6</td>\n",
       "      <td>1</td>\n",
       "    </tr>\n",
       "    <tr>\n",
       "      <th>3</th>\n",
       "      <td>1928</td>\n",
       "      <td>Male</td>\n",
       "      <td>5</td>\n",
       "      <td>1</td>\n",
       "    </tr>\n",
       "    <tr>\n",
       "      <th>4</th>\n",
       "      <td>1929</td>\n",
       "      <td>Female</td>\n",
       "      <td>6</td>\n",
       "      <td>1</td>\n",
       "    </tr>\n",
       "    <tr>\n",
       "      <th>...</th>\n",
       "      <td>...</td>\n",
       "      <td>...</td>\n",
       "      <td>...</td>\n",
       "      <td>...</td>\n",
       "    </tr>\n",
       "    <tr>\n",
       "      <th>175</th>\n",
       "      <td>2015</td>\n",
       "      <td>Male</td>\n",
       "      <td>10</td>\n",
       "      <td>2</td>\n",
       "    </tr>\n",
       "    <tr>\n",
       "      <th>176</th>\n",
       "      <td>2016</td>\n",
       "      <td>Female</td>\n",
       "      <td>10</td>\n",
       "      <td>2</td>\n",
       "    </tr>\n",
       "    <tr>\n",
       "      <th>177</th>\n",
       "      <td>2016</td>\n",
       "      <td>Male</td>\n",
       "      <td>10</td>\n",
       "      <td>2</td>\n",
       "    </tr>\n",
       "    <tr>\n",
       "      <th>178</th>\n",
       "      <td>2017</td>\n",
       "      <td>Female</td>\n",
       "      <td>10</td>\n",
       "      <td>2</td>\n",
       "    </tr>\n",
       "    <tr>\n",
       "      <th>179</th>\n",
       "      <td>2017</td>\n",
       "      <td>Male</td>\n",
       "      <td>10</td>\n",
       "      <td>2</td>\n",
       "    </tr>\n",
       "  </tbody>\n",
       "</table>\n",
       "<p>180 rows × 4 columns</p>\n",
       "</div>"
      ],
      "text/plain": [
       "     year  gender  Nominees  Winners\n",
       "0    1927  Female         3        1\n",
       "1    1927    Male         2        1\n",
       "2    1928  Female         6        1\n",
       "3    1928    Male         5        1\n",
       "4    1929  Female         6        1\n",
       "..    ...     ...       ...      ...\n",
       "175  2015    Male        10        2\n",
       "176  2016  Female        10        2\n",
       "177  2016    Male        10        2\n",
       "178  2017  Female        10        2\n",
       "179  2017    Male        10        2\n",
       "\n",
       "[180 rows x 4 columns]"
      ]
     },
     "execution_count": 46,
     "metadata": {},
     "output_type": "execute_result"
    }
   ],
   "source": [
    "oscars_per_year_gender"
   ]
  },
  {
   "cell_type": "markdown",
   "id": "fba708c6-a72d-440d-a834-94fe53e744fa",
   "metadata": {},
   "source": [
    "Until 1975, there was only one category for actors and one for actresses. Nowadays, there are leading and supporting categories for each gender. We choose to consider both categories as Oscar winner indistinctively."
   ]
  },
  {
   "cell_type": "markdown",
   "id": "df0979cc-ca6b-4c67-9aa5-3b140bed3d69",
   "metadata": {},
   "source": [
    "**Merge with CMU Movie Corpus**"
   ]
  },
  {
   "cell_type": "code",
   "execution_count": 47,
   "id": "5cdddf7d-982e-4d5a-b74f-9d55e23594c3",
   "metadata": {
    "tags": []
   },
   "outputs": [
    {
     "name": "stdout",
     "output_type": "stream",
     "text": [
      "There are 14.31% of Oscar nominees or winners in the movies dataset.\n"
     ]
    }
   ],
   "source": [
    "characters_oscars = characters.merge(oscars_actors, left_on='Actor name', right_on='entity', how='left')\n",
    "\n",
    "print('There are {}% of Oscar nominees or winners in the movies dataset.'.format(round(100 - characters_oscars['entity'].isna().sum()/characters_oscars.shape[0] * 100,2)))"
   ]
  },
  {
   "cell_type": "code",
   "execution_count": 48,
   "id": "72d109e3-712d-4008-8e3c-6acc0ae80d73",
   "metadata": {
    "tags": []
   },
   "outputs": [
    {
     "name": "stdout",
     "output_type": "stream",
     "text": [
      "Only 0.04% of Oscar nominees or winners (28) do not appear in our movies dataset.\n"
     ]
    }
   ],
   "source": [
    "characters_oscars_test = characters.merge(oscars_actors, left_on='Actor name', right_on='entity', how='right')\n",
    "\n",
    "print('Only {}% of Oscar nominees or winners ({}) do not appear in our movies dataset.'.format(round(characters_oscars_test['Actor name'].isna().sum()/characters_oscars_test.shape[0] * 100,2), characters_oscars_test['Actor name'].isna().sum()))"
   ]
  },
  {
   "cell_type": "code",
   "execution_count": 49,
   "id": "53be489d-ec74-41cb-9a8b-f79ae3aad899",
   "metadata": {
    "tags": []
   },
   "outputs": [
    {
     "data": {
      "text/html": [
       "<div>\n",
       "<style scoped>\n",
       "    .dataframe tbody tr th:only-of-type {\n",
       "        vertical-align: middle;\n",
       "    }\n",
       "\n",
       "    .dataframe tbody tr th {\n",
       "        vertical-align: top;\n",
       "    }\n",
       "\n",
       "    .dataframe thead th {\n",
       "        text-align: right;\n",
       "    }\n",
       "</style>\n",
       "<table border=\"1\" class=\"dataframe\">\n",
       "  <thead>\n",
       "    <tr style=\"text-align: right;\">\n",
       "      <th></th>\n",
       "      <th>entity</th>\n",
       "      <th>year</th>\n",
       "      <th>winner</th>\n",
       "    </tr>\n",
       "  </thead>\n",
       "  <tbody>\n",
       "    <tr>\n",
       "      <th>3940</th>\n",
       "      <td>Anne Shirley</td>\n",
       "      <td>1937</td>\n",
       "      <td>False</td>\n",
       "    </tr>\n",
       "    <tr>\n",
       "      <th>3976</th>\n",
       "      <td>Dame May Whitty</td>\n",
       "      <td>1937</td>\n",
       "      <td>False</td>\n",
       "    </tr>\n",
       "    <tr>\n",
       "      <th>5774</th>\n",
       "      <td>Charles Chaplin</td>\n",
       "      <td>1940</td>\n",
       "      <td>False</td>\n",
       "    </tr>\n",
       "    <tr>\n",
       "      <th>6037</th>\n",
       "      <td>Albert Basserman</td>\n",
       "      <td>1940</td>\n",
       "      <td>False</td>\n",
       "    </tr>\n",
       "    <tr>\n",
       "      <th>8259</th>\n",
       "      <td>Dame May Whitty</td>\n",
       "      <td>1942</td>\n",
       "      <td>False</td>\n",
       "    </tr>\n",
       "    <tr>\n",
       "      <th>18920</th>\n",
       "      <td>Sir Laurence Olivier</td>\n",
       "      <td>1956</td>\n",
       "      <td>False</td>\n",
       "    </tr>\n",
       "    <tr>\n",
       "      <th>19830</th>\n",
       "      <td>Vittorio De Sica</td>\n",
       "      <td>1957</td>\n",
       "      <td>False</td>\n",
       "    </tr>\n",
       "    <tr>\n",
       "      <th>24975</th>\n",
       "      <td>Dame Edith Evans</td>\n",
       "      <td>1963</td>\n",
       "      <td>False</td>\n",
       "    </tr>\n",
       "    <tr>\n",
       "      <th>25816</th>\n",
       "      <td>Dame Edith Evans</td>\n",
       "      <td>1964</td>\n",
       "      <td>False</td>\n",
       "    </tr>\n",
       "    <tr>\n",
       "      <th>27123</th>\n",
       "      <td>Anouk Aimee</td>\n",
       "      <td>1966</td>\n",
       "      <td>False</td>\n",
       "    </tr>\n",
       "    <tr>\n",
       "      <th>27345</th>\n",
       "      <td>Jocelyne Lagarde</td>\n",
       "      <td>1966</td>\n",
       "      <td>False</td>\n",
       "    </tr>\n",
       "    <tr>\n",
       "      <th>27997</th>\n",
       "      <td>Dame Edith Evans</td>\n",
       "      <td>1967</td>\n",
       "      <td>False</td>\n",
       "    </tr>\n",
       "    <tr>\n",
       "      <th>29409</th>\n",
       "      <td>Genevieve Bujold</td>\n",
       "      <td>1969</td>\n",
       "      <td>False</td>\n",
       "    </tr>\n",
       "    <tr>\n",
       "      <th>29982</th>\n",
       "      <td>Richard Castellano</td>\n",
       "      <td>1970</td>\n",
       "      <td>False</td>\n",
       "    </tr>\n",
       "    <tr>\n",
       "      <th>29983</th>\n",
       "      <td>Chief Dan George</td>\n",
       "      <td>1970</td>\n",
       "      <td>False</td>\n",
       "    </tr>\n",
       "    <tr>\n",
       "      <th>39598</th>\n",
       "      <td>Howard E. Rollins, Jr.</td>\n",
       "      <td>1981</td>\n",
       "      <td>False</td>\n",
       "    </tr>\n",
       "    <tr>\n",
       "      <th>42223</th>\n",
       "      <td>Noriyuki 'Pat' Morita</td>\n",
       "      <td>1984</td>\n",
       "      <td>False</td>\n",
       "    </tr>\n",
       "    <tr>\n",
       "      <th>46600</th>\n",
       "      <td>Daniel Day Lewis</td>\n",
       "      <td>1989</td>\n",
       "      <td>True</td>\n",
       "    </tr>\n",
       "    <tr>\n",
       "      <th>47452</th>\n",
       "      <td>Gerard Depardieu</td>\n",
       "      <td>1990</td>\n",
       "      <td>False</td>\n",
       "    </tr>\n",
       "    <tr>\n",
       "      <th>47614</th>\n",
       "      <td>Andy Garcia</td>\n",
       "      <td>1990</td>\n",
       "      <td>False</td>\n",
       "    </tr>\n",
       "    <tr>\n",
       "      <th>57030</th>\n",
       "      <td>Benicio Del Toro</td>\n",
       "      <td>2000</td>\n",
       "      <td>True</td>\n",
       "    </tr>\n",
       "    <tr>\n",
       "      <th>59861</th>\n",
       "      <td>Benicio Del Toro</td>\n",
       "      <td>2003</td>\n",
       "      <td>False</td>\n",
       "    </tr>\n",
       "    <tr>\n",
       "      <th>64868</th>\n",
       "      <td>Mo'Nique</td>\n",
       "      <td>2009</td>\n",
       "      <td>True</td>\n",
       "    </tr>\n",
       "    <tr>\n",
       "      <th>67090</th>\n",
       "      <td>Barkhad Abdi</td>\n",
       "      <td>2013</td>\n",
       "      <td>False</td>\n",
       "    </tr>\n",
       "    <tr>\n",
       "      <th>67425</th>\n",
       "      <td>Lupita Nyong'o</td>\n",
       "      <td>2013</td>\n",
       "      <td>True</td>\n",
       "    </tr>\n",
       "    <tr>\n",
       "      <th>67794</th>\n",
       "      <td>J.K. Simmons</td>\n",
       "      <td>2014</td>\n",
       "      <td>True</td>\n",
       "    </tr>\n",
       "    <tr>\n",
       "      <th>68813</th>\n",
       "      <td>Mahershala Ali</td>\n",
       "      <td>2016</td>\n",
       "      <td>True</td>\n",
       "    </tr>\n",
       "    <tr>\n",
       "      <th>69242</th>\n",
       "      <td>Timothée Chalamet</td>\n",
       "      <td>2017</td>\n",
       "      <td>False</td>\n",
       "    </tr>\n",
       "  </tbody>\n",
       "</table>\n",
       "</div>"
      ],
      "text/plain": [
       "                       entity  year  winner\n",
       "3940             Anne Shirley  1937   False\n",
       "3976          Dame May Whitty  1937   False\n",
       "5774          Charles Chaplin  1940   False\n",
       "6037         Albert Basserman  1940   False\n",
       "8259          Dame May Whitty  1942   False\n",
       "18920    Sir Laurence Olivier  1956   False\n",
       "19830        Vittorio De Sica  1957   False\n",
       "24975        Dame Edith Evans  1963   False\n",
       "25816        Dame Edith Evans  1964   False\n",
       "27123             Anouk Aimee  1966   False\n",
       "27345        Jocelyne Lagarde  1966   False\n",
       "27997        Dame Edith Evans  1967   False\n",
       "29409        Genevieve Bujold  1969   False\n",
       "29982      Richard Castellano  1970   False\n",
       "29983        Chief Dan George  1970   False\n",
       "39598  Howard E. Rollins, Jr.  1981   False\n",
       "42223   Noriyuki 'Pat' Morita  1984   False\n",
       "46600        Daniel Day Lewis  1989    True\n",
       "47452        Gerard Depardieu  1990   False\n",
       "47614             Andy Garcia  1990   False\n",
       "57030        Benicio Del Toro  2000    True\n",
       "59861        Benicio Del Toro  2003   False\n",
       "64868                Mo'Nique  2009    True\n",
       "67090            Barkhad Abdi  2013   False\n",
       "67425          Lupita Nyong'o  2013    True\n",
       "67794            J.K. Simmons  2014    True\n",
       "68813          Mahershala Ali  2016    True\n",
       "69242       Timothée Chalamet  2017   False"
      ]
     },
     "execution_count": 49,
     "metadata": {},
     "output_type": "execute_result"
    }
   ],
   "source": [
    "characters_oscars_test[characters_oscars_test['Actor name'].isna()][['entity', 'year', 'winner']]"
   ]
  },
  {
   "cell_type": "markdown",
   "id": "3b983491-de9c-4096-bcc2-d785327e8b95",
   "metadata": {},
   "source": [
    "A few Oscar winners and nominees don't appear in our dataset. Movies were extracted from a dump of Freebase in 2012. If actors began their career after this date, they can't appear in the CMU Movies Corpus. For missing values before that, the source of the missing values is unclear, but the number of actors concerned is small enough to be ignored."
   ]
  },
  {
   "cell_type": "code",
   "execution_count": 50,
   "id": "db85ce6e-9252-4d2a-9ac0-46d2db024e06",
   "metadata": {},
   "outputs": [],
   "source": [
    "characters_movie_oscars = characters_oscars.merge(movies, on= 'Freebase movie ID')"
   ]
  },
  {
   "cell_type": "markdown",
   "id": "63dc87ad-4c77-40dc-95a3-fa4b85380bfb",
   "metadata": {},
   "source": [
    "### Preparing the features and outcome"
   ]
  },
  {
   "cell_type": "markdown",
   "id": "a89e864d-6ce4-48f7-a87c-9ddf774ff186",
   "metadata": {},
   "source": [
    "**Variables of interest**"
   ]
  },
  {
   "cell_type": "code",
   "execution_count": 51,
   "id": "b142d8b5-9822-4fec-ab1b-72d163279c5e",
   "metadata": {
    "tags": []
   },
   "outputs": [
    {
     "data": {
      "text/plain": [
       "Index(['Wikipedia movie ID_x', 'Freebase movie ID', 'Movie release date_x',\n",
       "       'Character name', 'Actor date of birth', 'Actor gender', 'Actor height',\n",
       "       'Actor ethnicity', 'Actor name', 'Actor age at movie release',\n",
       "       'Freebase character/actor map ID', 'Freebase character ID',\n",
       "       'Freebase actor ID', 'e.id', 'Wikipedia Movie id', 'Movie name_x',\n",
       "       'charName', 'fullName', 'occurences', 'max', 'Persona', 'year',\n",
       "       'category', 'winner', 'entity', 'gender', 'Wikipedia movie ID_y',\n",
       "       'Movie name_y', 'Movie release date_y', 'Movie box office revenue',\n",
       "       'Movie runtime', 'Movie languages', 'Movie countries', 'Movie genres'],\n",
       "      dtype='object')"
      ]
     },
     "execution_count": 51,
     "metadata": {},
     "output_type": "execute_result"
    }
   ],
   "source": [
    "characters_movie_oscars.columns"
   ]
  },
  {
   "cell_type": "markdown",
   "id": "2dbce237-27b6-4ef9-b800-5e92bd20f2f6",
   "metadata": {},
   "source": [
    "Actors are nominated for an Oscar for a specific performance in a single film. The period of eligibility is the full previous calendar year from January 1 to December 31 (Source: [Wikipedia](https://en.wikipedia.org/wiki/Academy_Award_for_Best_Actor#:~:text=The%20first%20winner%20was%20Emil,other%20actors%20have%20won%20twice.)). Hence, it is important to associate a nomination for or an award to a specific movie and year, and to use only features that are associated to it to predict the Oscar outcome. For instance, someone's age on the movie release date might matter, but their birthdate does not. Similarly, the longevity of the actor's career, comprising years after the Oscar is not relevant. \n",
    "\n",
    "Another option would be to aggregate Oscars over the actors' career, but we know winning an Oscar is heavily dependent on the movie they play in. It would be hard to correctly associate the characteristics of the movie for which the Oscar has been won to the actor's entire career.\n",
    "\n",
    "Hence, we isolate the following variables that might explain the nomination or winning of an Oscar:\n",
    "- Actor's age on movie release date\n",
    "- Actor's gender\n",
    "- Actor's ethnicity\n",
    "- Actor's height, as it is the only variable that allows us to proxy for the physique of the actor\n",
    "- Movie language\n",
    "- Country of the movie\n",
    "- Genre of the movie\n",
    "- Movie runtime\n",
    "- Persona: type of role played\n",
    "\n",
    "Movie release date could matter relatively to a year, for instance movies released in January might have more time to convince the jury. However, given that we do not consistently have the month present in our data, we ignore this variable."
   ]
  },
  {
   "cell_type": "code",
   "execution_count": 52,
   "id": "e02b82d9-1250-47ac-873b-cb7fb6f3628c",
   "metadata": {
    "tags": []
   },
   "outputs": [
    {
     "name": "stdout",
     "output_type": "stream",
     "text": [
      "date_content\n",
      "Full Date    315439\n",
      "Year         162645\n",
      "Missing       10358\n",
      "Name: count, dtype: int64\n"
     ]
    }
   ],
   "source": [
    "characters_movie_oscars['Movie release date'] = pd.to_datetime(characters_movie_oscars['Movie release date_x'], format='mixed', errors='coerce')\n",
    "\n",
    "# How much month data do we have?\n",
    "characters_movie_oscars['date_content'] = 'Unknown'\n",
    "characters_movie_oscars.loc[characters_movie_oscars['Movie release date'].dt.month.notna(), 'date_content'] = 'Full Date'\n",
    "characters_movie_oscars.loc[characters_movie_oscars['Movie release date'].dt.month.isna(), 'date_content'] = 'Year'\n",
    "characters_movie_oscars.loc[(characters_movie_oscars['Movie release date'].dt.month == 1) & (characters_movie_oscars['Movie release date'].dt.day == 1) , 'date_content'] = 'Year' # automatically imputed\n",
    "characters_movie_oscars.loc[characters_movie_oscars['Movie release date'].isnull(), 'date_content'] = 'Missing'\n",
    "\n",
    "count_occurrences = characters_movie_oscars['date_content'].value_counts()\n",
    "\n",
    "print(count_occurrences)"
   ]
  },
  {
   "cell_type": "code",
   "execution_count": 53,
   "id": "aaecaee6-68c0-4293-9ab4-f71ea3e75e31",
   "metadata": {
    "tags": []
   },
   "outputs": [],
   "source": [
    "# Changing the dictionnary in the data into values\n",
    "for variable in list(['languages', 'countries', 'genres']): \n",
    "\n",
    "    full_var = 'Movie ' + variable\n",
    "    characters_movie_oscars[full_var] = characters_movie_oscars[full_var].apply(lambda x: {variable: None} if not x else x)\n",
    "    characters_movie_oscars[variable] = characters_movie_oscars[full_var].apply(lambda x: list(x.values())[0]) # only keeping the first genre or country\n",
    "\n",
    "# Remove ' Language' from values in the 'Language' column\n",
    "characters_movie_oscars['languages'] = characters_movie_oscars['languages'].str.replace(' Language', '')\n",
    "characters_movie_oscars['languages'] = characters_movie_oscars['languages'].str.replace(' language', '')"
   ]
  },
  {
   "cell_type": "code",
   "execution_count": 54,
   "id": "8d01f4e8-b4e7-446b-b578-70dd12994c8a",
   "metadata": {
    "tags": []
   },
   "outputs": [],
   "source": [
    "# Choose the relevant features\n",
    "actors_features = ['Movie release date_x', 'Actor gender', 'Actor age at movie release', 'Actor height', 'Actor ethnicity', 'Movie runtime', 'languages', 'countries', 'genres', 'Persona']\n",
    "\n",
    "X_ = characters_movie_oscars[actors_features].copy()\n",
    "\n",
    "# Prepare the features vector for training by converting the value to floats\n",
    "X_['Actor age at movie release'] = X_['Actor age at movie release'].astype('category')\n",
    "\n",
    "X_['Actor gender'] = X_['Actor gender'].map(gender_mapping)\n",
    "\n",
    "# Fit the encoder to the categorical variables and transform them\n",
    "label_encoder = LabelEncoder()\n",
    "X_['Encoded language'] = label_encoder.fit_transform(X_['languages'])\n",
    "X_['Encoded genre'] = label_encoder.fit_transform(X_['genres'])\n",
    "X_['Encoded country'] = label_encoder.fit_transform(X_['countries'])\n",
    "X_['Encoded ethnicity'] = label_encoder.fit_transform(X_['Actor ethnicity'])"
   ]
  },
  {
   "cell_type": "code",
   "execution_count": 55,
   "id": "517dada5-a9cb-4dab-940e-4998cc11f9bb",
   "metadata": {
    "tags": []
   },
   "outputs": [],
   "source": [
    "# Store the dictionaries for more interpretability later\n",
    "language_dict = dict(zip(X_['languages'], X_['Encoded language']))\n",
    "country_dict = dict(zip(X_['countries'], X_['Encoded country']))\n",
    "genre_dict = dict(zip(X_['genres'], X_['Encoded genre']))\n",
    "ethnicity_dict = dict(zip(X_['Actor ethnicity'], X_['Encoded ethnicity']))"
   ]
  },
  {
   "cell_type": "markdown",
   "id": "c94e3f9b-e9eb-4e1f-bf15-1f773034a519",
   "metadata": {},
   "source": [
    "**Dealing with missing values**\n",
    "\n",
    "For our classifier, we need to remove missing values. As we don't want to do imputations on personal characteristics, it requires to drop a substantial amount of observations. Hence, we do the analysis first on all variables but on the restricted sample with non-missing values, and second, on a selected number of variables that offer a bigger amount of non-missing observations."
   ]
  },
  {
   "cell_type": "code",
   "execution_count": 56,
   "id": "b0960d4f-522b-4a9f-be33-7ea4c573e1e9",
   "metadata": {
    "tags": []
   },
   "outputs": [],
   "source": [
    "X_all_var = X_.drop(['Movie release date_x', 'Actor ethnicity', 'genres', 'countries', 'languages'], axis=1)\n",
    "X_select_var = X_.drop(['Movie release date_x', 'Actor ethnicity', 'genres', 'countries', 'languages', 'Encoded ethnicity', 'Actor height', 'Persona'], axis=1)"
   ]
  },
  {
   "cell_type": "code",
   "execution_count": 57,
   "id": "72005c53-58cb-47a9-9f6c-15a04e87b615",
   "metadata": {
    "tags": []
   },
   "outputs": [
    {
     "name": "stdout",
     "output_type": "stream",
     "text": [
      "Actor gender                   45610\n",
      "Actor age at movie release    162202\n",
      "Actor height                  297721\n",
      "Movie runtime                  51815\n",
      "Persona                       465043\n",
      "Encoded language                   0\n",
      "Encoded genre                      0\n",
      "Encoded country                    0\n",
      "Encoded ethnicity                  0\n",
      "dtype: int64\n"
     ]
    }
   ],
   "source": [
    "print(X_all_var.isna().sum())"
   ]
  },
  {
   "cell_type": "code",
   "execution_count": 58,
   "id": "42136ead-5fcd-4f04-9aa1-d9ecee9ce359",
   "metadata": {},
   "outputs": [],
   "source": [
    "# Removing missing values\n",
    "X_all = X_all_var[~(X_all_var.isna().any(axis=1))].copy()\n",
    "X_select = X_select_var[~(X_select_var.isna().any(axis=1))].copy()"
   ]
  },
  {
   "cell_type": "markdown",
   "id": "5d63e04b-8a7e-4b76-a7d6-3a863c1ea005",
   "metadata": {},
   "source": [
    "**Preparing the outcome variable**"
   ]
  },
  {
   "cell_type": "code",
   "execution_count": 59,
   "id": "133b5aaa-871e-48e1-bfbf-cea5b48d2fed",
   "metadata": {
    "tags": []
   },
   "outputs": [],
   "source": [
    "# We only consider someone a nominee/winner on the year direcly following a movie \n",
    "characters_movie_oscars['post'] = ((characters_movie_oscars['year'] == characters_movie_oscars['Movie release date'].dt.year + 1)  & (characters_movie_oscars['year'].notnull())).astype(int)"
   ]
  },
  {
   "cell_type": "code",
   "execution_count": 60,
   "id": "e7cd8b45-ba73-4b51-a00d-e92848b0a85b",
   "metadata": {
    "tags": []
   },
   "outputs": [],
   "source": [
    "#Prepare the outcome vector for training\n",
    "characters_movie_oscars['nomination_status'] = characters_movie_oscars['winner'].map({0: 1, 1: 2})\n",
    "characters_movie_oscars['nomination_status'].fillna(0, inplace=True)\n",
    "\n",
    "# Store the dictionary\n",
    "outcome_mapping = {0: 'gets nothing', 1: 'is nominated for an Oscar', 2: 'wins an Oscar'}\n",
    "\n",
    "y_ = characters_movie_oscars['nomination_status'].astype('int')*characters_movie_oscars['post'] # winner x post movie\n",
    "\n",
    "# We remove the same observations as for the features vector\n",
    "y_all = y_[~(X_all_var.isna().any(axis=1))]\n",
    "y_select = y_[~(X_select_var.isna().any(axis=1))]"
   ]
  },
  {
   "cell_type": "markdown",
   "id": "5a270986-1bc2-4e11-95bf-f5d66d8e2ab4",
   "metadata": {},
   "source": [
    "### Predicting Oscars' nomination status with a Random Forest Classifier\n",
    "\n",
    "We face a supervised classification problem and we expect non lininearity. Moreover, the features we consider don't have a spatial representation so no notion of distance. For these reason, a tree model is adequate. It is easily interpretable and allows to understand what features matter for getting an Oscar, which is ultimately what we are interested in."
   ]
  },
  {
   "cell_type": "code",
   "execution_count": 61,
   "id": "b90a2507-0b0d-4a92-929b-7647f2e2623a",
   "metadata": {
    "tags": []
   },
   "outputs": [
    {
     "name": "stdout",
     "output_type": "stream",
     "text": [
      "              precision    recall  f1-score   support\n",
      "\n",
      "           0       0.98      0.97      0.97      4447\n",
      "           1       0.02      0.04      0.02        56\n",
      "           2       0.00      0.00      0.00        19\n",
      "\n",
      "    accuracy                           0.95      4522\n",
      "   macro avg       0.33      0.33      0.33      4522\n",
      "weighted avg       0.97      0.95      0.96      4522\n",
      "\n"
     ]
    }
   ],
   "source": [
    "# Split the data into training and testing sets\n",
    "X_train, X_test, y_train, y_test = train_test_split(X_all, y_all, test_size=0.2, random_state=42)\n",
    "\n",
    "ros = RandomOverSampler(random_state=42)\n",
    "X_resampled, y_resampled = ros.fit_resample(X_train, y_train)\n",
    "\n",
    "# Create and train a Random Forest Classifier\n",
    "model_all = RandomForestClassifier(n_estimators=100, random_state=42)\n",
    "model_all.fit(X_resampled, y_resampled)\n",
    "\n",
    "# Make predictions on the test set\n",
    "y_pred = model_all.predict(X_test)\n",
    "\n",
    "# Evaluate the model's performance\n",
    "report = classification_report(y_test, y_pred)\n",
    "print(report)"
   ]
  },
  {
   "cell_type": "code",
   "execution_count": 62,
   "id": "3fdcee0d-0ed2-4e6c-9f76-d3a3af14a363",
   "metadata": {
    "tags": []
   },
   "outputs": [
    {
     "name": "stdout",
     "output_type": "stream",
     "text": [
      "              precision    recall  f1-score   support\n",
      "\n",
      "           0       0.99      0.98      0.99     58728\n",
      "           1       0.01      0.05      0.02       279\n",
      "           2       0.01      0.06      0.02        65\n",
      "\n",
      "    accuracy                           0.98     59072\n",
      "   macro avg       0.34      0.36      0.34     59072\n",
      "weighted avg       0.99      0.98      0.98     59072\n",
      "\n"
     ]
    }
   ],
   "source": [
    "# Split the data into training and testing sets\n",
    "X_train, X_test, y_train, y_test = train_test_split(X_select, y_select, test_size=0.2, random_state=42)\n",
    "\n",
    "ros = RandomOverSampler(random_state=42)\n",
    "X_resampled, y_resampled = ros.fit_resample(X_train, y_train)\n",
    "\n",
    "# Create and train a Random Forest Classifier\n",
    "model_select = RandomForestClassifier(n_estimators=100, random_state=42)\n",
    "model_select.fit(X_resampled, y_resampled)\n",
    "\n",
    "# Make predictions on the test set\n",
    "y_pred = model_select.predict(X_test)\n",
    "\n",
    "# Evaluate the model's performance\n",
    "report = classification_report(y_test, y_pred)\n",
    "print(report)"
   ]
  },
  {
   "cell_type": "markdown",
   "id": "84dba0ac-db2d-43f4-b632-8d4ff86e2493",
   "metadata": {},
   "source": [
    "Note that we have a very imbalanced dataset because most people have no Oscar nor nomination, so our classifier almost exclusively predicts 0. It is hard to predict Oscars accurately given the information we have. Even after balancing the dataset, the accuracy for nomination and win is very low. "
   ]
  },
  {
   "cell_type": "code",
   "execution_count": 63,
   "id": "bd1fbcd6-af73-4bc5-b143-0e94557acc3e",
   "metadata": {
    "tags": []
   },
   "outputs": [
    {
     "name": "stdout",
     "output_type": "stream",
     "text": [
      "Balanced data\n",
      "234976\n",
      "234976\n",
      "234976\n",
      "--- \n",
      " Original data\n",
      "274\n",
      "1035\n",
      "234976\n"
     ]
    }
   ],
   "source": [
    "print('Balanced data')\n",
    "print((y_resampled == 2).sum())\n",
    "print((y_resampled == 1).sum())\n",
    "print((y_resampled == 0).sum())\n",
    "print('--- \\n Original data')\n",
    "print((y_train == 2).sum())\n",
    "print((y_train == 1).sum())\n",
    "print((y_train == 0).sum())"
   ]
  },
  {
   "cell_type": "code",
   "execution_count": 64,
   "id": "be13cc68-3125-4f92-9695-767a4c239210",
   "metadata": {
    "tags": []
   },
   "outputs": [],
   "source": [
    "feature_importances = model_all.feature_importances_\n",
    "\n",
    "# Create a DataFrame to display feature importances with feature names\n",
    "importance_df_all = pd.DataFrame({'Feature': X_all.columns, 'Importance': feature_importances})\n",
    "\n",
    "# Sort the features by importance in descending order\n",
    "importance_df_all = importance_df_all.sort_values(by='Importance', ascending=False)"
   ]
  },
  {
   "cell_type": "code",
   "execution_count": 65,
   "id": "0b52ed45-e623-402b-afef-72a9b4de2b21",
   "metadata": {
    "tags": []
   },
   "outputs": [],
   "source": [
    "feature_importances = model_select.feature_importances_\n",
    "\n",
    "# Create a DataFrame to display feature importances with feature names\n",
    "importance_df_select = pd.DataFrame({'Feature': X_select.columns, 'Importance': feature_importances})\n",
    "\n",
    "# Sort the features by importance in descending order\n",
    "importance_df_select = importance_df_select.sort_values(by='Importance', ascending=False)"
   ]
  },
  {
   "cell_type": "code",
   "execution_count": 66,
   "id": "24811d10-a524-491c-9d27-7d8e69965147",
   "metadata": {
    "tags": []
   },
   "outputs": [
    {
     "data": {
      "image/png": "[encoded data removed]",
      "text/plain": [
       "<Figure size 1600x800 with 2 Axes>"
      ]
     },
     "metadata": {},
     "output_type": "display_data"
    }
   ],
   "source": [
    "# Create subplots\n",
    "fig, axes = plt.subplots(1, 2, figsize=(16, 8))\n",
    "\n",
    "# Plot for All Relevant Variables\n",
    "sns.barplot(x='Importance', y='Feature', data=importance_df_all, ax=axes[0])\n",
    "axes[0].set_title('All Relevant Variables')\n",
    "\n",
    "# Plot for Restricted Variables\n",
    "sns.barplot(x='Importance', y='Feature', data=importance_df_select, ax=axes[1])\n",
    "axes[1].set_title('Restricted Variables')\n",
    "\n",
    "# Adjust layout\n",
    "plt.tight_layout()\n",
    "\n",
    "# Show the plots\n",
    "plt.show()"
   ]
  },
  {
   "cell_type": "markdown",
   "id": "3041867a-c564-4157-970c-af2cad4b7d08",
   "metadata": {},
   "source": [
    "In both analyses, the most important feature is the actor's age when the movie is released, closely followed by the movie runtime. On the other side of the spectrum, gender does not seem to explain much of Oscars' winning. It makes sense that gender since both men and women win as many Oscars and are not competing. Overall, it seems like both movie and actor characteristics are important to predict the nomination and award of Oscars."
   ]
  },
  {
   "cell_type": "markdown",
   "id": "30e7b9da-060c-449d-a36d-4af0b70236e5",
   "metadata": {},
   "source": [
    "### Creating a score index\n",
    "\n",
    "We want to create a score between 0 and 10 based on the probability of being nominated or winning an Oscar for a given movie and actor. To do so, we compute a weighted sum of the probabilities to have nothing, get a nomination, or get an award given by our model.  "
   ]
  },
  {
   "cell_type": "code",
   "execution_count": 68,
   "id": "27f72fe4-3a9b-402c-b25c-e6bc8e1c3816",
   "metadata": {
    "tags": []
   },
   "outputs": [
    {
     "data": {
      "text/plain": [
       "Index(['Actor gender', 'Actor age at movie release', 'Actor height',\n",
       "       'Movie runtime', 'Persona', 'Encoded language', 'Encoded genre',\n",
       "       'Encoded country', 'Encoded ethnicity'],\n",
       "      dtype='object')"
      ]
     },
     "execution_count": 68,
     "metadata": {},
     "output_type": "execute_result"
    }
   ],
   "source": [
    "X_all.columns"
   ]
  },
  {
   "cell_type": "code",
   "execution_count": 77,
   "id": "7b6ae012-be97-4272-a1fa-b9f241ae14f2",
   "metadata": {
    "tags": []
   },
   "outputs": [],
   "source": [
    "def transform_features_all(input_features):\n",
    "    \"\"\"Reverses encoding for Oscar prediction\"\"\"\n",
    "    string_indices = [0, 5, 6, 7, 8] \n",
    "    \n",
    "    for index in string_indices:\n",
    "        if input_features[index] in gender_mapping:\n",
    "            input_features[index] = gender_mapping[input_features[index]]\n",
    "        elif input_features[index] in language_dict:\n",
    "            input_features[index] = language_dict[input_features[index]]\n",
    "        elif input_features[index] in genre_dict:\n",
    "            input_features[index] = genre_dict[input_features[index]]\n",
    "        elif input_features[index] in country_dict:\n",
    "            input_features[index] = country_dict[input_features[index]]\n",
    "        elif input_features[index] in ethnicity_dict:\n",
    "            input_features[index] = ethnicity_dict[input_features[index]]\n",
    "\n",
    "    return input_features\n",
    "\n",
    "def transform_features_select(input_features):\n",
    "    \"\"\"Reverses encoding for Oscar prediction\"\"\"\n",
    "    string_indices = [0, 3, 4, 5] # to change if order of variables changes\n",
    "    \n",
    "    for index in string_indices:\n",
    "        if input_features[index] in gender_mapping:\n",
    "            input_features[index] = gender_mapping[input_features[index]]\n",
    "        elif input_features[index] in language_dict:\n",
    "            input_features[index] = language_dict[input_features[index]]\n",
    "        elif input_features[index] in genre_dict:\n",
    "            input_features[index] = genre_dict[input_features[index]]\n",
    "        elif input_features[index] in country_dict:\n",
    "            input_features[index] = country_dict[input_features[index]]\n",
    "\n",
    "    return input_features\n",
    "\n",
    "def concatenate_values_all(row):\n",
    "    \"\"\"Concatenate values and transform the features into something readable by our model\"\"\"\n",
    "    InputArray = [row['Actor gender'], row['Actor age at movie release'], row['Actor height'],row['Movie runtime'], row['Persona'], row['languages'], row['genres'],row['countries'], row['Actor ethnicity']]\n",
    "    return transform_features_all(InputArray)\n",
    "\n",
    "\n",
    "def concatenate_values_select(row):\n",
    "    InputArray = [row['Actor gender'], row['Actor age at movie release'],row['Movie runtime'], row['languages'], row['genres'],row['countries']]\n",
    "    return transform_features_select(InputArray)"
   ]
  },
  {
   "cell_type": "code",
   "execution_count": 78,
   "id": "829f079f-1873-47b7-ac64-291416856cfd",
   "metadata": {
    "tags": []
   },
   "outputs": [],
   "source": [
    "characters_movie_oscars['InputArray_all'] = characters_movie_oscars.apply(concatenate_values_all, axis=1)"
   ]
  },
  {
   "cell_type": "code",
   "execution_count": 80,
   "id": "7c5d453b-a5f5-471d-9ef5-fbdc01873500",
   "metadata": {},
   "outputs": [],
   "source": [
    "characters_movie_oscars['InputArray_select'] = characters_movie_oscars.apply(concatenate_values_select, axis=1)"
   ]
  },
  {
   "cell_type": "code",
   "execution_count": 81,
   "id": "f79c2271-d916-436d-ae2c-b12b48138357",
   "metadata": {
    "tags": []
   },
   "outputs": [],
   "source": [
    "def oscar_score_all(row):\n",
    "    if not any(pd.isna(row)):\n",
    "        proba = model_all.predict_proba([row['InputArray_all']])\n",
    "        return 100*proba[0][2] + 25*proba[0][1] # for a smooth curve\n",
    "    else:\n",
    "        return None\n",
    "    \n",
    "def oscar_score_select(row):\n",
    "    if not any(pd.isna(row)):\n",
    "        proba = model_select.predict_proba([row['InputArray_select']])\n",
    "        return 100*proba[0][2] + 25*proba[0][1] \n",
    "    else:\n",
    "        return None"
   ]
  },
  {
   "cell_type": "code",
   "execution_count": 82,
   "id": "2d3bda40-98a3-42f1-9c63-52831114f38a",
   "metadata": {
    "tags": []
   },
   "outputs": [],
   "source": [
    "# Suppress scikit-learn warnings\n",
    "warnings.filterwarnings(\"ignore\", category=UserWarning, module=\"sklearn\")\n",
    "\n",
    "characters_movie_oscars['OscarScore_all'] = characters_movie_oscars.apply(oscar_score_all, axis=1)\n",
    "characters_movie_oscars['OscarScore_select'] = characters_movie_oscars.apply(oscar_score_select, axis=1)"
   ]
  },
  {
   "cell_type": "code",
   "execution_count": 83,
   "id": "32409e0d-51c4-4ef3-a9df-a2ebca0955e1",
   "metadata": {
    "tags": []
   },
   "outputs": [
    {
     "name": "stdout",
     "output_type": "stream",
     "text": [
      "8319\n",
      "8319\n"
     ]
    }
   ],
   "source": [
    "print(characters_movie_oscars['OscarScore_all'].notna().sum())\n",
    "print(characters_movie_oscars['OscarScore_select'].notna().sum())"
   ]
  },
  {
   "cell_type": "code",
   "execution_count": 84,
   "id": "3b343a10-dba1-4d44-be74-8f2e6f527db2",
   "metadata": {
    "tags": []
   },
   "outputs": [],
   "source": [
    "oscar_score_by_character_all = characters_movie_oscars.groupby('Actor name')['OscarScore_all'].sum()\n",
    "oscar_score_by_character_select = characters_movie_oscars.groupby('Actor name')['OscarScore_select'].sum()"
   ]
  },
  {
   "cell_type": "code",
   "execution_count": 85,
   "id": "ca897636-35d0-4a7b-969c-e3de5e44e9a1",
   "metadata": {
    "tags": []
   },
   "outputs": [
    {
     "data": {
      "text/plain": [
       "133768"
      ]
     },
     "execution_count": 85,
     "metadata": {},
     "output_type": "execute_result"
    }
   ],
   "source": [
    "oscar_score_by_character_all[oscar_score_by_character_all==0].count()"
   ]
  },
  {
   "cell_type": "code",
   "execution_count": 86,
   "id": "0bebc812-65e5-4968-92b2-9d93cf3d19f2",
   "metadata": {
    "tags": []
   },
   "outputs": [],
   "source": [
    "np.random.seed(42)\n",
    "# have to discard 0s (missing explanatory variables) to reshape the score \n",
    "transformed_data_all, lambda_value_all = boxcox(oscar_score_by_character_all[oscar_score_by_character_all>0])\n",
    "transformed_data_scaled_all = (transformed_data_all - transformed_data_all.min()) / (transformed_data_all.max() - transformed_data_all.min()) * 10 \n",
    "\n",
    "transformed_data_select, lambda_value_select = boxcox(oscar_score_by_character_select[oscar_score_by_character_select>0])\n",
    "transformed_data_scaled_select = (transformed_data_select - transformed_data_select.min()) / (transformed_data_select.max() - transformed_data_select.min()) * 10 "
   ]
  },
  {
   "cell_type": "code",
   "execution_count": 87,
   "id": "19190897-0a5a-4afb-aca1-c0e06f7e8447",
   "metadata": {
    "tags": []
   },
   "outputs": [
    {
     "data": {
      "image/png": "[encoded data removed]",
      "text/plain": [
       "<Figure size 1500x600 with 2 Axes>"
      ]
     },
     "metadata": {},
     "output_type": "display_data"
    }
   ],
   "source": [
    "# Create subplots\n",
    "fig, axes = plt.subplots(1, 2, figsize=(15, 6))\n",
    "\n",
    "# Plot for transformed_data_scaled_all\n",
    "sns.histplot(transformed_data_scaled_all, kde=True, ax=axes[0], color='blue')\n",
    "axes[0].set_title('Distribution of scores based on all relevant variables')\n",
    "\n",
    "# Plot for transformed_data_scaled_select\n",
    "sns.histplot(transformed_data_scaled_select, kde=True, ax=axes[1], color='green')\n",
    "axes[1].set_title('Distribution of scores based on restricted variables')\n",
    "\n",
    "# Adjust layout\n",
    "plt.tight_layout()\n",
    "\n",
    "# Show the plots\n",
    "plt.show()"
   ]
  },
  {
   "cell_type": "markdown",
   "id": "7da94a3f-2b0b-4b9f-ac8d-abd01be814db",
   "metadata": {
    "tags": []
   },
   "source": [
    "### Limitations of the dataset\n",
    "\n",
    "The Oscars take place in the US and are usually political. It is less likely for popular foreign actors to win an award outside the best international film category, even if some film industries are very big outside of Hollywood, such as Bollywood and Nollywood.\n",
    "\n",
    "We haven't found an exhaustive dataset of awards. We might decide to extend the analysis to more award ceremonies but none is exempt from this national preference: The Australian Film Institute Awards, The BAFTA Film Awards (UK), the Césars Film Awards (France), the Golden Bears (Germany), the Golden Globes (US), the Golden Lions (Venice), the Palme d'Or awards (France), the Sundance Film Festival awards (independent movies), Filmfare (Hindi), etc.\n",
    "\n",
    "We do not aim at doing an exhaustive analysis, but it is important here to understand that we have a Western bias and we might need to use other indicators to better understand success of actors outside of Hollywood. \n",
    "\n",
    "Using our score indices complementarily is key to go past potential biases."
   ]
  },
  {
   "cell_type": "code",
   "execution_count": 88,
   "id": "f1c79227-e000-40ae-a7ae-8be399ec34b2",
   "metadata": {
    "tags": []
   },
   "outputs": [
    {
     "data": {
      "text/plain": [
       "{'United States of America': 12598,\n",
       " 'United Kingdom': 2393,\n",
       " 'France': 667,\n",
       " 'Germany': 530,\n",
       " 'Italy': 507}"
      ]
     },
     "execution_count": 88,
     "metadata": {},
     "output_type": "execute_result"
    }
   ],
   "source": [
    "# What are movie nationalities of actors that won an Oscar?\n",
    "oscar_winers = characters_oscars[characters_oscars['winner'] == True].merge(movies, on='Freebase movie ID', how='left') \n",
    "\n",
    "# Flatten the dictionaries and count countries occurrences\n",
    "countries_counts = Counter(country for countries_dict in oscar_winers[\"Movie countries\"] for country in countries_dict.values())\n",
    "\n",
    "filtered_countries_counts = {country: count for country, count in countries_counts.items() if count > 500}\n",
    "sorted_countries_counts = dict(sorted(filtered_countries_counts.items(), key=lambda item: item[1], reverse=True))\n",
    "\n",
    "sorted_countries_counts # Indian movies are not represented at all despite their big industry"
   ]
  },
  {
   "cell_type": "markdown",
   "id": "6ecebb75-55d2-4c70-a198-2366fb9f1460",
   "metadata": {},
   "source": [
    "Another issue is that we do not have mapping of ethnicity so we even though we know this feature matters, we cannot really explain how. Additionally, it is largely missing, so we did not include it in the analysis with restricted variables."
   ]
  },
  {
   "cell_type": "code",
   "execution_count": 89,
   "id": "be979d65-58d9-4c84-b26e-fb93a65efc56",
   "metadata": {
    "tags": []
   },
   "outputs": [
    {
     "name": "stdout",
     "output_type": "stream",
     "text": [
      "For '/m/0dryh9k':\n",
      "  - First actor: Mohanlal\n",
      "  - Total count: 16555\n",
      "----\n",
      "For '/m/041rx':\n",
      "  - First actor: Seth Green\n",
      "  - Total count: 12244\n",
      "----\n",
      "For '/m/0x67':\n",
      "  - First actor: Ice Cube\n",
      "  - Total count: 10947\n",
      "----\n",
      "For '/m/02w7gg':\n",
      "  - First actor: Pete Postlethwaite\n",
      "  - Total count: 7599\n",
      "----\n",
      "For '/m/033tf_':\n",
      "  - First actor: Matt Stone\n",
      "  - Total count: 5659\n",
      "----\n"
     ]
    }
   ],
   "source": [
    "result = characters_movie_oscars.groupby('Actor ethnicity')['Actor name'].agg(['first', 'count']).sort_values(by='count', ascending=False).nlargest(5, 'count')\n",
    "\n",
    "for ethnicity, values in result.iterrows():\n",
    "    print(f\"For '{ethnicity}':\")\n",
    "    print(f\"  - First actor: {values['first']}\")\n",
    "    print(f\"  - Total count: {values['count']}\")\n",
    "    print(\"----\")\n",
    "    \n",
    "# Indian, white, black? Seems more precise than this"
   ]
  },
  {
   "cell_type": "markdown",
   "id": "33b3064c-3fbd-4509-88d2-1e9dc36e913e",
   "metadata": {},
   "source": [
    "## 5. Synthesizing the insights\n",
    "\n",
    "Our goal is to offer a more nuanced understanding on the determinants of success. By combining diverse metrics, we strive for a exhaustive examination given the limitations in each isolated measure. Additionally, various success notions may not always exhibit strong correlations. For instance, an actor associated with movies generating a lot of money may not necessarily enjoy a lengthy career or consistently receive good ratings."
   ]
  },
  {
   "cell_type": "code",
   "execution_count": 94,
   "id": "6a3d5a35-68ee-421e-94e1-801e43901646",
   "metadata": {
    "tags": []
   },
   "outputs": [
    {
     "name": "stdout",
     "output_type": "stream",
     "text": [
      "             Actor name  OscarScore_all  OscarScore_select  revenue_score\n",
      "0      Cesarine Prinz\\t             0.0                0.0            NaN\n",
      "1         Daniel Newman             0.0                0.0            NaN\n",
      "2  'Big Bill' Giddinger             0.0                0.0            NaN\n",
      "3             'Big' Lee             0.0                0.0            NaN\n",
      "4    'Chicken' Holleman             0.0                0.0            NaN\n"
     ]
    }
   ],
   "source": [
    "# Merge the different success scores on 'Actor name'\n",
    "pairplot_data = pd.merge(oscar_score_by_character_all, oscar_score_by_character_select, on='Actor name', how='outer', suffixes=('_all', '_select'))\n",
    "pairplot_data = pd.merge(pairplot_data, revenue_score, on='Actor name', how='outer')\n",
    "\n",
    "print(pairplot_data.head())"
   ]
  },
  {
   "cell_type": "markdown",
   "id": "24139a98-01d0-4098-95b6-8180a57583b6",
   "metadata": {},
   "source": [
    "**Correlations between success scores**"
   ]
  },
  {
   "cell_type": "code",
   "execution_count": null,
   "id": "2760e784-7b82-4ac7-9e48-4c7be5d69fda",
   "metadata": {
    "tags": []
   },
   "outputs": [],
   "source": [
    "# Pairplot\n",
    "sns.pairplot(pairplot_data, hue='Actor name', palette='viridis')\n",
    "\n",
    "plt.show()"
   ]
  },
  {
   "cell_type": "markdown",
   "id": "c37a6367-5874-47da-be57-66e7d5d2f147",
   "metadata": {},
   "source": [
    "**Illustration: the case of Margot Robbie**"
   ]
  },
  {
   "cell_type": "markdown",
   "id": "46716fd7-4820-44ab-8308-db6d78db2542",
   "metadata": {
    "tags": []
   },
   "source": [
    "- Prediction of all types of success based on a feature input. This can be visualized for instance with a spider chart. *(to do together, what information do we need in each part?)*"
   ]
  },
  {
   "cell_type": "code",
   "execution_count": null,
   "id": "2df36d69-bbb7-4a02-876d-8e50222bf2f0",
   "metadata": {},
   "outputs": [],
   "source": [
    "def radar_chart(actor_name, pairplot_data):\n",
    "    # Extract data for the given actor\n",
    "    actor_data = pairplot_data[pairplot_data['Actor name'] == actor_name]\n",
    "\n",
    "    # Check if data for the actor is available\n",
    "    if actor_data.empty:\n",
    "        print(f\"No data found for {actor_name}\")\n",
    "        return\n",
    "\n",
    "    # Variables and their values\n",
    "    variables = ['OscarScore_all', 'OscarScore_select', 'revenue_score']\n",
    "    values = actor_data[variables].values.flatten()\n",
    "\n",
    "    # If any variable is missing, replace with -1\n",
    "    values = np.where(np.isnan(values), -1, values)\n",
    "\n",
    "    # Number of variables\n",
    "    num_vars = len(variables)\n",
    "\n",
    "    # Compute angle of each axis\n",
    "    angles = np.linspace(0, 2 * np.pi, num_vars, endpoint=False).tolist()\n",
    "\n",
    "    # The plot is circular, so we need to \"close the loop\" and append the start\n",
    "    values = np.concatenate((values, [values[0]]))\n",
    "    angles += angles[:1]\n",
    "\n",
    "    # Create the spider plot\n",
    "    plt.figure(figsize=(8, 8))\n",
    "    plt.polar(angles, values, marker='o', color='orange', linestyle='solid', linewidth=2)\n",
    "    plt.fill(angles, values, color='orange', alpha=0.4)\n",
    "\n",
    "    # Set labels for each axis\n",
    "    plt.xticks(angles[:-1], variables)\n",
    "\n",
    "    # Set title\n",
    "    plt.title(f'Spider Plot for {actor_name}')\n",
    "\n",
    "    # Show the plot\n",
    "    plt.show()\n",
    "\n",
    "# Example usage\n",
    "# Replace 'Actor_Name' with the actual name of the actor in your DataFrame\n",
    "radar_chart('Tom Cruise', pairplot_data)"
   ]
  }
 ],
 "metadata": {
  "kernelspec": {
   "display_name": "Python [conda env:ada] *",
   "language": "python",
   "name": "conda-env-ada-py"
  },
  "language_info": {
   "codemirror_mode": {
    "name": "ipython",
    "version": 3
   },
   "file_extension": ".py",
   "mimetype": "text/x-python",
   "name": "python",
   "nbconvert_exporter": "python",
   "pygments_lexer": "ipython3",
   "version": "3.9.18"
  }
 },
 "nbformat": 4,
 "nbformat_minor": 5
}
