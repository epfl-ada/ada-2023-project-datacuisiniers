{
 "cells": [
  {
   "cell_type": "markdown",
   "id": "1676a533",
   "metadata": {},
   "source": [
    "## Data loading"
   ]
  },
  {
   "cell_type": "code",
   "execution_count": 44,
   "id": "5be55e30",
   "metadata": {},
   "outputs": [],
   "source": [
    "import pandas as pd\n",
    "import seaborn as sns\n",
    "import matplotlib.pyplot as plt"
   ]
  },
  {
   "cell_type": "code",
   "execution_count": 34,
   "id": "1f639ff5",
   "metadata": {},
   "outputs": [
    {
     "data": {
      "text/html": [
       "<div>\n",
       "<style scoped>\n",
       "    .dataframe tbody tr th:only-of-type {\n",
       "        vertical-align: middle;\n",
       "    }\n",
       "\n",
       "    .dataframe tbody tr th {\n",
       "        vertical-align: top;\n",
       "    }\n",
       "\n",
       "    .dataframe thead th {\n",
       "        text-align: right;\n",
       "    }\n",
       "</style>\n",
       "<table border=\"1\" class=\"dataframe\">\n",
       "  <thead>\n",
       "    <tr style=\"text-align: right;\">\n",
       "      <th></th>\n",
       "      <th>film_id</th>\n",
       "      <th>movie_id</th>\n",
       "      <th>title</th>\n",
       "      <th>release_date</th>\n",
       "      <th>gross_revenue</th>\n",
       "      <th>duration_min</th>\n",
       "      <th>language</th>\n",
       "      <th>country</th>\n",
       "      <th>categories</th>\n",
       "    </tr>\n",
       "  </thead>\n",
       "  <tbody>\n",
       "    <tr>\n",
       "      <th>0</th>\n",
       "      <td>975900</td>\n",
       "      <td>/m/03vyhn</td>\n",
       "      <td>Ghosts of Mars</td>\n",
       "      <td>2001-08-24</td>\n",
       "      <td>14010832.0</td>\n",
       "      <td>98.0</td>\n",
       "      <td>{\"/m/02h40lc\": \"English Language\"}</td>\n",
       "      <td>{\"/m/09c7w0\": \"United States of America\"}</td>\n",
       "      <td>{\"/m/01jfsb\": \"Thriller\", \"/m/06n90\": \"Science...</td>\n",
       "    </tr>\n",
       "    <tr>\n",
       "      <th>1</th>\n",
       "      <td>3196793</td>\n",
       "      <td>/m/08yl5d</td>\n",
       "      <td>Getting Away with Murder: The JonBenét Ramsey ...</td>\n",
       "      <td>2000-02-16</td>\n",
       "      <td>NaN</td>\n",
       "      <td>95.0</td>\n",
       "      <td>{\"/m/02h40lc\": \"English Language\"}</td>\n",
       "      <td>{\"/m/09c7w0\": \"United States of America\"}</td>\n",
       "      <td>{\"/m/02n4kr\": \"Mystery\", \"/m/03bxz7\": \"Biograp...</td>\n",
       "    </tr>\n",
       "    <tr>\n",
       "      <th>2</th>\n",
       "      <td>28463795</td>\n",
       "      <td>/m/0crgdbh</td>\n",
       "      <td>Brun bitter</td>\n",
       "      <td>1988</td>\n",
       "      <td>NaN</td>\n",
       "      <td>83.0</td>\n",
       "      <td>{\"/m/05f_3\": \"Norwegian Language\"}</td>\n",
       "      <td>{\"/m/05b4w\": \"Norway\"}</td>\n",
       "      <td>{\"/m/0lsxr\": \"Crime Fiction\", \"/m/07s9rl0\": \"D...</td>\n",
       "    </tr>\n",
       "    <tr>\n",
       "      <th>3</th>\n",
       "      <td>9363483</td>\n",
       "      <td>/m/0285_cd</td>\n",
       "      <td>White Of The Eye</td>\n",
       "      <td>1987</td>\n",
       "      <td>NaN</td>\n",
       "      <td>110.0</td>\n",
       "      <td>{\"/m/02h40lc\": \"English Language\"}</td>\n",
       "      <td>{\"/m/07ssc\": \"United Kingdom\"}</td>\n",
       "      <td>{\"/m/01jfsb\": \"Thriller\", \"/m/0glj9q\": \"Erotic...</td>\n",
       "    </tr>\n",
       "    <tr>\n",
       "      <th>4</th>\n",
       "      <td>261236</td>\n",
       "      <td>/m/01mrr1</td>\n",
       "      <td>A Woman in Flames</td>\n",
       "      <td>1983</td>\n",
       "      <td>NaN</td>\n",
       "      <td>106.0</td>\n",
       "      <td>{\"/m/04306rv\": \"German Language\"}</td>\n",
       "      <td>{\"/m/0345h\": \"Germany\"}</td>\n",
       "      <td>{\"/m/07s9rl0\": \"Drama\"}</td>\n",
       "    </tr>\n",
       "  </tbody>\n",
       "</table>\n",
       "</div>"
      ],
      "text/plain": [
       "    film_id    movie_id                                              title  \\\n",
       "0    975900   /m/03vyhn                                     Ghosts of Mars   \n",
       "1   3196793   /m/08yl5d  Getting Away with Murder: The JonBenét Ramsey ...   \n",
       "2  28463795  /m/0crgdbh                                        Brun bitter   \n",
       "3   9363483  /m/0285_cd                                   White Of The Eye   \n",
       "4    261236   /m/01mrr1                                  A Woman in Flames   \n",
       "\n",
       "  release_date  gross_revenue  duration_min  \\\n",
       "0   2001-08-24     14010832.0          98.0   \n",
       "1   2000-02-16            NaN          95.0   \n",
       "2         1988            NaN          83.0   \n",
       "3         1987            NaN         110.0   \n",
       "4         1983            NaN         106.0   \n",
       "\n",
       "                             language  \\\n",
       "0  {\"/m/02h40lc\": \"English Language\"}   \n",
       "1  {\"/m/02h40lc\": \"English Language\"}   \n",
       "2  {\"/m/05f_3\": \"Norwegian Language\"}   \n",
       "3  {\"/m/02h40lc\": \"English Language\"}   \n",
       "4   {\"/m/04306rv\": \"German Language\"}   \n",
       "\n",
       "                                     country  \\\n",
       "0  {\"/m/09c7w0\": \"United States of America\"}   \n",
       "1  {\"/m/09c7w0\": \"United States of America\"}   \n",
       "2                     {\"/m/05b4w\": \"Norway\"}   \n",
       "3             {\"/m/07ssc\": \"United Kingdom\"}   \n",
       "4                    {\"/m/0345h\": \"Germany\"}   \n",
       "\n",
       "                                          categories  \n",
       "0  {\"/m/01jfsb\": \"Thriller\", \"/m/06n90\": \"Science...  \n",
       "1  {\"/m/02n4kr\": \"Mystery\", \"/m/03bxz7\": \"Biograp...  \n",
       "2  {\"/m/0lsxr\": \"Crime Fiction\", \"/m/07s9rl0\": \"D...  \n",
       "3  {\"/m/01jfsb\": \"Thriller\", \"/m/0glj9q\": \"Erotic...  \n",
       "4                            {\"/m/07s9rl0\": \"Drama\"}  "
      ]
     },
     "execution_count": 34,
     "metadata": {},
     "output_type": "execute_result"
    }
   ],
   "source": [
    "# First glimpse of all the available movies in the dataset\n",
    "\n",
    "column_movies = [\"film_id\", \"movie_id\", \"title\", \"release_date\", \"gross_revenue\", \"duration_min\", \"language\", \"country\", \"categories\"]\n",
    "\n",
    "movies_df = pd.read_csv('./MovieSummaries/movie.metadata.tsv', sep='\\t', header=None, names=column_names)\n",
    "movies_df.head()"
   ]
  },
  {
   "cell_type": "code",
   "execution_count": 35,
   "id": "58a80a6e",
   "metadata": {},
   "outputs": [
    {
     "data": {
      "text/html": [
       "<div>\n",
       "<style scoped>\n",
       "    .dataframe tbody tr th:only-of-type {\n",
       "        vertical-align: middle;\n",
       "    }\n",
       "\n",
       "    .dataframe tbody tr th {\n",
       "        vertical-align: top;\n",
       "    }\n",
       "\n",
       "    .dataframe thead th {\n",
       "        text-align: right;\n",
       "    }\n",
       "</style>\n",
       "<table border=\"1\" class=\"dataframe\">\n",
       "  <thead>\n",
       "    <tr style=\"text-align: right;\">\n",
       "      <th></th>\n",
       "      <th>film_id</th>\n",
       "      <th>movie_id</th>\n",
       "      <th>title</th>\n",
       "      <th>release_date</th>\n",
       "      <th>gross_revenue</th>\n",
       "      <th>duration_min</th>\n",
       "      <th>language</th>\n",
       "      <th>country</th>\n",
       "      <th>categories</th>\n",
       "    </tr>\n",
       "  </thead>\n",
       "  <tbody>\n",
       "    <tr>\n",
       "      <th>119</th>\n",
       "      <td>3873713</td>\n",
       "      <td>/m/0b4f1s</td>\n",
       "      <td>Lee Dae-ro Can't Die</td>\n",
       "      <td>2005-08-18</td>\n",
       "      <td>4736013.0</td>\n",
       "      <td>108.0</td>\n",
       "      <td>{\"/m/02hwhyv\": \"Korean Language\"}</td>\n",
       "      <td>{\"/m/06qd3\": \"South Korea\"}</td>\n",
       "      <td>{\"/m/02kdv5l\": \"Action\", \"/m/01z4y\": \"Comedy\"}</td>\n",
       "    </tr>\n",
       "    <tr>\n",
       "      <th>124</th>\n",
       "      <td>24282217</td>\n",
       "      <td>/m/07sb8_t</td>\n",
       "      <td>The Naked Kitchen</td>\n",
       "      <td>2009-02-05</td>\n",
       "      <td>638181.0</td>\n",
       "      <td>102.0</td>\n",
       "      <td>{\"/m/02hwhyv\": \"Korean Language\"}</td>\n",
       "      <td>{\"/m/06qd3\": \"South Korea\"}</td>\n",
       "      <td>{\"/m/03q4nz\": \"World cinema\", \"/m/01t_vv\": \"Co...</td>\n",
       "    </tr>\n",
       "    <tr>\n",
       "      <th>197</th>\n",
       "      <td>748616</td>\n",
       "      <td>/m/03813g</td>\n",
       "      <td>Spring, Summer, Fall, Winter... and Spring</td>\n",
       "      <td>2003-08-14</td>\n",
       "      <td>9524745.0</td>\n",
       "      <td>95.0</td>\n",
       "      <td>{\"/m/02hwhyv\": \"Korean Language\"}</td>\n",
       "      <td>{\"/m/06qd3\": \"South Korea\", \"/m/0345h\": \"Germa...</td>\n",
       "      <td>{\"/m/07s9rl0\": \"Drama\", \"/m/03q4nz\": \"World ci...</td>\n",
       "    </tr>\n",
       "    <tr>\n",
       "      <th>220</th>\n",
       "      <td>20119316</td>\n",
       "      <td>/m/04yfw36</td>\n",
       "      <td>Eoudong</td>\n",
       "      <td>1985-09-28</td>\n",
       "      <td>NaN</td>\n",
       "      <td>110.0</td>\n",
       "      <td>{}</td>\n",
       "      <td>{\"/m/06qd3\": \"South Korea\"}</td>\n",
       "      <td>{\"/m/07s9rl0\": \"Drama\"}</td>\n",
       "    </tr>\n",
       "    <tr>\n",
       "      <th>300</th>\n",
       "      <td>35567084</td>\n",
       "      <td>/m/0j9n5v7</td>\n",
       "      <td>I AM.</td>\n",
       "      <td>2012-05-15</td>\n",
       "      <td>NaN</td>\n",
       "      <td>130.0</td>\n",
       "      <td>{\"/m/02hwhyv\": \"Korean Language\"}</td>\n",
       "      <td>{\"/m/06qd3\": \"South Korea\"}</td>\n",
       "      <td>{\"/m/0jtdp\": \"Documentary\"}</td>\n",
       "    </tr>\n",
       "  </tbody>\n",
       "</table>\n",
       "</div>"
      ],
      "text/plain": [
       "      film_id    movie_id                                       title  \\\n",
       "119   3873713   /m/0b4f1s                        Lee Dae-ro Can't Die   \n",
       "124  24282217  /m/07sb8_t                           The Naked Kitchen   \n",
       "197    748616   /m/03813g  Spring, Summer, Fall, Winter... and Spring   \n",
       "220  20119316  /m/04yfw36                                     Eoudong   \n",
       "300  35567084  /m/0j9n5v7                                       I AM.   \n",
       "\n",
       "    release_date  gross_revenue  duration_min  \\\n",
       "119   2005-08-18      4736013.0         108.0   \n",
       "124   2009-02-05       638181.0         102.0   \n",
       "197   2003-08-14      9524745.0          95.0   \n",
       "220   1985-09-28            NaN         110.0   \n",
       "300   2012-05-15            NaN         130.0   \n",
       "\n",
       "                              language  \\\n",
       "119  {\"/m/02hwhyv\": \"Korean Language\"}   \n",
       "124  {\"/m/02hwhyv\": \"Korean Language\"}   \n",
       "197  {\"/m/02hwhyv\": \"Korean Language\"}   \n",
       "220                                 {}   \n",
       "300  {\"/m/02hwhyv\": \"Korean Language\"}   \n",
       "\n",
       "                                               country  \\\n",
       "119                        {\"/m/06qd3\": \"South Korea\"}   \n",
       "124                        {\"/m/06qd3\": \"South Korea\"}   \n",
       "197  {\"/m/06qd3\": \"South Korea\", \"/m/0345h\": \"Germa...   \n",
       "220                        {\"/m/06qd3\": \"South Korea\"}   \n",
       "300                        {\"/m/06qd3\": \"South Korea\"}   \n",
       "\n",
       "                                            categories  \n",
       "119     {\"/m/02kdv5l\": \"Action\", \"/m/01z4y\": \"Comedy\"}  \n",
       "124  {\"/m/03q4nz\": \"World cinema\", \"/m/01t_vv\": \"Co...  \n",
       "197  {\"/m/07s9rl0\": \"Drama\", \"/m/03q4nz\": \"World ci...  \n",
       "220                            {\"/m/07s9rl0\": \"Drama\"}  \n",
       "300                        {\"/m/0jtdp\": \"Documentary\"}  "
      ]
     },
     "execution_count": 35,
     "metadata": {},
     "output_type": "execute_result"
    }
   ],
   "source": [
    "# Example of local analysis (maybe useful later)\n",
    "\n",
    "korean_movies = movies_df[movies_df['country'].str.contains('Korea')]\n",
    "korean_movies.head()"
   ]
  },
  {
   "cell_type": "code",
   "execution_count": 36,
   "id": "602570f8",
   "metadata": {},
   "outputs": [
    {
     "data": {
      "text/html": [
       "<div>\n",
       "<style scoped>\n",
       "    .dataframe tbody tr th:only-of-type {\n",
       "        vertical-align: middle;\n",
       "    }\n",
       "\n",
       "    .dataframe tbody tr th {\n",
       "        vertical-align: top;\n",
       "    }\n",
       "\n",
       "    .dataframe thead th {\n",
       "        text-align: right;\n",
       "    }\n",
       "</style>\n",
       "<table border=\"1\" class=\"dataframe\">\n",
       "  <thead>\n",
       "    <tr style=\"text-align: right;\">\n",
       "      <th></th>\n",
       "      <th>film_id</th>\n",
       "      <th>movie_id</th>\n",
       "      <th>release_date</th>\n",
       "      <th>character</th>\n",
       "      <th>born_date</th>\n",
       "      <th>gender</th>\n",
       "      <th>height</th>\n",
       "      <th>ethnicity</th>\n",
       "      <th>actor_name</th>\n",
       "      <th>actor_age_at_movie_release</th>\n",
       "      <th>actor_map_ID</th>\n",
       "      <th>character_ID</th>\n",
       "      <th>actor_ID</th>\n",
       "    </tr>\n",
       "  </thead>\n",
       "  <tbody>\n",
       "    <tr>\n",
       "      <th>129887</th>\n",
       "      <td>1212256</td>\n",
       "      <td>/m/04hr2d</td>\n",
       "      <td>1993-02-03</td>\n",
       "      <td>Bob Seaver</td>\n",
       "      <td>1947-07-24</td>\n",
       "      <td>M</td>\n",
       "      <td>1.870</td>\n",
       "      <td>NaN</td>\n",
       "      <td>Robert Hays</td>\n",
       "      <td>45.0</td>\n",
       "      <td>/m/0cgcyr0</td>\n",
       "      <td>/m/0dl63sg</td>\n",
       "      <td>/m/04t4gf</td>\n",
       "    </tr>\n",
       "    <tr>\n",
       "      <th>351483</th>\n",
       "      <td>1846703</td>\n",
       "      <td>/m/060mqw</td>\n",
       "      <td>1959</td>\n",
       "      <td>NaN</td>\n",
       "      <td>1942-09-16</td>\n",
       "      <td>F</td>\n",
       "      <td>NaN</td>\n",
       "      <td>NaN</td>\n",
       "      <td>Beverly Aadland</td>\n",
       "      <td>16.0</td>\n",
       "      <td>/m/02vd52b</td>\n",
       "      <td>NaN</td>\n",
       "      <td>/m/0fxqr2</td>\n",
       "    </tr>\n",
       "    <tr>\n",
       "      <th>378617</th>\n",
       "      <td>11134797</td>\n",
       "      <td>/m/02r15l_</td>\n",
       "      <td>2007-08-23</td>\n",
       "      <td>NaN</td>\n",
       "      <td>NaN</td>\n",
       "      <td>M</td>\n",
       "      <td>NaN</td>\n",
       "      <td>/m/0dryh9k</td>\n",
       "      <td>Naresh</td>\n",
       "      <td>NaN</td>\n",
       "      <td>/m/0jsfszq</td>\n",
       "      <td>NaN</td>\n",
       "      <td>/m/03ydbdk</td>\n",
       "    </tr>\n",
       "    <tr>\n",
       "      <th>312786</th>\n",
       "      <td>23108456</td>\n",
       "      <td>/m/064nzsj</td>\n",
       "      <td>2010-01-29</td>\n",
       "      <td>Lance Murphy</td>\n",
       "      <td>1982-11-14</td>\n",
       "      <td>NaN</td>\n",
       "      <td>NaN</td>\n",
       "      <td>NaN</td>\n",
       "      <td>Cooper Hopkins</td>\n",
       "      <td>27.0</td>\n",
       "      <td>/m/07zkn55</td>\n",
       "      <td>/m/07zknb5</td>\n",
       "      <td>/m/07zkn58</td>\n",
       "    </tr>\n",
       "    <tr>\n",
       "      <th>35434</th>\n",
       "      <td>6953611</td>\n",
       "      <td>/m/0gymfz</td>\n",
       "      <td>1979-03-22</td>\n",
       "      <td>Barbara Collins</td>\n",
       "      <td>1947-06-03</td>\n",
       "      <td>F</td>\n",
       "      <td>NaN</td>\n",
       "      <td>NaN</td>\n",
       "      <td>Joanne Nail</td>\n",
       "      <td>31.0</td>\n",
       "      <td>/m/0j8pphk</td>\n",
       "      <td>/m/0j8pphn</td>\n",
       "      <td>/m/0gb_jrp</td>\n",
       "    </tr>\n",
       "    <tr>\n",
       "      <th>101862</th>\n",
       "      <td>32376025</td>\n",
       "      <td>/m/0gysbmx</td>\n",
       "      <td>2011-10-06</td>\n",
       "      <td>Craft Shop Manager</td>\n",
       "      <td>1980-07-20</td>\n",
       "      <td>M</td>\n",
       "      <td>NaN</td>\n",
       "      <td>NaN</td>\n",
       "      <td>Jin Goo</td>\n",
       "      <td>31.0</td>\n",
       "      <td>/m/0j12mxd</td>\n",
       "      <td>/m/0jb33qg</td>\n",
       "      <td>/m/026z32t</td>\n",
       "    </tr>\n",
       "    <tr>\n",
       "      <th>23478</th>\n",
       "      <td>30408618</td>\n",
       "      <td>/m/0bj795r</td>\n",
       "      <td>2010-05-20</td>\n",
       "      <td>NaN</td>\n",
       "      <td>NaN</td>\n",
       "      <td>F</td>\n",
       "      <td>NaN</td>\n",
       "      <td>NaN</td>\n",
       "      <td>Louise Szpindel</td>\n",
       "      <td>NaN</td>\n",
       "      <td>/m/0cv8969</td>\n",
       "      <td>NaN</td>\n",
       "      <td>/m/0cv895k</td>\n",
       "    </tr>\n",
       "    <tr>\n",
       "      <th>386749</th>\n",
       "      <td>4822104</td>\n",
       "      <td>/m/0cppq2</td>\n",
       "      <td>1988</td>\n",
       "      <td>NaN</td>\n",
       "      <td>1923-09-01</td>\n",
       "      <td>M</td>\n",
       "      <td>NaN</td>\n",
       "      <td>/m/09snp5</td>\n",
       "      <td>Habib Tanvir</td>\n",
       "      <td>64.0</td>\n",
       "      <td>/m/0h6ynf_</td>\n",
       "      <td>NaN</td>\n",
       "      <td>/m/03d3c6l</td>\n",
       "    </tr>\n",
       "    <tr>\n",
       "      <th>274055</th>\n",
       "      <td>15984648</td>\n",
       "      <td>/m/03qjz2c</td>\n",
       "      <td>2008-07-04</td>\n",
       "      <td>NaN</td>\n",
       "      <td>1982-01-05</td>\n",
       "      <td>M</td>\n",
       "      <td>NaN</td>\n",
       "      <td>NaN</td>\n",
       "      <td>Joseph Porter</td>\n",
       "      <td>26.0</td>\n",
       "      <td>/m/0gcfr1c</td>\n",
       "      <td>NaN</td>\n",
       "      <td>/m/0c1nn9f</td>\n",
       "    </tr>\n",
       "    <tr>\n",
       "      <th>192005</th>\n",
       "      <td>570350</td>\n",
       "      <td>/m/02r45m</td>\n",
       "      <td>1984-03-02</td>\n",
       "      <td>Tommy</td>\n",
       "      <td>1950-08-06</td>\n",
       "      <td>M</td>\n",
       "      <td>1.803</td>\n",
       "      <td>/m/0x67</td>\n",
       "      <td>Dorian Harewood</td>\n",
       "      <td>33.0</td>\n",
       "      <td>/m/03jrcc4</td>\n",
       "      <td>/m/0h5w66s</td>\n",
       "      <td>/m/05f96s</td>\n",
       "    </tr>\n",
       "  </tbody>\n",
       "</table>\n",
       "</div>"
      ],
      "text/plain": [
       "         film_id    movie_id release_date           character   born_date  \\\n",
       "129887   1212256   /m/04hr2d   1993-02-03          Bob Seaver  1947-07-24   \n",
       "351483   1846703   /m/060mqw         1959                 NaN  1942-09-16   \n",
       "378617  11134797  /m/02r15l_   2007-08-23                 NaN         NaN   \n",
       "312786  23108456  /m/064nzsj   2010-01-29        Lance Murphy  1982-11-14   \n",
       "35434    6953611   /m/0gymfz   1979-03-22     Barbara Collins  1947-06-03   \n",
       "101862  32376025  /m/0gysbmx   2011-10-06  Craft Shop Manager  1980-07-20   \n",
       "23478   30408618  /m/0bj795r   2010-05-20                 NaN         NaN   \n",
       "386749   4822104   /m/0cppq2         1988                 NaN  1923-09-01   \n",
       "274055  15984648  /m/03qjz2c   2008-07-04                 NaN  1982-01-05   \n",
       "192005    570350   /m/02r45m   1984-03-02               Tommy  1950-08-06   \n",
       "\n",
       "       gender  height   ethnicity       actor_name  \\\n",
       "129887      M   1.870         NaN      Robert Hays   \n",
       "351483      F     NaN         NaN  Beverly Aadland   \n",
       "378617      M     NaN  /m/0dryh9k           Naresh   \n",
       "312786    NaN     NaN         NaN   Cooper Hopkins   \n",
       "35434       F     NaN         NaN      Joanne Nail   \n",
       "101862      M     NaN         NaN          Jin Goo   \n",
       "23478       F     NaN         NaN  Louise Szpindel   \n",
       "386749      M     NaN   /m/09snp5     Habib Tanvir   \n",
       "274055      M     NaN         NaN    Joseph Porter   \n",
       "192005      M   1.803     /m/0x67  Dorian Harewood   \n",
       "\n",
       "        actor_age_at_movie_release actor_map_ID character_ID    actor_ID  \n",
       "129887                        45.0   /m/0cgcyr0   /m/0dl63sg   /m/04t4gf  \n",
       "351483                        16.0   /m/02vd52b          NaN   /m/0fxqr2  \n",
       "378617                         NaN   /m/0jsfszq          NaN  /m/03ydbdk  \n",
       "312786                        27.0   /m/07zkn55   /m/07zknb5  /m/07zkn58  \n",
       "35434                         31.0   /m/0j8pphk   /m/0j8pphn  /m/0gb_jrp  \n",
       "101862                        31.0   /m/0j12mxd   /m/0jb33qg  /m/026z32t  \n",
       "23478                          NaN   /m/0cv8969          NaN  /m/0cv895k  \n",
       "386749                        64.0   /m/0h6ynf_          NaN  /m/03d3c6l  \n",
       "274055                        26.0   /m/0gcfr1c          NaN  /m/0c1nn9f  \n",
       "192005                        33.0   /m/03jrcc4   /m/0h5w66s   /m/05f96s  "
      ]
     },
     "execution_count": 36,
     "metadata": {},
     "output_type": "execute_result"
    }
   ],
   "source": [
    "# Dataframe of all the characters in the movies\n",
    "\n",
    "column_characters = [\"film_id\", \"movie_id\", \"release_date\", \"character\", \"born_date\", \"gender\", \"height\", \"ethnicity\", \"actor_name\", \"actor_age_at_movie_release\", \"actor_map_ID\",\"character_ID\",\"actor_ID\"]\n",
    "\n",
    "character_df = pd.read_csv('./MovieSummaries/character.metadata.tsv', sep='\\t', header=None, names = column_characters)\n",
    "character_df.sample(10)"
   ]
  },
  {
   "cell_type": "code",
   "execution_count": 37,
   "id": "8db3ed94",
   "metadata": {},
   "outputs": [
    {
     "data": {
      "text/plain": [
       "array(['Wanda De Jesus', 'Natasha Henstridge', 'Ice Cube', ...,\n",
       "       'Susan Byrkett', 'Hal Cleaveland', 'Roberta Paterson'],\n",
       "      dtype=object)"
      ]
     },
     "execution_count": 37,
     "metadata": {},
     "output_type": "execute_result"
    }
   ],
   "source": [
    "# List of different actors \n",
    "actors = character_df['actor_name'].unique()\n",
    "\n",
    "# Number of actors per movie  \n",
    "films = character_df.groupby('movie_id').actor_name.count()\n",
    "\n",
    "# Number of characters per movie \n",
    "char = character_df.groupby('movie_id').character.count()"
   ]
  },
  {
   "cell_type": "markdown",
   "id": "29048bf5",
   "metadata": {},
   "source": [
    "We may look at the frequency of different actors (nb of movies/year), look at the histogram of number of times each actor played (distrib), look at when the age started (distrib), ..."
   ]
  },
  {
   "cell_type": "markdown",
   "id": "95971ee3",
   "metadata": {},
   "source": [
    "## Frequency of presence in movies per year "
   ]
  },
  {
   "cell_type": "code",
   "execution_count": 55,
   "id": "69aeab04",
   "metadata": {},
   "outputs": [
    {
     "data": {
      "image/png": "[encoded data removed]",
      "text/plain": [
       "<Figure size 640x480 with 1 Axes>"
      ]
     },
     "metadata": {},
     "output_type": "display_data"
    }
   ],
   "source": [
    "character_df['release_date'] = pd.to_datetime(character_df['release_date'], errors='coerce')\n",
    "\n",
    "# Group the data by 'actor_name' and the year extracted from 'release_date', then count the number of movies for each actor each year\n",
    "frequency_df = character_df.groupby(['actor_name', character_df['release_date'].dt.year]).size().reset_index(name='movie_count')\n",
    "\n",
    "sns.histplot(frequency_df['movie_count'], bins = 100, log = True)\n",
    "plt.ylabel(\"Number of actors\")\n",
    "plt.xlabel(\"Number of movies per year\")\n",
    "plt.show()"
   ]
  },
  {
   "cell_type": "markdown",
   "id": "328c5ddf",
   "metadata": {},
   "source": [
    "Possible limitations of the graph : outliers (we may look at who they are) and does a huge frquency over one year is better than a constant lower frequency ?  "
   ]
  },
  {
   "cell_type": "code",
   "execution_count": 57,
   "id": "ffa0c132",
   "metadata": {},
   "outputs": [
    {
     "name": "stdout",
     "output_type": "stream",
     "text": [
      "             actor_name  release_date  movie_count\n",
      "180202  Roscoe Arbuckle        1914.0           49\n",
      "156501     Oliver Hardy        1916.0           45\n",
      "76332      Harold Lloyd        1919.0           39\n",
      "180201  Roscoe Arbuckle        1913.0           35\n",
      "32608   Charlie Chaplin        1914.0           34\n"
     ]
    }
   ],
   "source": [
    "frequency_max = frequency_df.sort_values(by='movie_count', ascending=False)\n",
    "top5_frequency = frequency_max.head(5)\n",
    "print(top5_frequency)"
   ]
  },
  {
   "cell_type": "markdown",
   "id": "37f184a9",
   "metadata": {},
   "source": [
    "When we search for all these actors, we can see that they are all from the beginning of the movie industry (1910s, early 1920s) when the movies were quite short and silent, so the artistic approach was way more simplified as today. In fact, Roscoe Arbuckle worked as the same time as an actor, a screenwriter and a producer. \n",
    "\n",
    "By highlighting that, we could assess that taking into account the period at which the movies were produced is critical. "
   ]
  },
  {
   "cell_type": "markdown",
   "id": "ccd2edd4",
   "metadata": {},
   "source": [
    "## Number of movies per actor"
   ]
  },
  {
   "cell_type": "code",
   "execution_count": 61,
   "id": "2d77523e",
   "metadata": {},
   "outputs": [
    {
     "data": {
      "image/png": "[encoded data removed]",
      "text/plain": [
       "<Figure size 640x480 with 1 Axes>"
      ]
     },
     "metadata": {},
     "output_type": "display_data"
    }
   ],
   "source": [
    "actor_total_movie_counts = character_df.groupby('actor_name').size().reset_index(name='total_movie_count')\n",
    "\n",
    "# Create a histogram using Seaborn to visualize the number of films throughout actors' careers\n",
    "sns.histplot(actor_total_movie_counts['total_movie_count'], bins=100, log = True, kde=False)\n",
    "plt.ylabel(\"Number of actors\")\n",
    "plt.xlabel(\"Total number of movies throughout their careers\")\n",
    "plt.show()"
   ]
  },
  {
   "cell_type": "markdown",
   "id": "63cbf4d9",
   "metadata": {},
   "source": [
    "Who the hell have been involved in 791 movies ?!"
   ]
  },
  {
   "cell_type": "code",
   "execution_count": 52,
   "id": "8b141cd0",
   "metadata": {},
   "outputs": [
    {
     "name": "stdout",
     "output_type": "stream",
     "text": [
      "               actor_name  total_movie_count\n",
      "86136           Mel Blanc                791\n",
      "90201  Mithun Chakraborty                328\n",
      "95972        Oliver Hardy                299\n",
      "90474            Mohanlal                234\n",
      "90355          Moe Howard                225\n"
     ]
    }
   ],
   "source": [
    "sorted_actors = actor_total_movie_counts.sort_values(by='total_movie_count', ascending=False)\n",
    "top_5_actors = sorted_actors.head(5)\n",
    "print(top_5_actors)"
   ]
  },
  {
   "cell_type": "markdown",
   "id": "88eec5d3",
   "metadata": {},
   "source": [
    "Ok, interesting, in fact Mel Blanc is involved in all the movies because he was the voice of the well-known duo of Tom and Jerry and other less known productions where he acted as a 'double-role'. And the code does not take into account that it represents 'one' role. Here is the corrected version :"
   ]
  },
  {
   "cell_type": "code",
   "execution_count": 62,
   "id": "7aa44827",
   "metadata": {},
   "outputs": [
    {
     "data": {
      "image/png": "[encoded data removed]",
      "text/plain": [
       "<Figure size 640x480 with 1 Axes>"
      ]
     },
     "metadata": {},
     "output_type": "display_data"
    }
   ],
   "source": [
    "actor_movie_combinations = character_df.groupby(['actor_name', 'movie_id']).size().reset_index(name = 'appearance_count')\n",
    "\n",
    "actor_total_movie_counts_corrected = actor_movie_combinations.groupby('actor_name').size().reset_index(name = 'total_movie_count')\n",
    "sns.histplot(actor_total_movie_counts_corrected['total_movie_count'], bins=100, log=True)\n",
    "plt.ylabel(\"Number of actors\")\n",
    "plt.xlabel(\"Total number of movies throughout their careers (accounting for multiple characters)\")\n",
    "plt.show()"
   ]
  },
  {
   "cell_type": "code",
   "execution_count": 63,
   "id": "922cdec5",
   "metadata": {},
   "outputs": [
    {
     "name": "stdout",
     "output_type": "stream",
     "text": [
      "               actor_name  total_movie_count\n",
      "86136           Mel Blanc                575\n",
      "90201  Mithun Chakraborty                328\n",
      "95972        Oliver Hardy                299\n",
      "90474            Mohanlal                234\n",
      "79708           Mammootty                225\n"
     ]
    }
   ],
   "source": [
    "sorted_actors_corrected = actor_total_movie_counts_corrected.sort_values(by='total_movie_count', ascending=False)\n",
    "top_5_actors_corrected = sorted_actors_corrected.head(5)\n",
    "print(top_5_actors_corrected)"
   ]
  },
  {
   "cell_type": "markdown",
   "id": "e1999d25",
   "metadata": {},
   "source": [
    "Even after correction, the top 4 remains still but another indian actor joins the leaderboard : Mammootty. In fact, we may have to consider productions locally and by period too, because the leaderboard is exclusively from America in the early ages of cinema and from India nowadays for example."
   ]
  },
  {
   "cell_type": "markdown",
   "id": "ee39bf21",
   "metadata": {},
   "source": [
    "## Further analysis"
   ]
  },
  {
   "cell_type": "code",
   "execution_count": null,
   "id": "e71e5963",
   "metadata": {},
   "outputs": [],
   "source": []
  }
 ],
 "metadata": {
  "kernelspec": {
   "display_name": "Python 3 (ipykernel)",
   "language": "python",
   "name": "python3"
  },
  "language_info": {
   "codemirror_mode": {
    "name": "ipython",
    "version": 3
   },
   "file_extension": ".py",
   "mimetype": "text/x-python",
   "name": "python",
   "nbconvert_exporter": "python",
   "pygments_lexer": "ipython3",
   "version": "3.11.5"
  }
 },
 "nbformat": 4,
 "nbformat_minor": 5
}
