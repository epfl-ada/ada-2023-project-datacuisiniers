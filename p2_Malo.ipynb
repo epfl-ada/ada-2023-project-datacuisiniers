{
 "cells": [
  {
   "cell_type": "markdown",
   "id": "1676a533",
   "metadata": {},
   "source": [
    "## Data loading"
   ]
  },
  {
   "cell_type": "code",
   "execution_count": 43,
   "id": "5be55e30",
   "metadata": {},
   "outputs": [],
   "source": [
    "import pandas as pd\n",
    "import seaborn as sns\n",
    "import numpy as np\n",
    "from collections import Counter\n",
    "import matplotlib.pyplot as plt\n",
    "%matplotlib inline"
   ]
  },
  {
   "cell_type": "code",
   "execution_count": 30,
   "id": "1f639ff5",
   "metadata": {},
   "outputs": [
    {
     "data": {
      "text/html": [
       "<div>\n",
       "<style scoped>\n",
       "    .dataframe tbody tr th:only-of-type {\n",
       "        vertical-align: middle;\n",
       "    }\n",
       "\n",
       "    .dataframe tbody tr th {\n",
       "        vertical-align: top;\n",
       "    }\n",
       "\n",
       "    .dataframe thead th {\n",
       "        text-align: right;\n",
       "    }\n",
       "</style>\n",
       "<table border=\"1\" class=\"dataframe\">\n",
       "  <thead>\n",
       "    <tr style=\"text-align: right;\">\n",
       "      <th></th>\n",
       "      <th>film_id</th>\n",
       "      <th>movie_id</th>\n",
       "      <th>title</th>\n",
       "      <th>release_date</th>\n",
       "      <th>gross_revenue</th>\n",
       "      <th>duration_min</th>\n",
       "      <th>language</th>\n",
       "      <th>country</th>\n",
       "      <th>categories</th>\n",
       "    </tr>\n",
       "  </thead>\n",
       "  <tbody>\n",
       "    <tr>\n",
       "      <th>0</th>\n",
       "      <td>975900</td>\n",
       "      <td>/m/03vyhn</td>\n",
       "      <td>Ghosts of Mars</td>\n",
       "      <td>2001-08-24</td>\n",
       "      <td>14010832.0</td>\n",
       "      <td>98.0</td>\n",
       "      <td>{\"/m/02h40lc\": \"English Language\"}</td>\n",
       "      <td>{\"/m/09c7w0\": \"United States of America\"}</td>\n",
       "      <td>{\"/m/01jfsb\": \"Thriller\", \"/m/06n90\": \"Science...</td>\n",
       "    </tr>\n",
       "    <tr>\n",
       "      <th>1</th>\n",
       "      <td>3196793</td>\n",
       "      <td>/m/08yl5d</td>\n",
       "      <td>Getting Away with Murder: The JonBenét Ramsey ...</td>\n",
       "      <td>2000-02-16</td>\n",
       "      <td>NaN</td>\n",
       "      <td>95.0</td>\n",
       "      <td>{\"/m/02h40lc\": \"English Language\"}</td>\n",
       "      <td>{\"/m/09c7w0\": \"United States of America\"}</td>\n",
       "      <td>{\"/m/02n4kr\": \"Mystery\", \"/m/03bxz7\": \"Biograp...</td>\n",
       "    </tr>\n",
       "    <tr>\n",
       "      <th>2</th>\n",
       "      <td>28463795</td>\n",
       "      <td>/m/0crgdbh</td>\n",
       "      <td>Brun bitter</td>\n",
       "      <td>1988</td>\n",
       "      <td>NaN</td>\n",
       "      <td>83.0</td>\n",
       "      <td>{\"/m/05f_3\": \"Norwegian Language\"}</td>\n",
       "      <td>{\"/m/05b4w\": \"Norway\"}</td>\n",
       "      <td>{\"/m/0lsxr\": \"Crime Fiction\", \"/m/07s9rl0\": \"D...</td>\n",
       "    </tr>\n",
       "    <tr>\n",
       "      <th>3</th>\n",
       "      <td>9363483</td>\n",
       "      <td>/m/0285_cd</td>\n",
       "      <td>White Of The Eye</td>\n",
       "      <td>1987</td>\n",
       "      <td>NaN</td>\n",
       "      <td>110.0</td>\n",
       "      <td>{\"/m/02h40lc\": \"English Language\"}</td>\n",
       "      <td>{\"/m/07ssc\": \"United Kingdom\"}</td>\n",
       "      <td>{\"/m/01jfsb\": \"Thriller\", \"/m/0glj9q\": \"Erotic...</td>\n",
       "    </tr>\n",
       "    <tr>\n",
       "      <th>4</th>\n",
       "      <td>261236</td>\n",
       "      <td>/m/01mrr1</td>\n",
       "      <td>A Woman in Flames</td>\n",
       "      <td>1983</td>\n",
       "      <td>NaN</td>\n",
       "      <td>106.0</td>\n",
       "      <td>{\"/m/04306rv\": \"German Language\"}</td>\n",
       "      <td>{\"/m/0345h\": \"Germany\"}</td>\n",
       "      <td>{\"/m/07s9rl0\": \"Drama\"}</td>\n",
       "    </tr>\n",
       "  </tbody>\n",
       "</table>\n",
       "</div>"
      ],
      "text/plain": [
       "    film_id    movie_id                                              title  \\\n",
       "0    975900   /m/03vyhn                                     Ghosts of Mars   \n",
       "1   3196793   /m/08yl5d  Getting Away with Murder: The JonBenét Ramsey ...   \n",
       "2  28463795  /m/0crgdbh                                        Brun bitter   \n",
       "3   9363483  /m/0285_cd                                   White Of The Eye   \n",
       "4    261236   /m/01mrr1                                  A Woman in Flames   \n",
       "\n",
       "  release_date  gross_revenue  duration_min  \\\n",
       "0   2001-08-24     14010832.0          98.0   \n",
       "1   2000-02-16            NaN          95.0   \n",
       "2         1988            NaN          83.0   \n",
       "3         1987            NaN         110.0   \n",
       "4         1983            NaN         106.0   \n",
       "\n",
       "                             language  \\\n",
       "0  {\"/m/02h40lc\": \"English Language\"}   \n",
       "1  {\"/m/02h40lc\": \"English Language\"}   \n",
       "2  {\"/m/05f_3\": \"Norwegian Language\"}   \n",
       "3  {\"/m/02h40lc\": \"English Language\"}   \n",
       "4   {\"/m/04306rv\": \"German Language\"}   \n",
       "\n",
       "                                     country  \\\n",
       "0  {\"/m/09c7w0\": \"United States of America\"}   \n",
       "1  {\"/m/09c7w0\": \"United States of America\"}   \n",
       "2                     {\"/m/05b4w\": \"Norway\"}   \n",
       "3             {\"/m/07ssc\": \"United Kingdom\"}   \n",
       "4                    {\"/m/0345h\": \"Germany\"}   \n",
       "\n",
       "                                          categories  \n",
       "0  {\"/m/01jfsb\": \"Thriller\", \"/m/06n90\": \"Science...  \n",
       "1  {\"/m/02n4kr\": \"Mystery\", \"/m/03bxz7\": \"Biograp...  \n",
       "2  {\"/m/0lsxr\": \"Crime Fiction\", \"/m/07s9rl0\": \"D...  \n",
       "3  {\"/m/01jfsb\": \"Thriller\", \"/m/0glj9q\": \"Erotic...  \n",
       "4                            {\"/m/07s9rl0\": \"Drama\"}  "
      ]
     },
     "execution_count": 30,
     "metadata": {},
     "output_type": "execute_result"
    }
   ],
   "source": [
    "# First glimpse of all the available movies in the dataset\n",
    "\n",
    "column_movies = [\"film_id\", \"movie_id\", \"title\", \"release_date\", \"gross_revenue\", \"duration_min\", \"language\", \"country\", \"categories\"]\n",
    "\n",
    "movies_df = pd.read_csv('./Data/MovieSummaries/movie.metadata.tsv', sep='\\t', header=None, names=column_movies)\n",
    "movies_df.head()"
   ]
  },
  {
   "cell_type": "code",
   "execution_count": 31,
   "id": "58a80a6e",
   "metadata": {},
   "outputs": [
    {
     "data": {
      "text/html": [
       "<div>\n",
       "<style scoped>\n",
       "    .dataframe tbody tr th:only-of-type {\n",
       "        vertical-align: middle;\n",
       "    }\n",
       "\n",
       "    .dataframe tbody tr th {\n",
       "        vertical-align: top;\n",
       "    }\n",
       "\n",
       "    .dataframe thead th {\n",
       "        text-align: right;\n",
       "    }\n",
       "</style>\n",
       "<table border=\"1\" class=\"dataframe\">\n",
       "  <thead>\n",
       "    <tr style=\"text-align: right;\">\n",
       "      <th></th>\n",
       "      <th>film_id</th>\n",
       "      <th>movie_id</th>\n",
       "      <th>title</th>\n",
       "      <th>release_date</th>\n",
       "      <th>gross_revenue</th>\n",
       "      <th>duration_min</th>\n",
       "      <th>language</th>\n",
       "      <th>country</th>\n",
       "      <th>categories</th>\n",
       "    </tr>\n",
       "  </thead>\n",
       "  <tbody>\n",
       "    <tr>\n",
       "      <th>119</th>\n",
       "      <td>3873713</td>\n",
       "      <td>/m/0b4f1s</td>\n",
       "      <td>Lee Dae-ro Can't Die</td>\n",
       "      <td>2005-08-18</td>\n",
       "      <td>4736013.0</td>\n",
       "      <td>108.0</td>\n",
       "      <td>{\"/m/02hwhyv\": \"Korean Language\"}</td>\n",
       "      <td>{\"/m/06qd3\": \"South Korea\"}</td>\n",
       "      <td>{\"/m/02kdv5l\": \"Action\", \"/m/01z4y\": \"Comedy\"}</td>\n",
       "    </tr>\n",
       "    <tr>\n",
       "      <th>124</th>\n",
       "      <td>24282217</td>\n",
       "      <td>/m/07sb8_t</td>\n",
       "      <td>The Naked Kitchen</td>\n",
       "      <td>2009-02-05</td>\n",
       "      <td>638181.0</td>\n",
       "      <td>102.0</td>\n",
       "      <td>{\"/m/02hwhyv\": \"Korean Language\"}</td>\n",
       "      <td>{\"/m/06qd3\": \"South Korea\"}</td>\n",
       "      <td>{\"/m/03q4nz\": \"World cinema\", \"/m/01t_vv\": \"Co...</td>\n",
       "    </tr>\n",
       "    <tr>\n",
       "      <th>197</th>\n",
       "      <td>748616</td>\n",
       "      <td>/m/03813g</td>\n",
       "      <td>Spring, Summer, Fall, Winter... and Spring</td>\n",
       "      <td>2003-08-14</td>\n",
       "      <td>9524745.0</td>\n",
       "      <td>95.0</td>\n",
       "      <td>{\"/m/02hwhyv\": \"Korean Language\"}</td>\n",
       "      <td>{\"/m/06qd3\": \"South Korea\", \"/m/0345h\": \"Germa...</td>\n",
       "      <td>{\"/m/07s9rl0\": \"Drama\", \"/m/03q4nz\": \"World ci...</td>\n",
       "    </tr>\n",
       "    <tr>\n",
       "      <th>220</th>\n",
       "      <td>20119316</td>\n",
       "      <td>/m/04yfw36</td>\n",
       "      <td>Eoudong</td>\n",
       "      <td>1985-09-28</td>\n",
       "      <td>NaN</td>\n",
       "      <td>110.0</td>\n",
       "      <td>{}</td>\n",
       "      <td>{\"/m/06qd3\": \"South Korea\"}</td>\n",
       "      <td>{\"/m/07s9rl0\": \"Drama\"}</td>\n",
       "    </tr>\n",
       "    <tr>\n",
       "      <th>300</th>\n",
       "      <td>35567084</td>\n",
       "      <td>/m/0j9n5v7</td>\n",
       "      <td>I AM.</td>\n",
       "      <td>2012-05-15</td>\n",
       "      <td>NaN</td>\n",
       "      <td>130.0</td>\n",
       "      <td>{\"/m/02hwhyv\": \"Korean Language\"}</td>\n",
       "      <td>{\"/m/06qd3\": \"South Korea\"}</td>\n",
       "      <td>{\"/m/0jtdp\": \"Documentary\"}</td>\n",
       "    </tr>\n",
       "  </tbody>\n",
       "</table>\n",
       "</div>"
      ],
      "text/plain": [
       "      film_id    movie_id                                       title  \\\n",
       "119   3873713   /m/0b4f1s                        Lee Dae-ro Can't Die   \n",
       "124  24282217  /m/07sb8_t                           The Naked Kitchen   \n",
       "197    748616   /m/03813g  Spring, Summer, Fall, Winter... and Spring   \n",
       "220  20119316  /m/04yfw36                                     Eoudong   \n",
       "300  35567084  /m/0j9n5v7                                       I AM.   \n",
       "\n",
       "    release_date  gross_revenue  duration_min  \\\n",
       "119   2005-08-18      4736013.0         108.0   \n",
       "124   2009-02-05       638181.0         102.0   \n",
       "197   2003-08-14      9524745.0          95.0   \n",
       "220   1985-09-28            NaN         110.0   \n",
       "300   2012-05-15            NaN         130.0   \n",
       "\n",
       "                              language  \\\n",
       "119  {\"/m/02hwhyv\": \"Korean Language\"}   \n",
       "124  {\"/m/02hwhyv\": \"Korean Language\"}   \n",
       "197  {\"/m/02hwhyv\": \"Korean Language\"}   \n",
       "220                                 {}   \n",
       "300  {\"/m/02hwhyv\": \"Korean Language\"}   \n",
       "\n",
       "                                               country  \\\n",
       "119                        {\"/m/06qd3\": \"South Korea\"}   \n",
       "124                        {\"/m/06qd3\": \"South Korea\"}   \n",
       "197  {\"/m/06qd3\": \"South Korea\", \"/m/0345h\": \"Germa...   \n",
       "220                        {\"/m/06qd3\": \"South Korea\"}   \n",
       "300                        {\"/m/06qd3\": \"South Korea\"}   \n",
       "\n",
       "                                            categories  \n",
       "119     {\"/m/02kdv5l\": \"Action\", \"/m/01z4y\": \"Comedy\"}  \n",
       "124  {\"/m/03q4nz\": \"World cinema\", \"/m/01t_vv\": \"Co...  \n",
       "197  {\"/m/07s9rl0\": \"Drama\", \"/m/03q4nz\": \"World ci...  \n",
       "220                            {\"/m/07s9rl0\": \"Drama\"}  \n",
       "300                        {\"/m/0jtdp\": \"Documentary\"}  "
      ]
     },
     "execution_count": 31,
     "metadata": {},
     "output_type": "execute_result"
    }
   ],
   "source": [
    "# Example of local analysis (maybe useful later)\n",
    "\n",
    "korean_movies = movies_df[movies_df['country'].str.contains('Korea')]\n",
    "korean_movies.head()"
   ]
  },
  {
   "cell_type": "code",
   "execution_count": 32,
   "id": "602570f8",
   "metadata": {},
   "outputs": [
    {
     "data": {
      "text/html": [
       "<div>\n",
       "<style scoped>\n",
       "    .dataframe tbody tr th:only-of-type {\n",
       "        vertical-align: middle;\n",
       "    }\n",
       "\n",
       "    .dataframe tbody tr th {\n",
       "        vertical-align: top;\n",
       "    }\n",
       "\n",
       "    .dataframe thead th {\n",
       "        text-align: right;\n",
       "    }\n",
       "</style>\n",
       "<table border=\"1\" class=\"dataframe\">\n",
       "  <thead>\n",
       "    <tr style=\"text-align: right;\">\n",
       "      <th></th>\n",
       "      <th>film_id</th>\n",
       "      <th>movie_id</th>\n",
       "      <th>release_date</th>\n",
       "      <th>character</th>\n",
       "      <th>born_date</th>\n",
       "      <th>gender</th>\n",
       "      <th>height</th>\n",
       "      <th>ethnicity</th>\n",
       "      <th>actor_name</th>\n",
       "      <th>actor_age_at_movie_release</th>\n",
       "      <th>actor_map_ID</th>\n",
       "      <th>character_ID</th>\n",
       "      <th>actor_ID</th>\n",
       "    </tr>\n",
       "  </thead>\n",
       "  <tbody>\n",
       "    <tr>\n",
       "      <th>193818</th>\n",
       "      <td>5795788</td>\n",
       "      <td>/m/0f52ld</td>\n",
       "      <td>2007-08-24</td>\n",
       "      <td>NaN</td>\n",
       "      <td>1975-02-03</td>\n",
       "      <td>M</td>\n",
       "      <td>NaN</td>\n",
       "      <td>/m/044038p</td>\n",
       "      <td>Terry Chen</td>\n",
       "      <td>32.0</td>\n",
       "      <td>/m/03js7j2</td>\n",
       "      <td>NaN</td>\n",
       "      <td>/m/02r68t4</td>\n",
       "    </tr>\n",
       "    <tr>\n",
       "      <th>404968</th>\n",
       "      <td>163454</td>\n",
       "      <td>/m/015qr6</td>\n",
       "      <td>1973-02-14</td>\n",
       "      <td>NaN</td>\n",
       "      <td>NaN</td>\n",
       "      <td>NaN</td>\n",
       "      <td>NaN</td>\n",
       "      <td>NaN</td>\n",
       "      <td>William Hansen</td>\n",
       "      <td>NaN</td>\n",
       "      <td>/m/0cg05yy</td>\n",
       "      <td>NaN</td>\n",
       "      <td>/m/042wq3h</td>\n",
       "    </tr>\n",
       "    <tr>\n",
       "      <th>399092</th>\n",
       "      <td>2610276</td>\n",
       "      <td>/m/07rjfs</td>\n",
       "      <td>2006</td>\n",
       "      <td>NaN</td>\n",
       "      <td>NaN</td>\n",
       "      <td>M</td>\n",
       "      <td>NaN</td>\n",
       "      <td>NaN</td>\n",
       "      <td>Arcadiy Golubovich</td>\n",
       "      <td>NaN</td>\n",
       "      <td>/m/0cg249x</td>\n",
       "      <td>NaN</td>\n",
       "      <td>/m/09sjzmr</td>\n",
       "    </tr>\n",
       "    <tr>\n",
       "      <th>163339</th>\n",
       "      <td>11665498</td>\n",
       "      <td>/m/02rn7b_</td>\n",
       "      <td>2007-11</td>\n",
       "      <td>NaN</td>\n",
       "      <td>NaN</td>\n",
       "      <td>M</td>\n",
       "      <td>NaN</td>\n",
       "      <td>NaN</td>\n",
       "      <td>Ferran Terraza</td>\n",
       "      <td>NaN</td>\n",
       "      <td>/m/0h2p27l</td>\n",
       "      <td>NaN</td>\n",
       "      <td>/m/0b_h0s8</td>\n",
       "    </tr>\n",
       "    <tr>\n",
       "      <th>318539</th>\n",
       "      <td>26724867</td>\n",
       "      <td>/m/0bmhtvs</td>\n",
       "      <td>1966</td>\n",
       "      <td>NaN</td>\n",
       "      <td>1938-08-26</td>\n",
       "      <td>F</td>\n",
       "      <td>NaN</td>\n",
       "      <td>NaN</td>\n",
       "      <td>Francine York</td>\n",
       "      <td>27.0</td>\n",
       "      <td>/m/0gcxgf6</td>\n",
       "      <td>NaN</td>\n",
       "      <td>/m/0c0klk0</td>\n",
       "    </tr>\n",
       "    <tr>\n",
       "      <th>248620</th>\n",
       "      <td>31905391</td>\n",
       "      <td>/m/0gvrws1</td>\n",
       "      <td>2012-08-03</td>\n",
       "      <td>Lori</td>\n",
       "      <td>1973-07-26</td>\n",
       "      <td>F</td>\n",
       "      <td>1.7</td>\n",
       "      <td>/m/02w7gg</td>\n",
       "      <td>Kate Beckinsale</td>\n",
       "      <td>39.0</td>\n",
       "      <td>/m/0gv_890</td>\n",
       "      <td>/m/0gwhny9</td>\n",
       "      <td>/m/01pk8v</td>\n",
       "    </tr>\n",
       "    <tr>\n",
       "      <th>312705</th>\n",
       "      <td>19649081</td>\n",
       "      <td>/m/04mxxpr</td>\n",
       "      <td>1990-10-25</td>\n",
       "      <td>NaN</td>\n",
       "      <td>1966-02-06</td>\n",
       "      <td>M</td>\n",
       "      <td>NaN</td>\n",
       "      <td>NaN</td>\n",
       "      <td>Kenji Ōtsuki</td>\n",
       "      <td>24.0</td>\n",
       "      <td>/m/0mzr3xv</td>\n",
       "      <td>NaN</td>\n",
       "      <td>/m/02qtcrt</td>\n",
       "    </tr>\n",
       "    <tr>\n",
       "      <th>56376</th>\n",
       "      <td>28686989</td>\n",
       "      <td>/m/0cz7_4w</td>\n",
       "      <td>1990-05-25</td>\n",
       "      <td>Hannah Coke</td>\n",
       "      <td>1952-12-20</td>\n",
       "      <td>F</td>\n",
       "      <td>1.7</td>\n",
       "      <td>NaN</td>\n",
       "      <td>Jenny Agutter</td>\n",
       "      <td>37.0</td>\n",
       "      <td>/m/0gdp5p6</td>\n",
       "      <td>/m/0h26jrl</td>\n",
       "      <td>/m/01pcql</td>\n",
       "    </tr>\n",
       "    <tr>\n",
       "      <th>256242</th>\n",
       "      <td>12159097</td>\n",
       "      <td>/m/02vrsdr</td>\n",
       "      <td>1973</td>\n",
       "      <td>NaN</td>\n",
       "      <td>NaN</td>\n",
       "      <td>F</td>\n",
       "      <td>NaN</td>\n",
       "      <td>NaN</td>\n",
       "      <td>Tsippi Shavit</td>\n",
       "      <td>NaN</td>\n",
       "      <td>/m/0kpcfd9</td>\n",
       "      <td>NaN</td>\n",
       "      <td>/m/0kpcms4</td>\n",
       "    </tr>\n",
       "    <tr>\n",
       "      <th>355894</th>\n",
       "      <td>24008637</td>\n",
       "      <td>/m/0djc8sz</td>\n",
       "      <td>1936</td>\n",
       "      <td>NaN</td>\n",
       "      <td>1866-06-26</td>\n",
       "      <td>M</td>\n",
       "      <td>NaN</td>\n",
       "      <td>NaN</td>\n",
       "      <td>Josef Swickard</td>\n",
       "      <td>NaN</td>\n",
       "      <td>/m/0djcxky</td>\n",
       "      <td>NaN</td>\n",
       "      <td>/m/0c3ts7</td>\n",
       "    </tr>\n",
       "  </tbody>\n",
       "</table>\n",
       "</div>"
      ],
      "text/plain": [
       "         film_id    movie_id release_date    character   born_date gender  \\\n",
       "193818   5795788   /m/0f52ld   2007-08-24          NaN  1975-02-03      M   \n",
       "404968    163454   /m/015qr6   1973-02-14          NaN         NaN    NaN   \n",
       "399092   2610276   /m/07rjfs         2006          NaN         NaN      M   \n",
       "163339  11665498  /m/02rn7b_      2007-11          NaN         NaN      M   \n",
       "318539  26724867  /m/0bmhtvs         1966          NaN  1938-08-26      F   \n",
       "248620  31905391  /m/0gvrws1   2012-08-03         Lori  1973-07-26      F   \n",
       "312705  19649081  /m/04mxxpr   1990-10-25          NaN  1966-02-06      M   \n",
       "56376   28686989  /m/0cz7_4w   1990-05-25  Hannah Coke  1952-12-20      F   \n",
       "256242  12159097  /m/02vrsdr         1973          NaN         NaN      F   \n",
       "355894  24008637  /m/0djc8sz         1936          NaN  1866-06-26      M   \n",
       "\n",
       "        height   ethnicity          actor_name  actor_age_at_movie_release  \\\n",
       "193818     NaN  /m/044038p          Terry Chen                        32.0   \n",
       "404968     NaN         NaN      William Hansen                         NaN   \n",
       "399092     NaN         NaN  Arcadiy Golubovich                         NaN   \n",
       "163339     NaN         NaN      Ferran Terraza                         NaN   \n",
       "318539     NaN         NaN       Francine York                        27.0   \n",
       "248620     1.7   /m/02w7gg     Kate Beckinsale                        39.0   \n",
       "312705     NaN         NaN        Kenji Ōtsuki                        24.0   \n",
       "56376      1.7         NaN       Jenny Agutter                        37.0   \n",
       "256242     NaN         NaN       Tsippi Shavit                         NaN   \n",
       "355894     NaN         NaN      Josef Swickard                         NaN   \n",
       "\n",
       "       actor_map_ID character_ID    actor_ID  \n",
       "193818   /m/03js7j2          NaN  /m/02r68t4  \n",
       "404968   /m/0cg05yy          NaN  /m/042wq3h  \n",
       "399092   /m/0cg249x          NaN  /m/09sjzmr  \n",
       "163339   /m/0h2p27l          NaN  /m/0b_h0s8  \n",
       "318539   /m/0gcxgf6          NaN  /m/0c0klk0  \n",
       "248620   /m/0gv_890   /m/0gwhny9   /m/01pk8v  \n",
       "312705   /m/0mzr3xv          NaN  /m/02qtcrt  \n",
       "56376    /m/0gdp5p6   /m/0h26jrl   /m/01pcql  \n",
       "256242   /m/0kpcfd9          NaN  /m/0kpcms4  \n",
       "355894   /m/0djcxky          NaN   /m/0c3ts7  "
      ]
     },
     "execution_count": 32,
     "metadata": {},
     "output_type": "execute_result"
    }
   ],
   "source": [
    "# Dataframe of all the characters in the movies\n",
    "\n",
    "column_characters = [\"film_id\", \"movie_id\", \"release_date\", \"character\", \"born_date\", \"gender\", \"height\", \"ethnicity\", \"actor_name\", \"actor_age_at_movie_release\", \"actor_map_ID\",\"character_ID\",\"actor_ID\"]\n",
    "\n",
    "character_df = pd.read_csv('./Data/MovieSummaries/character.metadata.tsv', sep='\\t', header=None, names = column_characters)\n",
    "character_df.sample(10)"
   ]
  },
  {
   "cell_type": "code",
   "execution_count": 33,
   "id": "8db3ed94",
   "metadata": {},
   "outputs": [],
   "source": [
    "# List of different actors \n",
    "actors = character_df['actor_name'].unique()\n",
    "\n",
    "# Number of actors per movie  \n",
    "films = character_df.groupby('movie_id').actor_name.count()\n",
    "\n",
    "# Number of characters per movie \n",
    "char = character_df.groupby('movie_id').character.count()"
   ]
  },
  {
   "cell_type": "markdown",
   "id": "29048bf5",
   "metadata": {},
   "source": [
    "We may look at the frequency of different actors (nb of movies/year), look at the histogram of number of times each actor played (distrib), look at when the age started (distrib), ..."
   ]
  },
  {
   "cell_type": "markdown",
   "id": "95971ee3",
   "metadata": {},
   "source": [
    "## Frequency of presence in movies per year "
   ]
  },
  {
   "cell_type": "code",
   "execution_count": 34,
   "id": "69aeab04",
   "metadata": {},
   "outputs": [
    {
     "data": {
      "image/png": "[encoded data removed]",
      "text/plain": [
       "<Figure size 640x480 with 1 Axes>"
      ]
     },
     "metadata": {},
     "output_type": "display_data"
    }
   ],
   "source": [
    "character_df['release_date'] = pd.to_datetime(character_df['release_date'], errors='coerce')\n",
    "\n",
    "frequency_df = character_df.groupby(['actor_name', character_df['release_date'].dt.year]).size().reset_index(name='movie_count')\n",
    "sns.histplot(frequency_df['movie_count'], bins = 50, log = True)\n",
    "plt.ylabel(\"Number of actors\")\n",
    "plt.xlabel(\"Number of movies per year\")\n",
    "plt.show()"
   ]
  },
  {
   "cell_type": "markdown",
   "id": "328c5ddf",
   "metadata": {},
   "source": [
    "Possible limitations of the graph : outliers (we may look at who they are) and does a huge frquency over one year is better than a constant lower frequency ?  "
   ]
  },
  {
   "cell_type": "code",
   "execution_count": 35,
   "id": "ffa0c132",
   "metadata": {},
   "outputs": [
    {
     "name": "stdout",
     "output_type": "stream",
     "text": [
      "             actor_name  release_date  movie_count\n",
      "180202  Roscoe Arbuckle        1914.0           49\n",
      "156501     Oliver Hardy        1916.0           45\n",
      "76332      Harold Lloyd        1919.0           39\n",
      "180201  Roscoe Arbuckle        1913.0           35\n",
      "32608   Charlie Chaplin        1914.0           34\n"
     ]
    }
   ],
   "source": [
    "frequency_max = frequency_df.sort_values(by='movie_count', ascending=False)\n",
    "top5_frequency = frequency_max.head(5)\n",
    "print(top5_frequency)"
   ]
  },
  {
   "cell_type": "markdown",
   "id": "37f184a9",
   "metadata": {},
   "source": [
    "When we search for all these actors, we can see that they are all from the beginning of the movie industry (1910s, early 1920s) when the movies were quite short and silent, so the artistic approach was way more simplified as today. In fact, Roscoe Arbuckle worked as the same time as an actor, a screenwriter and a producer. \n",
    "\n",
    "By highlighting that, we could assess that taking into account the period at which the movies were produced is critical. "
   ]
  },
  {
   "cell_type": "markdown",
   "id": "ccd2edd4",
   "metadata": {},
   "source": [
    "## Number of movies per actor"
   ]
  },
  {
   "cell_type": "code",
   "execution_count": 36,
   "id": "2d77523e",
   "metadata": {},
   "outputs": [
    {
     "data": {
      "image/png": "[encoded data removed]",
      "text/plain": [
       "<Figure size 640x480 with 1 Axes>"
      ]
     },
     "metadata": {},
     "output_type": "display_data"
    }
   ],
   "source": [
    "actor_total_movie_counts = character_df.groupby('actor_name').size().reset_index(name='total_movie_count')\n",
    "\n",
    "sns.histplot(actor_total_movie_counts['total_movie_count'], bins=50, log = True, kde=False)\n",
    "plt.ylabel(\"Number of actors\")\n",
    "plt.xlabel(\"Total number of movies throughout their careers\")\n",
    "plt.show()"
   ]
  },
  {
   "cell_type": "markdown",
   "id": "63cbf4d9",
   "metadata": {},
   "source": [
    "Who have been involved in 791 movies ?!"
   ]
  },
  {
   "cell_type": "code",
   "execution_count": 37,
   "id": "8b141cd0",
   "metadata": {},
   "outputs": [
    {
     "name": "stdout",
     "output_type": "stream",
     "text": [
      "               actor_name  total_movie_count\n",
      "86136           Mel Blanc                791\n",
      "90201  Mithun Chakraborty                328\n",
      "95972        Oliver Hardy                299\n",
      "90474            Mohanlal                234\n",
      "90355          Moe Howard                225\n"
     ]
    }
   ],
   "source": [
    "sorted_actors = actor_total_movie_counts.sort_values(by='total_movie_count', ascending=False)\n",
    "top_5_actors = sorted_actors.head(5)\n",
    "print(top_5_actors)"
   ]
  },
  {
   "cell_type": "markdown",
   "id": "88eec5d3",
   "metadata": {},
   "source": [
    "Ok, interesting, in fact Mel Blanc is involved in all the movies because he was the voice of the well-known duo of Tom and Jerry and other less known productions where he acted as a 'double-role'. And the code does not take into account that it represents 'one' role. Here is the corrected version :"
   ]
  },
  {
   "cell_type": "code",
   "execution_count": 38,
   "id": "7aa44827",
   "metadata": {},
   "outputs": [
    {
     "data": {
      "image/png": "[encoded data removed]",
      "text/plain": [
       "<Figure size 640x480 with 1 Axes>"
      ]
     },
     "metadata": {},
     "output_type": "display_data"
    }
   ],
   "source": [
    "actor_movie_comb = character_df.groupby(['actor_name', 'movie_id']).size().reset_index(name = 'appearance_count')\n",
    "\n",
    "actor_total_movie_counts_corrected = actor_movie_comb.groupby('actor_name').size().reset_index(name = 'total_movie_count')\n",
    "sns.histplot(actor_total_movie_counts_corrected['total_movie_count'], bins=50, log=True)\n",
    "plt.ylabel(\"Number of actors\")\n",
    "plt.xlabel(\"Total number of movies throughout their careers (accounting for multiple characters)\")\n",
    "plt.show()"
   ]
  },
  {
   "cell_type": "code",
   "execution_count": 39,
   "id": "922cdec5",
   "metadata": {},
   "outputs": [
    {
     "name": "stdout",
     "output_type": "stream",
     "text": [
      "               actor_name  total_movie_count\n",
      "86136           Mel Blanc                575\n",
      "90201  Mithun Chakraborty                328\n",
      "95972        Oliver Hardy                299\n",
      "90474            Mohanlal                234\n",
      "79708           Mammootty                225\n"
     ]
    }
   ],
   "source": [
    "sorted_actors_corrected = actor_total_movie_counts_corrected.sort_values(by='total_movie_count', ascending=False) \n",
    "top_5_actors_corrected = sorted_actors_corrected.head(5)\n",
    "print(top_5_actors_corrected)"
   ]
  },
  {
   "cell_type": "markdown",
   "id": "e1999d25",
   "metadata": {},
   "source": [
    "Even after correction, the top 4 remains still but another indian actor joins the leaderboard : Mammootty. In fact, we may have to consider productions locally and by period too, because the leaderboard is exclusively from America in the early ages of cinema and from India nowadays for example."
   ]
  },
  {
   "cell_type": "markdown",
   "id": "ee39bf21",
   "metadata": {},
   "source": [
    "## Number of different characters interpreted"
   ]
  },
  {
   "cell_type": "markdown",
   "id": "e93b1b09",
   "metadata": {},
   "source": [
    "Another possibility would be to consider whether the actor is able to interpret a wide range of roles or to act as the same character all his career. "
   ]
  },
  {
   "cell_type": "code",
   "execution_count": 53,
   "id": "09edcd8e",
   "metadata": {},
   "outputs": [
    {
     "data": {
      "image/png": "[encoded data removed]",
      "text/plain": [
       "<Figure size 640x480 with 1 Axes>"
      ]
     },
     "metadata": {},
     "output_type": "display_data"
    }
   ],
   "source": [
    "nb_roles = character_df.groupby(['actor_name', 'character']).size().reset_index(name='role_count')\n",
    "\n",
    "nb_roles = nb_roles.groupby('actor_name').size().reset_index(name='role_count')\n",
    "sns.histplot(actor_total_roles['total_role_count'], bins=50, log=True, kde=False)\n",
    "plt.ylabel(\"Number of actors\")\n",
    "plt.xlabel(\"Total number of different roles played throughout their careers\")\n",
    "plt.show()"
   ]
  },
  {
   "cell_type": "markdown",
   "id": "cec333b8",
   "metadata": {},
   "source": [
    "We could delve into the details of each roles but this dataset might have missing values concerning characters played. Let's check :"
   ]
  },
  {
   "cell_type": "code",
   "execution_count": 54,
   "id": "e39876d9",
   "metadata": {},
   "outputs": [
    {
     "name": "stderr",
     "output_type": "stream",
     "text": [
      "C:\\Users\\malou\\AppData\\Local\\Temp\\ipykernel_15648\\3249113460.py:3: FutureWarning: \n",
      "\n",
      "Passing `palette` without assigning `hue` is deprecated and will be removed in v0.14.0. Assign the `x` variable to `hue` and set `legend=False` for the same effect.\n",
      "\n",
      "  sns.barplot(x=missing_percent.index, y=missing_percent.values, palette=\"Reds\")\n"
     ]
    },
    {
     "data": {
      "image/png": "[encoded data removed]",
      "text/plain": [
       "<Figure size 1000x600 with 1 Axes>"
      ]
     },
     "metadata": {},
     "output_type": "display_data"
    }
   ],
   "source": [
    "missing_percent = (character_df.isna().mean() * 100)\n",
    "plt.figure(figsize=(10, 6))\n",
    "sns.barplot(x=missing_percent.index, y=missing_percent.values, palette=\"Reds\")\n",
    "plt.xticks(rotation=90)\n",
    "plt.xlabel('Columns')\n",
    "plt.ylabel('Missing Values (%)')\n",
    "plt.title('Percentage of Missing Values per Column')\n",
    "plt.show()"
   ]
  },
  {
   "cell_type": "markdown",
   "id": "42949bc2",
   "metadata": {},
   "source": [
    "Indeed, the proportion of missing values concerning missing characters is way above 50% so is it relevant to pursue this analysis ? "
   ]
  },
  {
   "cell_type": "code",
   "execution_count": null,
   "id": "2ed545b7",
   "metadata": {},
   "outputs": [],
   "source": []
  }
 ],
 "metadata": {
  "kernelspec": {
   "display_name": "Python 3 (ipykernel)",
   "language": "python",
   "name": "python3"
  },
  "language_info": {
   "codemirror_mode": {
    "name": "ipython",
    "version": 3
   },
   "file_extension": ".py",
   "mimetype": "text/x-python",
   "name": "python",
   "nbconvert_exporter": "python",
   "pygments_lexer": "ipython3",
   "version": "3.11.5"
  }
 },
 "nbformat": 4,
 "nbformat_minor": 5
}
